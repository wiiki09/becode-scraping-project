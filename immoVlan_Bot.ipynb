{
 "metadata": {
  "language_info": {
   "codemirror_mode": {
    "name": "ipython",
    "version": 3
   },
   "file_extension": ".py",
   "mimetype": "text/x-python",
   "name": "python",
   "nbconvert_exporter": "python",
   "pygments_lexer": "ipython3",
   "version": "3.8.3-final"
  },
  "orig_nbformat": 2,
  "kernelspec": {
   "name": "Python 3.8.3 64-bit (conda)",
   "display_name": "Python 3.8.3 64-bit (conda)",
   "metadata": {
    "interpreter": {
     "hash": "3b1a8060338225f2bebef7ac4b2e7f6bf43c2f4428566c5ddcf188aa63f7df5e"
    }
   }
  }
 },
 "nbformat": 4,
 "nbformat_minor": 2,
 "cells": [
  {
   "source": [
    "## Mini Bot"
   ],
   "cell_type": "markdown",
   "metadata": {}
  },
  {
   "cell_type": "code",
   "execution_count": 4,
   "metadata": {
    "tags": []
   },
   "outputs": [
    {
     "output_type": "stream",
     "name": "stdout",
     "text": "Real estate website in Belgium. All the properties for sale and for rent in Belgium!\n"
    }
   ],
   "source": [
    "from selenium import webdriver\n",
    "from selenium.webdriver.common.keys import Keys #gives me access to the enter key \n",
    "from selenium.webdriver.support.ui import WebDriverWait\n",
    "from selenium.webdriver.support import expected_conditions as EC\n",
    "from selenium.common.exceptions import TimeoutException\n",
    "from selenium.webdriver.common.by import By\n",
    "from bs4 import BeautifulSoup\n",
    "import requests\n",
    "import time\n",
    "\n",
    "# PATH = \"/usr/bin/chromedriver\" # For Linux\n",
    "PATH = \"C:\\\\Users\\\\didie\\\\WebDrivers\\\\chromedriver.exe\" # my path from windows\n",
    "\n",
    "driver = webdriver.Chrome(PATH)\n",
    "\n",
    "# Request init\n",
    "driver.get(\"https://immo.vlan.be/en\") \n",
    "\n",
    "\n",
    "print(driver.title) # Check to see if OK!!!\n",
    "# driver.close() # to close the tab but I can use quit to quit the application\n",
    "\n"
   ]
  },
  {
   "source": [
    "### Cookie window management"
   ],
   "cell_type": "markdown",
   "metadata": {}
  },
  {
   "cell_type": "code",
   "execution_count": 5,
   "metadata": {
    "tags": []
   },
   "outputs": [
    {
     "output_type": "stream",
     "name": "stdout",
     "text": "Popup closed\n"
    }
   ],
   "source": [
    "# first Id than name than class\n",
    "# let's get rid of the cookie pop window\n",
    "time.sleep(3)\n",
    "\n",
    "def remove_popup():\n",
    "    # Target button exit popup\n",
    "    cookie_btn = driver.find_elements_by_id(\"didomi-notice-agree-button\")\n",
    "\n",
    "    # click to close Popup  \n",
    "    cookie_btn[0].click()\n",
    "\n",
    "\n",
    "remove_popup()\n",
    "print(\"Popup closed\")"
   ]
  },
  {
   "source": [
    "### Constant, variable and method"
   ],
   "cell_type": "markdown",
   "metadata": {}
  },
  {
   "cell_type": "code",
   "execution_count": 6,
   "metadata": {},
   "outputs": [],
   "source": [
    "# Areas ---- Provinces of Belgium ===> Search window Object\n",
    "# list of my Areas \n",
    "Areas = [\"Brussels (1000)\", \"Antwerp\", \"Hainaut (Province)\", \"West Flanders (Province)\", \"East Flanders (Province)\", \"Namur\", \"Luxembourg\" , \"Liege\", \"Brabant Wallon (Province)\", \"Brabant flamand (Province)\", \"Vlaams-Brabant (Province)\", \"Limburg\"]\n"
   ]
  },
  {
   "source": [
    "## Function Helper and Methods\n",
    "\n",
    "#### For Window search page"
   ],
   "cell_type": "markdown",
   "metadata": {}
  },
  {
   "cell_type": "code",
   "execution_count": 7,
   "metadata": {},
   "outputs": [],
   "source": [
    "# search by regions === > Search Window Object\n",
    "def target_search_button(driver):\n",
    "    return driver.find_element_by_name(\"search\")\n",
    "\n",
    "\n",
    "def initiation_search_by_area(search_location_input, Areas):\n",
    "    # Sending text on the input form\n",
    "    search_location_input.send_keys(Areas[0])\n",
    "    time.sleep(1)\n",
    "    #click to fetch go on result page\n",
    "    search_location_input.send_keys(Keys.RETURN) \n",
    "\n"
   ]
  },
  {
   "source": [
    "#### For List Views ThumbNails"
   ],
   "cell_type": "markdown",
   "metadata": {}
  },
  {
   "cell_type": "code",
   "execution_count": 8,
   "metadata": {},
   "outputs": [],
   "source": [
    "# vaccum page list\n",
    "def store_list_view_container():\n",
    "    time.sleep(1)\n",
    "    return driver.find_element_by_xpath(\"//div[contains(@id, 'app-search')]\")\n",
    "    # return WebDriverWait(driver, 10).until(EC.presence_of_all_element_located((By.XPATH, \"//div[contains(@id, 'app-search')]\")))\n",
    "\n",
    "# Create thumbnails list\n",
    "def create_thumbs():\n",
    "    # Second Method\n",
    "    return store_list_view_container()\n",
    "\n",
    "def create_propreties(thumbnails):\n",
    "    print(thumbnails.text)\n",
    "    #Creation container de propreties\n",
    "    # 1 Method return thumbnails.find_elements_by_xpath(\"//a[contains(@href, '/en/detail')]\") \n",
    "    time.sleep(2)\n",
    "    return WebDriverWait(driver, 5).until(EC.presence_of_all_elements_located((By.XPATH, \"//a[contains(@href, '/en/detail')]\"))) "
   ]
  },
  {
   "cell_type": "code",
   "execution_count": 9,
   "metadata": {},
   "outputs": [],
   "source": [
    "def create_pages_link(propreties_thum, properties_links):\n",
    "    for property in propreties_thum:\n",
    "        if property.get_attribute('href') not in properties_links and '/en/detail/' in property.get_attribute('href'):\n",
    "            # print(property.get_attribute('href')) \n",
    "            properties_links.append(property.get_attribute('href'))"
   ]
  },
  {
   "source": [
    "### Tag Location "
   ],
   "cell_type": "markdown",
   "metadata": {}
  },
  {
   "cell_type": "code",
   "execution_count": 10,
   "metadata": {},
   "outputs": [],
   "source": [
    "\n",
    "search_location_input = target_search_button(driver)\n",
    "time.sleep(2)\n",
    "\n",
    "initiation_search_by_area(search_location_input, Areas)\n",
    "\n",
    "# time.sleep(5)\n",
    "# driver.quit()"
   ]
  },
  {
   "source": [
    "# Isolation of single list view"
   ],
   "cell_type": "markdown",
   "metadata": {}
  },
  {
   "cell_type": "code",
   "execution_count": 11,
   "metadata": {
    "tags": []
   },
   "outputs": [
    {
     "output_type": "stream",
     "name": "stdout",
     "text": "Real Estate\nPROPERTY TYPE\nFlat (29508)\nHouse (24561)\nLand (5883)\nBusiness (5837)\nInvestment property (1944)\nGarage (1399)\nMiscellaneous (275)\nStudent housing (77)\nTRANSACTION TYPE\nfor sale\n (69000)\nfor rent\n (20961)\nin public sale\n (484)\nto share\n (11)\nLOCATION\nPRICE\nPOPULAR CRITERIA\nCOUNTRY\nBEDROOMS\nLIVABLE SURFACE\nTOTAL SURFACE\nBATHROOMS\nCONSTRUCTION TYPE\nPROPERTY CONDITION\nMORE OPTIONS\nPROVIDER\nRESET\nWe search on your behalf!\nGet notified as soon as a new property matching your search appears!\nReceive an email each time there&#39;s a property that meets your criteria!\nCreate your alert now\nWe search on your behalf!\nGet notified as soon as a new property matching your search appears!\nReceive an email each time there&#39;s a property that meets your criteria!\nCreate your alert now\n69484 properties for sale\nToggle Dropdown\nSort\nMap\nBEST OF\n258.000 €\nResidence for sale\n9900 Eeklo\n2-gevelwoning in verkaveling welke kindvriendelijk als woonerf wordt ingericht met grote groen- en speelzone; Heerlijk rustige ligging in groene omgeving van een vroegere kloostertuin. De woning besta ...  Want to know more?\n3\n147.63 m²\n1\n178 m²\nCONTACT\nDETAILS\nBEST OF\n268.000 €\nResidence for sale\n9900 Eeklo\n3-gevelwoning in verkaveling welke kindvriendelijk als woonerf wordt ingericht met grote groen- en speelzone; Heerlijk rustige ligging in groene omgeving van een vroegere kloostertuin. De woning besta ...  Want to know more?\n3\n149.78 m²\n1\n178 m²\nCONTACT\nDETAILS\nBEST OF\n85.000 €\nFlat - Apartment for sale\n6040 Jumet\nAppartement 2 chambres avec balcon remis à neuf situé au 1er étage d&#39;une copropriété de 8 unités. (PAS D&#39;ASCENSEUR). COMPOSITION : hall d&#39;entrée, grand living, cuisine équipée, une salle de bain, un w ...  Want to know more?\n2\n100 m²\n1\nCONTACT\nDETAILS\nBEST OF\n84.000 €\nGround floor for sale\n6043 Ransart\nrez avec jardin  Want to know more?\n1\n66 m²\n1\nCONTACT\nDETAILS\nBEST OF\n114.000 €\nDuplex for sale\n6043 Ransart\nDUPLEX  Want to know more?\n2\n128 m²\n1\nCONTACT\nDETAILS\nBEST OF\n165.000 €\nResidence for sale\n7600 Péruwelz\nREF-680 - PERUWELZ 7600 (côté Wiers)- Jolie maison 3 façades rénovée. - Salle à manger, Salon, Cuisine équipée, Salle de Bains, 2/3 Chambres, Dressing, Cave, Remise, dépendances, Jardin, Garage. - Dou ...  Want to know more?\n2\n118 m²\n1\n250 m²\nCONTACT\nDETAILS\nBEST OF\n230.000 €\nFlat - Apartment for sale\n8500 Kortrijk\nMet trots stellen we Residentie &quot;Park Lane&quot; aan u voor, een stijlvol woonproject gelegen in de Koning Albertstraat te Kortrijk. Het geniet tegelijk van de rust met binnentuin in een stad, bevindt zich ...  Want to know more?\n1\n1\n10 m²\nCONTACT\nDETAILS\nBEST OF\nFlat - Apartment for sale\n3500 Hasselt\nProject: Residentie Uilenspiegel\nMeer info ophttps:/ ### wonen op een droomlocatie in hartje HasseltIn het hart van mode- en cultuurstad Hasselt bouwt Ivo Verca ...  Want to know more?\n2\n125 m²\n1\nCONTACT\nDETAILS\nBEST OF\n302.765 €\nResidence for sale\n8972 Proven\nProject: Bouwgronden en nieuwe won...\nEen nieuwe thuis in Proven? Ontdek deze kleinschalige, aangename verkaveling in het gezellige Proven, op 7 km van Poperinge. Je geniet er van de charme van deze landelijke gemeente met idyllische verg ...  Want to know more?\n3\n1\n397 m²\nCONTACT\nDETAILS\nBEST OF\n990.000 €\nVilla for sale\n1700 Dilbeek\nA proximité des grands axes, près de la sortie du RING. Superbe Villa 4 façades de +/-230m² en parfait état située dans un quartier très calme et verdoyant. Elle se compose d&#39;un agréable hall d&#39;entrée ...  Want to know more?\n2\n2000 m²\n2370 m²\nCONTACT\nDETAILS\nBEST OF\n395.000 €\nResidence for sale\n3061 Leefdaal\nImmo 3000 heeft deze ruime woning te koop van wel 237m² bewoonbare oppervlakte in Leefdaal, tussen Leuven en Brussel. Parkeren kan perfect op de oprit, waar plaats is voor 3 wagens. Gezien dit een voo ...  Want to know more?\n5\n237 m²\n1\n385 m²\nCONTACT\nDETAILS\nBEST OF\n90.000 €\nResidence for sale\n7130 Binche\nLooking for a house in the center of Binche? You do not want to do a lot of work? Do you need space? This house located close to the center of Binche is then made for you! ! You can enjoy on the groun ...  Want to know more?\n4\n130 m²\n1\n70 m²\nCONTACT\nDETAILS\nBEST OF\n249.000 €\nReturn building for sale\n6180 Courcelles\nImmeuble de rapport à rafraîchir/moderniser très bien situé en centre-ville à proximité des commerces et services divers. Immeuble divisé en 7 logements, permis de location à renouveler. Actuellement ...  Want to know more?\nCONTACT\nDETAILS\nBEST OF\n395.000 €\nResidence for sale\n9890 Gavere\nDeze unieke eigendom is gelegen op enkele minuten van het aangename centrum van Gavere. Dit pand heeft een vlotte bereikbaarheid wegens de nabijheid van de N60 en oprit E17, waardoor dit een echte top ...  Want to know more?\n2\n274 m²\n1\n635 m²\nCONTACT\nDETAILS\nBEST OF\n1.300.000 €\nVilla for sale\n9831 Deurle\nDeze unieke en centraal gelegen eigendom te Deurle werd gebouwd in het jaar 2000 op een perceel van 2.200 m² groot, dewelke een idyllische tuin herbergt. Via de automatische houten poort kan men deze ...  Want to know more?\n498 m²\n2\n4\nCONTACT\nDETAILS\nBEST OF\n118.000 €\nResidence for sale\n8770 Ingelmunster\nKnusse gezellige rijwoning met klein koertje achteraan. Mogelijkheid tot bijmaken groot dakterras op plat dak van uitbouw achteraan. Instapklare woning met verwarming op aardgaskachel en pelletkachel. ...  Want to know more?\n1\n1\n62 m²\nCONTACT\nDETAILS\nBEST OF\n239.000 €\nFlat - Apartment for sale\n9200 Appels\nDit nieuwbouwproject is zeer rustig gelegen in een groene omgeving, voorzien van een vlotte verbinding naar Aalst/Wetteren. Dit nieuwbouwappartement van 88 m² is gelegen op de gelijkvloerse verdieping ...  Want to know more?\n2\n1\n1\n36 m²\nCONTACT\nDETAILS\nBEST OF\n99.000 €\nFlat - Studio for sale\n8670 Koksijde\nThis interesting investment opportunity in the Victory residence is located at the corner of the Zeelaan and the Lalouxlaan.The centrally located studio with sleeping area is also within walking dista ...  Want to know more?\n38 m²\n1\nCONTACT\nDETAILS\nBEST OF\n265.000 €\nFlat - Apartment for sale\n8020 Ruddervoorde\nProject: 2292106\nBel ons voor een privé bezoek in het prachtige model appartement; Dit project staat voor stijlvol en hedendaags wonen in een zeer energiezuinig appartement. Klinkt goed? Grijp dan nu je kans!; Residen ...  Want to know more?\n2\n93.7 m²\n1\nCONTACT\nDETAILS\nBEST OF\n269.000 €\nResidence for sale\n9450 Denderhoutem\nInstapklare gezinswoning met tal van ruimte, gelegen in het dorpscentrum van Denderhoutem, baan naar Ninove! Woning omvattende een inkomhal, apart toilet, bureauruimte, salon, eetplaats met open keuke ...  Want to know more?\n4\n185 m²\n1\nCONTACT\nDETAILS\nBEST OF\n134.500 €\nFlat - Apartment for sale\n9700 Oudenaarde\nDit appartement is gelegen in Leupegem en is gelegen op het gelijkvloers verdiep. Dit dient samen te worden aangekocht met het appartement op het eerste verdiep (volledig gebouw). Dit appartement heef ...  Want to know more?\n2\n135 m²\nCONTACT\nDETAILS\nBEST OF\n134.500 €\nFlat - Apartment for sale\n9700 Oudenaarde\nDit appartement is gelegen in Leupegem en is gelegen op het eerste verdiep. Dit dient samen te worden aangekocht met het appartement op het gelijkvloers (volledig gebouw). Het goed heeft een bewoonbaa ...  Want to know more?\n2\n166 m²\nCONTACT\nDETAILS\nBEST OF\n299.500 €\nIndustrial building for sale\n9000 Gent\nCommercieel handelspand te koop nabij het winkelcentrum Dok Noord met vrije parkeerplaatsen in de straat. Door de grote etalage heeft u een TOP visibiliteit in de straat. Indeling: open commerciële ru ...  Want to know more?\nCONTACT\nDETAILS\nBEST OF\n285.000 €\nFlat - Apartment for sale\n1000 Brussels\n3\n85 m²\nCONTACT\nDETAILS\nBEST OF\n329.500 €\nFlat - Apartment for sale\n2018 Antwerp\nProject: 10 Van Schoonbeke\nDit comfortabele 2 slaapkamer nieuwbouwappartement op de 1e verdieping heeft een bewoonbare oppervlakte van 100m², een gezellig stadsterras van 8m² en is volledig instapklaar. U betreedt het apparteme ...  Want to know more?\n2\n100 m²\n8 m²\nCONTACT\nDETAILS\nBEST OF\n209.500 €\nFlat - Apartment for sale\n2660 Hoboken\nProject: Groen Zuid, Fase 4, varia...\nLeef comfortabel in dit 2 slaapkamerappartement van 90 m² op de 2 e verdieping. Via de inkomhal heeft u toegang tot de badkamer met ligbad/douche en dubbele lavabo, de slaapkamer, de bureauruimte, het ...  Want to know more?\n2\n90 m²\n14 m²\nCONTACT\nDETAILS\nBEST OF\n115.000 €\nResidence for sale\n7130 Binche\nUne maison à rénover offrant de nombreuses possibilités d’aménagement et à deux pas de la Grand’Place de Binche composée au sous-sol : de caves, au rez-de-chaussée : d’un hall d’entrée, d’un salon, d’ ...  Want to know more?\n2\n143 m²\n1\n80 m²\nCONTACT\nDETAILS\nBEST OF\n195.000 €\nResidence for sale\n6042 Lodelinsart\n/  Want to know more?\n2\n165 m²\n1\n320 m²\nCONTACT\nDETAILS\nBEST OF\n260.000 €\nFlat - Apartment for sale\n1090 Jette\nJette: A spacious and bright 2 room apartment with rear balcony. The apartment consists of a spacious entrance hall of + -10m² with cloakroom which leads to 2 beautiful bedrooms of + - 15 &amp; 17m², an i ...  Want to know more?\n2\n105 m²\n4 m²\nCONTACT\nDETAILS\nBEST OF\n95.000 €\nResidence for sale\n6200 Bouffioulx\nAdresse : 6200 Bouffioulx, rue de Presles 22 Agréable appartement de 70m² au rez-de-chaussée, rénové récemment (cuisine, électricité, châssis, …), habitable immédiatement. Idéal pour investisseurs, je ...  Want to know more?\n1\n70 m²\n1\nCONTACT\nDETAILS\n1\n2\n3\n4\n5\n...\n167\n"
    }
   ],
   "source": [
    "# I need to rebuild links\n",
    "# let's do for one                                               \n",
    "\n",
    "thumbails = create_thumbs()\n",
    "propreties_thum = create_propreties(thumbails)\n",
    "# print(propreties_thum.text) Just to check if thumbnails stored\n"
   ]
  },
  {
   "source": [
    "# Append each single thumbnails link on Propreties List"
   ],
   "cell_type": "markdown",
   "metadata": {}
  },
  {
   "cell_type": "code",
   "execution_count": 12,
   "metadata": {
    "tags": []
   },
   "outputs": [],
   "source": [
    "properties_links = []\n",
    "\n",
    "create_pages_link(propreties_thum, properties_links)\n",
    "\n",
    "# print(properties_links)\n",
    "# print(len(properties_links)) Just to check result "
   ]
  },
  {
   "source": [
    "### Make the Bot click each pages"
   ],
   "cell_type": "markdown",
   "metadata": {}
  },
  {
   "cell_type": "code",
   "execution_count": 13,
   "metadata": {
    "tags": [
     "outputPrepend"
    ]
   },
   "outputs": [
    {
     "output_type": "stream",
     "name": "stdout",
     "text": "PE\nFlat (29508)\nHouse (24561)\nLand (5883)\nBusiness (5837)\nInvestment property (1944)\nGarage (1399)\nMiscellaneous (275)\nStudent housing (77)\nTRANSACTION TYPE\nfor sale\n (69000)\nfor rent\n (20961)\nin public sale\n (484)\nto share\n (11)\nLOCATION\nPRICE\nPOPULAR CRITERIA\nCOUNTRY\nBEDROOMS\nLIVABLE SURFACE\nTOTAL SURFACE\nBATHROOMS\nCONSTRUCTION TYPE\nPROPERTY CONDITION\nMORE OPTIONS\nPROVIDER\nRESET\nWe search on your behalf!\nGet notified as soon as a new property matching your search appears!\nReceive an email each time there&#39;s a property that meets your criteria!\nCreate your alert now\nWe search on your behalf!\nGet notified as soon as a new property matching your search appears!\nReceive an email each time there&#39;s a property that meets your criteria!\nCreate your alert now\n69484 properties for sale\nToggle Dropdown\nSort\nMap\nBEST OF\n110.000 €\nResidence for sale\n6061 Montignies-sur-Sambre\nBelle maison d&#39;habitation 3 façades, à proximité de la Place Albert Ier Belle maison saine, à rafraichir et comprenant : un hall d&#39;entrée, un séjour, un bureau, une cuisine semi-équipée avec accès ver ...  Want to know more?\n2\n1 m²\n1\nCONTACT\nDETAILS\nBEST OF\n750.000 €\nVilla for sale\n8870 Izegem\nDeze uitstekend onderhouden villa met bijhorende handelsruimte (voormalige kapperszaak) werd met smaak opgebouwd in 1990 op een perceel van ca. 1980 m² en beschikt over een bewoonbare oppervlakte van ...  Want to know more?\n7\n436 m²\n1\n1980 m²\nCONTACT\nDETAILS\nBEST OF\n205.000 €\nFlat - Apartment for sale\n1210 Sint-Joost-ten-Node\nBRUXELLES Centre/ST-JOSSE, à proximité de la place Rogier et du quartier Botanique, proche des transports en commun, au 5ème et dernier étage d&#39;un immeuble récent, appartement de ± 60m² habitables à r ...  Want to know more?\n1\n60 m²\n1\nCONTACT\nDETAILS\nBEST OF\n540.000 €\nMaster house for sale\n7542 Mont-Saint-Aubert\nDans un écrin de verdure, bien orientée et sans vis à vis, cachet et cadre de vie unique sont au rendez-vous dans cette jolie maison de style anglo-normand. Partiellement rénovée, celle-ci attend son ...  Want to know more?\n3\n240 m²\n1660 m²\nCONTACT\nDETAILS\nBEST OF\n349.000 €\nIndustrial building for sale\n7141 Carnières\nSitué à proximité de toutes commodités, cet immeuble vous offre un showroom de 160 m², un espace bureau, un local de rangement de 12 m², un entrepôt de 276 m², deux locaux de stockage (32 m² et 46 m²) ...  Want to know more?\nCONTACT\nDETAILS\nBEST OF\n515.195 €\nVilla for sale\n3040 Huldenberg\nNEW BUILDING – 4 facade villa in quiet surroundingsThis large house is located within walking distance (250m) from the center of Huldenberg, the public transportation and a stone&#39;s throw away from Loo ...  Want to know more?\n3\n185 m²\n1\n913 m²\nCONTACT\nDETAILS\nBEST OF\n330.000 €\nFlat - Apartment for sale\n7500 Tournai\nMagnifique appartement de 121 m² avec terrasse arborée de 36 m² dans une résidence haut de gamme en plein centre-ville. Il se compose d&#39;un hall d&#39;entrée avec armoire vestiaire en bois. Superbe séjour ...  Want to know more?\n2\n121 m²\n1\n36 m²\nCONTACT\nDETAILS\nBEST OF\n110.970 €\nDevelopment site for sale\n8850 Ardooie\nProject: bouwgronden en nieuwe won...\nOp &quot;De Tassche&quot; in Ardooie, op de grens met Roeselare, vind je deze gloednieuwe verkaveling. Je woont er op 4 kilometer van het station van Roeselare en dicht bij de oprit van de autosnelweg. Niettemi ...  Want to know more?\n411 m²\nCONTACT\nDETAILS\nBEST OF\n291.668 €\nResidence for sale\n8850 Ardooie\nProject: bouwgronden en nieuwe won...\nOp &quot;De Tassche&quot; in Ardooie, op de grens met Roeselare, vind je deze gloednieuwe verkaveling. Je woont er op 4 kilometer van het station van Roeselare en dicht bij de oprit van de autosnelweg. Niettemi ...  Want to know more?\n3\n1\n1\n290 m²\nCONTACT\nDETAILS\nBEST OF\n124.900 €\nResidence for sale\n5190 Balâtre\nVASTE IMMEUBLE 4 FACADES COMPRENANT MAISON AVEC COUR ET JARDIN ET UN ENTREPOT -- FAIRE OFFRE A PARTIR 124 900 EUROS -- DESCRIPTIF: SOUS-SOL: DEUX CAVES VOUTEES RDC: HALL D&#39;ENTREE, SPACIEUX ET LUMINEUX ...  Want to know more?\n4\n406 m²\nCONTACT\nDETAILS\nBEST OF\n139.900 €\nResidence for sale\n6180 Courcelles\nPACIMMO &quot;Un service tout compris&quot; vous propose une estimation gratuite et sans engagement de votre maison ou appartement. Maison de 145 m² sur 4,10 ares. Proches de toutes commodités et axes routiers&#39; ...  Want to know more?\n3\n145 m²\n1\nCONTACT\nDETAILS\nBEST OF\n175.000 €\nResidence for sale\n5060 Sambreville\nl&#39;essentiel immobilier vend une coquette et lumineuse maison 3 façades proche de toutes commodités (hopitaux, ecoles, centre ville, axes routiers, 20 min de namur et charleroi, etc...). La maison se c ...  Want to know more?\n150 m²\n1\n1\n105 m²\nCONTACT\nDETAILS\nBEST OF\n245.000 €\nDevelopment site for sale\n8780 Oostrozebeke\n920 m² naakte bouwgrond (met garage in rechterhoek) met mooie straatbreedte van 26.73 m (zelfs nog uitbredend naar voorbouwlijn toe) en groe bebouwbare oppervlakte. Achteraan palend aan groen. Goeie l ...  Want to know more?\n920 m²\nCONTACT\nDETAILS\nBEST OF\n175.000 €\nFlat - Apartment for sale\n8370 Blankenberge\nAangenaam balkon Zeer centraal gelegen in de kerkstraat Zijdelings zeezicht Open keuken 2 slaapkamers Voor meer info mail naar ### of bel ###   Want to know more?\n2\n77 m²\n1\nCONTACT\nDETAILS\nBEST OF\n395.000 €\nVilla for sale\n8630 Veurne\nAlong the Nieuwpoort canal we find this spacious villa with 4 bedrooms for sale. The bright living space, double garage and large living space are some of the assets. Are you looking for a house for s ...  Want to know more?\n4\n260 m²\n1\n644 m²\nCONTACT\nDETAILS\nBEST OF\nPrice on request\nResidence for sale\n8740 Pittem\nLot 21: Woonerf De Meersen Pittem Bezoek nu volledig vrijblijvend de volledig ingerichte modelwoning! Laat ons weten welk moment het best uitkomt voor u - dit kan uiteraard ook na de kantooruren of in ...  Want to know more?\n5\n1\n2\n324 m²\nCONTACT\nDETAILS\nBEST OF\n145.000 €\nFlat - Apartment for sale\n8400 Oostende\nDit 1 slaapkamer appartement is gelegen in het rustige Mariakerke. Het appartement bevindt zich op slechte enkele meters van het strand. De indeling is als volgt: inkom, leefruimte met open keuken, sl ...  Want to know more?\n1\n1\nCONTACT\nDETAILS\nBEST OF\n34.000 €\nBungalow for sale\n8670 Koksijde\nAre you looking for a holiday home at an attractive price? In the holiday area &quot;The Gulls&quot; in Koksijde we offer you the solution. The domain is situated in the village of Koksijde, where you will find ...  Want to know more?\n20 m²\n1\n30 m²\nCONTACT\nDETAILS\nBEST OF\n170.000 €\nResidence for sale\n6032 Mont-sur-Marchienne\nNon loin de toutes les facilités et des accès rapides (R3 à 5&#39;), propriété comprenant un bâtiment composé d’un spacieux appartement bel-étage de +/- 130 m² habitables et d’une surface en rez-de-jardin ...  Want to know more?\n2\n130 m²\n1\n1\nCONTACT\nDETAILS\nBEST OF\n129.000 €\nResidence for sale\n7300 Boussu\nRéf.IT1144-DOUR. Immotorres vous propose une belle maison unifamiliale restaurée avec 2 chambres et jardin. Composition au rez-de-Chaussée : Un beau volume ouvert composé d’un salon/salle-à-manger, un ...  Want to know more?\n2\n1\nCONTACT\nDETAILS\nBEST OF\n145.000 €\nFlat - Studio for sale\n8620 Nieuwpoort\nIbis 0403 - Studio agréable avec coin à dormir spacieux et vue latérale sur mer et sur l&#39;estacade. Composition: hall d&#39;entrée, salle de bains avec lavabo, douche et toilettes. Cuisine séparée. Séjour ...  Want to know more?\n44 m²\n1\nCONTACT\nDETAILS\nBEST OF\n435.000 €\nFlat - Apartment for sale\n8530 Harelbeke\nResidentie Domein De Steelander is een uniek woonproject dat gelegen is in een domein van 2,2 ha met zicht op een vijver van 5000 m2 omringd door 40 jaar oude bomen. Er werden 4 residenties gebouwd in ...  Want to know more?\n132 m²\n2\n15 m²\nCONTACT\nDETAILS\nBEST OF\n213.000 €\nFlat - Apartment for sale\n8900 Ieper\nProject: Residentie Ter Stede\nAppartement 1C is gelegen op het eerste verdiep. Het appartement omvat 2 slaapkamers - badkamer voorzien van ligbad/ douche, dubbel lavabomeubel en toilet - berging - afzonderlijke toilet - leefruimte ...  Want to know more?\n2\n88.24 m²\n1\nCONTACT\nDETAILS\nBEST OF\n470.000 €\nResidence for sale\n8800 Roeselare\nIn the center of Roeselare we find this polyvalent house. It was built around 1959 on a plot of approx. 200m² and enjoys a usable area of approx. 342m². In addition to its excellent location, this com ...  Want to know more?\n342 m²\n1\n2\n200 m²\nCONTACT\nDETAILS\nBEST OF\n225.000 €\nFlat - Apartment for sale\n1853 Strombeek-Bever\n***Vous souhaiteriez plus d’info ou une visite ? Karin est à votre service : ### ou 02/267.15.55*** Prenez les escaliers menant au premier étage où vous entrez par un hall d’entrée spacieux ...  Want to know more?\n3\n90 m²\n1\nCONTACT\nDETAILS\nBEST OF\n309.650 €\nResidence for sale\n8972 Krombeke\nDeze landelijk gelegen statige woning is de uitstekende uitvalbasis naar Roesbrugge en Poperinge. De gelijkvloerse verdieping van deze woning bestaat uit een inkomhal die uitgeeft op de lichtrijke lee ...  Want to know more?\n3\n292 m²\n1\n1121 m²\nCONTACT\nDETAILS\nBEST OF\n279.000 €\nFlat - Apartment for sale\n5000 Namur\nCap Sud Namur vous propose un bel appartement 3 chambres avec emplacement de parking, dans une petite résidence a deux pas de la ville et de toutes ses commodités. Appartement situé 2ème étage bénéfic ...  Want to know more?\n3\n105 m²\n2\nCONTACT\nDETAILS\nBEST OF\n1.800.000 €\nMixed building for sale\n4700 Eupen\nGrand bâtiment à vendre avec 2 parkings et garagebpost demande à l’acheteur de proposer une localisation alternative EXISTANTE/PROVISOIRE/CASCO dans la commune d’Eupen pour le bureau de poste.Voir spé ...  Want to know more?\n1035 m²\n1652 m²\nCONTACT\nDETAILS\nBEST OF\n205.000 €\nReturn building for sale\n9280 Lebbeke\nDit moderne duplex appartement is gelegen op voetafstand van de markt van Lebbeke. Het bevindt zich op de 2de en 3de verdieping, er is lift in het gebouw. Indeling: ruime living, moderne keuken met al ...  Want to know more?\nCONTACT\nDETAILS\nBEST OF\n75.000 €\nDevelopment site for sale\n6600 Wardin\nCe beau terrain à bâtir est situé le long de la route nationale entre Bastogne et Clervaux (Luxembourg), appelée Wardin et a une superficie de 4908m² (49a08ca). Option: Il y a la possibilité de divise ...  Want to know more?\n2454 m²\n98 m\nCONTACT\nDETAILS\n1\n...\n7\n8\n9\n...\n167\nReal Estate\nPROPERTY TYPE\nFlat (29508)\nHouse (24561)\nLand (5883)\nBusiness (5837)\nInvestment property (1944)\nGarage (1399)\nMiscellaneous (275)\nStudent housing (77)\nTRANSACTION TYPE\nfor sale\n (69000)\nfor rent\n (20961)\nin public sale\n (484)\nto share\n (11)\nLOCATION\nPRICE\nPOPULAR CRITERIA\nCOUNTRY\nBEDROOMS\nLIVABLE SURFACE\nTOTAL SURFACE\nBATHROOMS\nCONSTRUCTION TYPE\nPROPERTY CONDITION\nMORE OPTIONS\nPROVIDER\nRESET\nWe search on your behalf!\nGet notified as soon as a new property matching your search appears!\nReceive an email each time there&#39;s a property that meets your criteria!\nCreate your alert now\nWe search on your behalf!\nGet notified as soon as a new property matching your search appears!\nReceive an email each time there&#39;s a property that meets your criteria!\nCreate your alert now\n69484 properties for sale\nToggle Dropdown\nSort\nMap\nBEST OF\nPrice on request\nResidence for sale\n8552 Moen\nDeze rustig gelegen halfopen bebouwing op 265 m² bestaat op het gelijkvloers uit een ruime woonkamer, in te richten keuken, inkomhal met afzonderlijk toilet en berging. Op de eerste verdieping treffen ...  Want to know more?\n3\n147 m²\n1\n265 m²\nCONTACT\nDETAILS\nBEST OF\n75.000 €\nFarmland for sale\n7110 Boussoit\nActualimmo a le plaisir de vous proposer ce magnifique terrain de loisir d&#39;une contenance de 20 ares 56 ca situé à Houdeng-Goegnies. Proche des grands axes routiers et de toutes les commodités. Présen ...  Want to know more?\n2000 m²\n82 m\nCONTACT\nDETAILS\nBEST OF\n225.000 €\nPenthouse for sale\n8870 Izegem\nDeze penthouse met 2 slaapkamers bevindt zich op de derde verdieping van het appartementsgebouw &#39;Hoeve&#39; en heeft een totale bewoonbare oppervlakte van 90m². Het ruime terras is zuidoost georiënteerd e ...  Want to know more?\n2\n90 m²\n20 m²\nCONTACT\nDETAILS\nBEST OF\n160.000 €\nResidence for sale\n6440 Froidchapelle\nQuartier Fonds des Herbes #16 - jolie maison avec garage et jardin située dans un lotissement résidentiel. La maison se compose au rez-de-chaussée d’un hall d’entrée, d’un WC, d’un living, d’un espace ...  Want to know more?\n3\n181 m²\n1\n340 m²\nCONTACT\nDETAILS\nBEST OF\n349.000 €\nFlat - Apartment for sale\n7500 Tournai\nLe long des quais, avec vue sur l&#39;Escaut ! Bel appartement de 217 m² avec 4 chambres, 3 sdb, 2 parkings, 2 caves ! Il se compose d&#39;un hall d&#39;entrée spacieux avec vestiaire et wc. Séjour en L avec bell ...  Want to know more?\n1\n3\n3 m²\nCONTACT\nDETAILS\nBEST OF\n294.500 €\nFlat - Apartment for sale\n1080 Sint-Jans-Molenbeek\nImmpact développe un tout nouveau projet dans un quartier résidentiel paisible situé en bordure de Bruxelles. Son cadre verdoyant et son accès immédiat à l’animation de la ville en font un magnifique ...  Want to know more?\n3\n114 m²\nCONTACT\nDETAILS\nBEST OF\n294.500 €\nFlat - Apartment for sale\n1082 Berchem-Sainte-Agathe\nImmpact développe un tout nouveau projet dans un quartier résidentiel paisible situé en bordure de Bruxelles. Son cadre verdoyant et son accès immédiat à l’animation de la ville en font un magnifique ...  Want to know more?\n3\n114 m²\nCONTACT\nDETAILS\nBEST OF\n299.000 €\nResidence for sale\n2060 Antwerp\nZonnige gerenoveerde stadswoning met 3 slaapkamers. Deze ruime hoekwoning biedt op gelijkvloers een trendy leefkeuken en eetkamer met authentieke schoorsteen. In de lichte hoekruimte werd de gezellige ...  Want to know more?\n3\n134 m²\n1\nCONTACT\nDETAILS\nBEST OF\n130.000 €\nOffice space for sale\n1500 Halle\nVoir ### pour plus d&#39;informations et attestations Belle surface commerciale, emplacement idéal dans la rue commerçante piétonne: belle surface commerciale (56m2), sas avec WC, kitchenette (3m ...  Want to know more?\nCONTACT\nDETAILS\nBEST OF\n110.000 €\nDevelopment site for sale\n6700 Arlon\nTerrain pour maison 4 façades de +/- 24 mètres de largeur situé en zone d&#39;habitat rural, hors lotissement, relief escarpé.  Want to know more?\n689 m²\nCONTACT\nDETAILS\nBEST OF\n360.000 €\nMaster house for sale\n5580 Rochefort\nFaire offre à partir de 360.000€ sous réserve de l&#39;acceptation par le propriétaire. Idéalement située au centre de Rochefort vous serez séduit par cette typique maison de Maître et de son charme d&#39;ant ...  Want to know more?\n4\n345 m²\n2\nCONTACT\nDETAILS\nBEST OF\n125.000 €\nFlat - Apartment for sale\n8880 Ledegem\nHouse divided into 3 apartments of which 2 are rented today. Right in the centre of Ledegem. The communal entrance hall gives access to the 3 apartments. The classification consists of: Ground floor: ...  Want to know more?\n1\n102 m²\n20 m²\nCONTACT\nDETAILS\nBEST OF\n395.000 €\nGarage for sale\n8800 Roeselare\nNear the center of Roeselare we find this garage complex with 20 garages and corresponding land. The total surface area is approx. 2370 m². All garages are rented out, which makes it very interesting ...  Want to know more?\n2370 m²\nCONTACT\nDETAILS\nBEST OF\n160.000 €\nReturn building for sale\n6000 Charleroi\n/  Want to know more?\nCONTACT\nDETAILS\nBEST OF\nPrice on request\nBusiness surface for sale\n8820 Torhout\nDeze Bistro Tearoom met ruim zongericht terras heeft een uitstekende commerciele ligging aan de Markt in Torhout. De instapklare zaak met vast clienteel en bewezen omzet heeft reeds 20 jaar dezelfde u ...  Want to know more?\nCONTACT\nDETAILS\nBEST OF\n112.000 €\nFlat - Studio for sale\n8430 Middelkerke\nGelegen op de vierde verdieping Wordt inclusief meubels verkocht Zonnige leefruimte met terras Open ingerichte keuken Volledig vernieuwde badkamer met inloopdouche Ruime berging in de studio Private k ...  Want to know more?\n30 m²\n1\nCONTACT\nDETAILS\nBEST OF\n169.900 €\nFlat - Apartment for sale\n8800 Roeselare\nRuim appartement langs invalsweg en nabij het centrum van Roeselare bestaande uit inkom, ruime leefruimte, lichtrijke keuken, terras vooraan, badkamer voorzien douche en lavabomeubel, apart toilet en ...  Want to know more?\n3\n103 m²\n1\n3 m²\nCONTACT\nDETAILS\nBEST OF\n185.000 €\nResidence for sale\n1160 Oudergem\nPetite maison située en arrière zone Composition: Rdch: Hall d&#39;entrée avec buanderie et local de +/- 10m² 1er étage: Beau séjour avec cuisine ouverte 2ème étage: Une grande chambre et salle de bain av ...  Want to know more?\n1\n60 m²\n1\nCONTACT\nDETAILS\nBEST OF\n135.000 €\nResidence for sale\n5630 Cerfontaine\nVASTE MAISON 3 FACADES AVEC 6 CHAMBRES, TERRASSE, JARDIN EN DEVANTURE, GARAGE ET EMPLACEMENT DE PARKING POSSIBILITE DE 2 HABITATIONS Faire offre à partir de 135.000 € -- FAIRE OFFRE SUPERIEURE -- sous ...  Want to know more?\n6\nCONTACT\nDETAILS\nBEST OF\n110.000 €\nFlat - Apartment for sale\n5190 Jemeppe-Sur-Sambre\nSitué au 2ème étage, dans une co- propriété à proximité de toutes commodités, cet appartement est composé d&#39;un hall d&#39;entrée/ de nuit, spacieux living, cuisine semi- équipée, wc séparés, salle de bain ...  Want to know more?\n2\n1\n1\nCONTACT\nDETAILS\nBEST OF\nOPTION\n80.000 €\nDevelopment site for sale\n6530 Thuin\nBEAU TERRAIN A BATIR DE 10 A 29 CA OFFRE ACTUELLE 80.000 € 19 M de facade 50 M de profondeur terrain borné: plan disponible  Want to know more?\n1029 m²\nCONTACT\nDETAILS\nBEST OF\n449.000 €\nVilla for sale\n7740 Pecq\nMaison de maître magnifiquement restaurée avec grand jardin et sortie à l&#39;arrière ! Cette propriété est à vendre avec un prix de départ - Vous avez ici la possibilité de faire une offre au-dessus du p ...  Want to know more?\n4\n332 m²\n1\n2630 m²\nCONTACT\nDETAILS\nBEST OF\n150.000 €\nReturn building for sale\n6200 Châtelet\nl&#39;essentiel vend une belle opportunité située au coeur de la belle ville de chatelet. Le bien se compose de 3 entité: un rez-commercial (anciennement restaurant) avec un des sous-sol aménagé en w.c et ...  Want to know more?\n1\nCONTACT\nDETAILS\nBEST OF\n190.000 €\nResidence for sale\n8930 Menen\nDeze eenheidsbebouwing van twee burgerwoningen uit het laatste kwart van de 19de eeuw is gelegen in hartje stadscentrum en is reeds deels gerenoveerd. Neogotische uitgewerkte verankerde (sierankers) l ...  Want to know more?\n4\n300 m²\n1\n170 m²\nCONTACT\nDETAILS\nBEST OF\n265.000 €\nResidence for sale\n3800 Sint-Truiden\nIn de J. Claesstraat ter hoogte van nummer 7 vinden we deze verrassend ruime, open bebouwing terug. We bevinden ons hier in het landelijke Zepperen waar het rustig vertoeven is. Wie dus graag landelij ...  Want to know more?\n3\n160 m²\n700 m²\nCONTACT\nDETAILS\nBEST OF\nPrice on request\nResidence for sale\n8540 Deerlijk\nDeze degelijke goed onderhouden woonst op 292 m² is centraal gelegen en geniet een bijzonder goede bereikbaarheid naar de verschillende invalswegen. Via de inkomhal met gastentoilet komen we in de aan ...  Want to know more?\n124 m²\n1\n1\n292 m²\nCONTACT\nDETAILS\nBEST OF\nOPTION\n47.500 €\nResidence for sale\n5600 Neuville\nAu cœur du sympathique village de Neuville (à 5’ de Philippeville), projet immobilier résidentiel atypique sur un terrain de 3,57 ares. Permis accordé en septembre 2018 (valable 5 ans + 2 si prorogati ...  Want to know more?\n2\n126 m²\n1\n357 m²\nCONTACT\nDETAILS\nBEST OF\nOPTION\n47.500 €\nDevelopment site for sale\n5600 Neuville\nAu cœur du sympathique village de Neuville (à 5’ de Philippeville), projet immobilier résidentiel atypique sur un terrain de 3,57 ares. Permis accordé en septembre 2018 (valable 5 ans + 2 si prorogati ...  Want to know more?\n357 m²\nCONTACT\nDETAILS\nBEST OF\n170.000 €\nFlat - Apartment for sale\n2018 Antwerp\nRecent 1 slaapkamer appartement gunstig gelegen nabij het Koning Albertpark en nabij het openbaar vervoer. Dit appartement heeft een woonkamer met open ingerichte keuken, een badkamer met douche en to ...  Want to know more?\n46.5 m²\n1\n3 m²\nCONTACT\nDETAILS\nBEST OF\n70.000 €\nFlat - Apartment for sale\n6000 Charleroi\nSitué dans une des plus belles rue commercante de Charleroi, charmant appartement situé au troisième étage. Il vous ravira grâce à son accès en centre ville facile, la proximité de la gare et des tran ...  Want to know more?\n1\n45 m²\n1\nCONTACT\nDETAILS\n1\n...\n8\n9\n10\n...\n167\n"
    }
   ],
   "source": [
    "# Will be used in an iteration\n",
    "\n",
    "for page in range(2, 168):\n",
    "    current_link = driver.find_element_by_link_text(str(page))\n",
    "    WebDriverWait(driver, 2)\n",
    "\n",
    "    # isolate List view\n",
    "    thumbails = create_thumbs()\n",
    "    propreties_thum = create_propreties(thumbails)\n",
    "\n",
    "    create_pages_link(propreties_thum, properties_links)\n",
    "    \n",
    "    current_link.click()\n",
    "    # print(page)\n",
    "\n"
   ]
  },
  {
   "source": [
    "# Fetching data from one page"
   ],
   "cell_type": "markdown",
   "metadata": {}
  },
  {
   "cell_type": "code",
   "execution_count": 116,
   "metadata": {
    "tags": [
     "outputPrepend"
    ]
   },
   "outputs": [
    {
     "output_type": "stream",
     "name": "stdout",
     "text": "for-sale/9120/melsele/rap58331', 'https://immo.vlan.be/en/detail/industrial-building/for-sale/9120/melsele/rap58330', 'https://immo.vlan.be/en/detail/industrial-building/for-sale/2450/meerhout/rap58329', 'https://immo.vlan.be/en/detail/industrial-building/for-sale/2450/meerhout/rap58328', 'https://immo.vlan.be/en/detail/industrial-building/for-sale/2450/meerhout/rap58327', 'https://immo.vlan.be/en/detail/industrial-building/for-sale/2450/meerhout/rap58326', 'https://immo.vlan.be/en/detail/industrial-building/for-sale/2250/olen/rap58325', 'https://immo.vlan.be/en/detail/industrial-building/for-sale/2250/olen/rap58324', 'https://immo.vlan.be/en/detail/industrial-building/for-sale/2800/mechelen/rap58323', 'https://immo.vlan.be/en/detail/industrial-building/for-sale/2520/ranst/rap58321', 'https://immo.vlan.be/en/detail/duplex/for-sale/1780/wemmel/rap58319', 'https://immo.vlan.be/en/detail/flat---apartment/for-sale/2300/turnhout/rap58318', 'https://immo.vlan.be/en/detail/residence/for-sale/4102/ougree/val86649', 'https://immo.vlan.be/en/detail/flat---apartment/for-sale/4630/micheroux/val86648', 'https://immo.vlan.be/en/detail/residence/for-sale/6060/gilly/val86639', 'https://immo.vlan.be/en/detail/residence/for-sale/6250/aiseau/val86638', 'https://immo.vlan.be/en/detail/ground-floor/for-sale/4280/hannut/val86628', 'https://immo.vlan.be/en/detail/residence/for-sale/9990/maldegem/rwc10762', 'https://immo.vlan.be/en/detail/residence/for-sale/4280/hannut/val86623', 'https://immo.vlan.be/en/detail/flat---apartment/for-sale/9900/eeklo/rap58315', 'https://immo.vlan.be/en/detail/residence/for-sale/9450/haaltert/rap58314', 'https://immo.vlan.be/en/detail/residence/for-sale/9420/erondegem/rap58313', 'https://immo.vlan.be/en/detail/residence/for-sale/4540/amay/val86621', 'https://immo.vlan.be/en/detail/residence/for-sale/1000/brussels/vwc91241', 'https://immo.vlan.be/en/detail/flat---apartment/for-sale/1080/sint-jans-molenbeek/rap58311', 'https://immo.vlan.be/en/detail/flat---apartment/for-sale/2200/herentals/rap58310', 'https://immo.vlan.be/en/detail/chalet/for-sale/2230/herselt/rap58309', 'https://immo.vlan.be/en/detail/chalet/for-sale/2230/herselt/rap58308', 'https://immo.vlan.be/en/detail/residence/for-sale/2200/herentals/rap58307', 'https://immo.vlan.be/en/detail/villa/for-sale/1410/waterloo/val86615', 'https://immo.vlan.be/en/detail/flat---apartment/for-sale/1340/ottignies/val86607', 'https://immo.vlan.be/en/detail/residence/for-sale/1650/beersel/val86603', 'https://immo.vlan.be/en/detail/flat---apartment/for-sale/8700/tielt/rap58305', 'https://immo.vlan.be/en/detail/flat---apartment/for-sale/8700/tielt/rap58304', 'https://immo.vlan.be/en/detail/residence/for-sale/7110/maurage/val86600', 'https://immo.vlan.be/en/detail/flat---apartment/for-sale/2320/hoogstraten/rap58303', 'https://immo.vlan.be/en/detail/flat---apartment/for-sale/9400/ninove/rap58301', 'https://immo.vlan.be/en/detail/residence/for-sale/2960/brecht/rap58300', 'https://immo.vlan.be/en/detail/residence/for-sale/9060/zelzate/rap58299', 'https://immo.vlan.be/en/detail/duplex/for-sale/9400/ninove/rap58297', 'https://immo.vlan.be/en/detail/return-building/for-sale/4800/verviers/val86599', 'https://immo.vlan.be/en/detail/flat---apartment/for-sale/2100/deurne/rap58295', 'https://immo.vlan.be/en/detail/residence/for-sale/9900/eeklo/rap58294', 'https://immo.vlan.be/en/detail/flat---studio/for-sale/8434/westende/rap58293', 'https://immo.vlan.be/en/detail/residence/for-sale/2300/turnhout/rap58292', 'https://immo.vlan.be/en/detail/flat---apartment/for-sale/8530/harelbeke/rap58290', 'https://immo.vlan.be/en/detail/flat---apartment/for-sale/2170/merksem/rap58289', 'https://immo.vlan.be/en/detail/commerce-building/for-sale/2860/sint-katelijne-waver/rap58287', 'https://immo.vlan.be/en/detail/flat---apartment/for-sale/2320/hoogstraten/rap58286', 'https://immo.vlan.be/en/detail/residence/for-sale/4430/ans/val86597', 'https://immo.vlan.be/en/detail/residence/for-sale/4800/verviers/val86596', 'https://immo.vlan.be/en/detail/flat---apartment/for-sale/9040/sint-amandsberg/rap58284', 'https://immo.vlan.be/en/detail/flat---apartment/for-sale/8000/brugge/rap58283', 'https://immo.vlan.be/en/detail/flat---apartment/for-sale/8000/brugge/rap58282', 'https://immo.vlan.be/en/detail/office-space/for-sale/8500/kortrijk/rap58281', 'https://immo.vlan.be/en/detail/office-space/for-sale/8500/kortrijk/rap58280', 'https://immo.vlan.be/en/detail/residence/for-sale/3650/dilsen-stokkem/rap58276', 'https://immo.vlan.be/en/detail/residence/for-sale/3630/maasmechelen/rap58275', 'https://immo.vlan.be/en/detail/residence/for-sale/3630/maasmechelen/rap58274', 'https://immo.vlan.be/en/detail/residence/for-sale/7140/morlanwelz/val86593', 'https://immo.vlan.be/en/detail/flat---apartment/for-sale/8300/knokke-heist/rap58273', 'https://immo.vlan.be/en/detail/residence/for-sale/5070/fosses-la-ville/val86589', 'https://immo.vlan.be/en/detail/residence/for-sale/6010/couillet/val86588', 'https://immo.vlan.be/en/detail/loft/for-sale/7971/wadelincourt/val86587', 'https://immo.vlan.be/en/detail/ground-floor/for-sale/6141/forchies-la-marche/val86586', 'https://immo.vlan.be/en/detail/commerce-building/for-sale/6032/mont-sur-marchienne/val86585', 'https://immo.vlan.be/en/detail/commerce-building/for-sale/6032/mont-sur-marchienne/val86584', 'https://immo.vlan.be/en/detail/flat---apartment/for-sale/6060/gilly/val86583', 'https://immo.vlan.be/en/detail/flat---apartment/for-sale/1480/tubize/val86582', 'https://immo.vlan.be/en/detail/residence/for-sale/1435/mont-saint-guibert/val86580', 'https://immo.vlan.be/en/detail/residence/for-sale/8930/rekkem/val86576', 'https://immo.vlan.be/en/detail/residence/for-sale/1190/vorst/vwc91240', 'https://immo.vlan.be/en/detail/flat---studio/for-sale/8434/westende/rap58268', 'https://immo.vlan.be/en/detail/residence/for-sale/3140/keerbergen/rap58267', 'https://immo.vlan.be/en/detail/villa/for-sale/3140/keerbergen/rap58266', 'https://immo.vlan.be/en/detail/residence/for-sale/6630/martelange/val86574', 'https://immo.vlan.be/en/detail/penthouse/for-sale/2580/beerzel/rap58265', 'https://immo.vlan.be/en/detail/residence/for-sale/3530/houthalen-helchteren/rap58264', 'https://immo.vlan.be/en/detail/flat---apartment/for-sale/4100/seraing/val86571', 'https://immo.vlan.be/en/detail/residence/for-sale/1730/asse/rap58261', 'https://immo.vlan.be/en/detail/residence/for-sale/4430/ans/val86570', 'https://immo.vlan.be/en/detail/residence/for-sale/1640/sint-genesius-rode/val86569', 'https://immo.vlan.be/en/detail/residence/for-sale/3212/pellenberg/rap58259', 'https://immo.vlan.be/en/detail/flat---apartment/for-sale/1000/brussels/val86568', 'https://immo.vlan.be/en/detail/flat---studio/for-sale/1080/sint-jans-molenbeek/rap58258', 'https://immo.vlan.be/en/detail/flat---apartment/for-sale/1180/ukkel/rap58257', 'https://immo.vlan.be/en/detail/flat---apartment/for-sale/4430/ans/val86564', 'https://immo.vlan.be/en/detail/residence/for-sale/4690/glons/val86561', 'https://immo.vlan.be/en/detail/residence/for-sale/1150/sint-pieters-woluwe/rap58256', 'https://immo.vlan.be/en/detail/mixed-building/for-sale/1000/brussels/val86560', 'https://immo.vlan.be/en/detail/residence/for-sale/7620/bleharies/val86559', 'https://immo.vlan.be/en/detail/residence/for-sale/4163/tavier/val86558', 'https://immo.vlan.be/en/detail/flat---apartment/for-sale/9506/zandbergen/rwc10759', 'https://immo.vlan.be/en/detail/villa/for-sale/4300/waremme/val86557', 'https://immo.vlan.be/en/detail/flat---apartment/for-sale/2000/antwerp/rap58255', 'https://immo.vlan.be/en/detail/flat---apartment/for-sale/2600/berchem/rap58254', 'https://immo.vlan.be/en/detail/flat---studio/for-sale/1190/vorst/val86556', 'https://immo.vlan.be/en/detail/flat---apartment/for-sale/4400/flemalle/val86554', \"https://immo.vlan.be/en/detail/flat---apartment/for-sale/1420/braine-l'alleud/val86553\", 'https://immo.vlan.be/en/detail/residence/for-sale/1200/sint-lambrechts-woluwe/val86551', 'https://immo.vlan.be/en/detail/residence/for-sale/9860/oosterzele/rap58248', 'https://immo.vlan.be/en/detail/residence/for-sale/9290/uitbergen/rap58247', 'https://immo.vlan.be/en/detail/residence/for-sale/9000/gent/rap58244', 'https://immo.vlan.be/en/detail/duplex/for-sale/2900/schoten/rap58243', 'https://immo.vlan.be/en/detail/residence/for-sale/2960/brecht/rap58242', 'https://immo.vlan.be/en/detail/residence/for-sale/7500/tournai/val86550', 'https://immo.vlan.be/en/detail/residence/for-sale/9890/gavere/rap58240', 'https://immo.vlan.be/en/detail/residence/for-sale/7700/mouscron/val86549', 'https://immo.vlan.be/en/detail/residence/for-sale/9890/gavere/rap58239', 'https://immo.vlan.be/en/detail/flat---apartment/for-sale/1030/schaarbeek/val86547', 'https://immo.vlan.be/en/detail/villa/for-sale/1150/sint-pieters-woluwe/val86545', 'https://immo.vlan.be/en/detail/residence/for-sale/1200/sint-lambrechts-woluwe/val86543', 'https://immo.vlan.be/en/detail/flat---apartment/for-sale/1050/elsene/val86541', 'https://immo.vlan.be/en/detail/penthouse/for-sale/9500/geraardsbergen/rap58237', 'https://immo.vlan.be/en/detail/flat---apartment/for-sale/9500/geraardsbergen/rap58236', 'https://immo.vlan.be/en/detail/development-site/for-sale/8800/roeselare/rap58231', 'https://immo.vlan.be/en/detail/residence/for-sale/6010/couillet/val86540', 'https://immo.vlan.be/en/detail/business-surface/for-sale/6887/herbeumont/vwc91239', 'https://immo.vlan.be/en/detail/residence/for-sale/6887/herbeumont/vwc91238', 'https://immo.vlan.be/en/detail/penthouse/for-sale/9240/zele/rap58226', 'https://immo.vlan.be/en/detail/commerce-building/for-sale/8551/heestert/rap58225', \"https://immo.vlan.be/en/detail/duplex/for-sale/1420/braine-l'alleud/val86537\", 'https://immo.vlan.be/en/detail/flat---apartment/for-sale/1050/elsene/val86536', 'https://immo.vlan.be/en/detail/flat---apartment/for-sale/8710/wielsbeke/rap58223', 'https://immo.vlan.be/en/detail/flat---apartment/for-sale/8710/wielsbeke/rap58222', 'https://immo.vlan.be/en/detail/residence/for-sale/8710/sint-baafs-vijve/rap58221', 'https://immo.vlan.be/en/detail/villa/for-sale/8210/zedelgem/rap58220', 'https://immo.vlan.be/en/detail/residence/for-sale/8760/meulebeke/rap58219', 'https://immo.vlan.be/en/detail/commerce-building/for-sale/8870/izegem/rap58218', 'https://immo.vlan.be/en/detail/villa/for-sale/8770/ingelmunster/rap58217', 'https://immo.vlan.be/en/detail/residence/for-sale/8870/emelgem/rap58216', 'https://immo.vlan.be/en/detail/residence/for-sale/8780/oostrozebeke/rap58215', 'https://immo.vlan.be/en/detail/flat---apartment/for-sale/8710/ooigem/rap58214', 'https://immo.vlan.be/en/detail/residence/for-sale/8780/oostrozebeke/rap58213', 'https://immo.vlan.be/en/detail/residence/for-sale/8710/sint-baafs-vijve/rap58212', 'https://immo.vlan.be/en/detail/residence/for-sale/8553/otegem/rap58211', 'https://immo.vlan.be/en/detail/residence/for-sale/8770/ingelmunster/rap58210', 'https://immo.vlan.be/en/detail/residence/for-sale/8760/meulebeke/rap58209', 'https://immo.vlan.be/en/detail/residence/for-sale/8850/ardooie/rwc10758', 'https://immo.vlan.be/en/detail/flat---apartment/for-sale/8300/knokke-heist/rap58203', 'https://immo.vlan.be/en/detail/chalet/for-sale/3191/hever/rap58202', 'https://immo.vlan.be/en/detail/development-site/for-sale/3018/wijgmaal/rap58201', 'https://immo.vlan.be/en/detail/development-site/for-sale/3018/wijgmaal/rap58200', 'https://immo.vlan.be/en/detail/flat---apartment/for-sale/8000/brugge/rwc10757', 'https://immo.vlan.be/en/detail/flat---apartment/for-sale/8301/heist/rap58199', 'https://immo.vlan.be/en/detail/master-house/for-sale/1500/halle/val86530', 'https://immo.vlan.be/en/detail/flat---apartment/for-sale/8791/beveren-leie/rap58194', 'https://immo.vlan.be/en/detail/flat---apartment/for-sale/8900/ieper/rap58188', 'https://immo.vlan.be/en/detail/flat---apartment/for-sale/8900/ieper/rap58187', 'https://immo.vlan.be/en/detail/flat---apartment/for-sale/8900/ieper/rap58186', 'https://immo.vlan.be/en/detail/flat---apartment/for-sale/8900/ieper/rap58185', 'https://immo.vlan.be/en/detail/commerce-building/for-sale/7000/mons/val86526', 'https://immo.vlan.be/en/detail/villa/for-sale/2200/morkhoven/rap58183', 'https://immo.vlan.be/en/detail/villa/for-sale/2220/heist-op-den-berg/rap58182', 'https://immo.vlan.be/en/detail/flat---apartment/for-sale/3690/zutendaal/rap58181', 'https://immo.vlan.be/en/detail/flat---apartment/for-sale/1060/sint-gillis/val86525', 'https://immo.vlan.be/en/detail/residence/for-sale/8200/sint-andries/rap58178', 'https://immo.vlan.be/en/detail/residence/for-sale/6000/charleroi/val86520', 'https://immo.vlan.be/en/detail/development-site/for-sale/4020/jupille/val86519', 'https://immo.vlan.be/en/detail/industrial-building/for-sale/8581/kerkhove/rap58175', 'https://immo.vlan.be/en/detail/residence/for-sale/5300/seilles/val86517', 'https://immo.vlan.be/en/detail/flat---apartment/for-sale/9000/gent/rap58174', 'https://immo.vlan.be/en/detail/flat---apartment/for-sale/9000/gent/rap58173', 'https://immo.vlan.be/en/detail/residence/for-sale/9070/heusden/rap58172', 'https://immo.vlan.be/en/detail/residence/for-sale/8400/oostende/rwc10756', 'https://immo.vlan.be/en/detail/residence/for-sale/4684/haccourt/val86516', 'https://immo.vlan.be/en/detail/residence/for-sale/4530/villers-le-bouillet/val86515', 'https://immo.vlan.be/en/detail/flat---apartment/for-sale/3530/houthalen-helchteren/rwc10755', 'https://immo.vlan.be/en/detail/residence/for-sale/2300/turnhout/rap58168', 'https://immo.vlan.be/en/detail/villa/for-sale/3700/piringen/rap58165', 'https://immo.vlan.be/en/detail/ground-floor/for-sale/1180/ukkel/val86510', 'https://immo.vlan.be/en/detail/residence/for-sale/8630/veurne/rap58162', 'https://immo.vlan.be/en/detail/commerce-building/for-sale/8500/kortrijk/rap58161', 'https://immo.vlan.be/en/detail/residence/for-sale/8400/oostende/rap58160', 'https://immo.vlan.be/en/detail/residence/for-sale/1170/watermaal-bosvoorde/val86509', 'https://immo.vlan.be/en/detail/residence/for-sale/3001/heverlee/rap58158', 'https://immo.vlan.be/en/detail/flat---apartment/for-sale/1190/vorst/val86506', 'https://immo.vlan.be/en/detail/duplex/for-sale/4400/flemalle/val86504', 'https://immo.vlan.be/en/detail/flat---apartment/for-sale/4400/flemalle/val86503', 'https://immo.vlan.be/en/detail/parking/for-sale/8310/assebroek/rwc10754', 'https://immo.vlan.be/en/detail/master-house/for-sale/7180/seneffe/val86502', 'https://immo.vlan.be/en/detail/residence/for-sale/6040/jumet/val86501', 'https://immo.vlan.be/en/detail/flat---apartment/for-sale/1340/ottignies/val86500', 'https://immo.vlan.be/en/detail/residence/for-sale/2260/westerlo/rap58156', 'https://immo.vlan.be/en/detail/residence/for-sale/2290/vorselaar/rap58155', 'https://immo.vlan.be/en/detail/residence/for-sale/1410/waterloo/vwc91236', 'https://immo.vlan.be/en/detail/villa/for-sale/7060/soignies/val86491', 'https://immo.vlan.be/en/detail/flat---apartment/for-sale/1540/herne/val86490', 'https://immo.vlan.be/en/detail/flat---apartment/for-sale/3530/houthalen-helchteren/rwc10752', 'https://immo.vlan.be/en/detail/residence/for-sale/8680/koekelare/rwc10751', 'https://immo.vlan.be/en/detail/residence/for-sale/4430/ans/val86483', 'https://immo.vlan.be/en/detail/residence/for-sale/5003/saint-marc/val86482', 'https://immo.vlan.be/en/detail/flat---apartment/for-sale/1080/sint-jans-molenbeek/val86481', 'https://immo.vlan.be/en/detail/residence/for-sale/8930/menen/rap58152', 'https://immo.vlan.be/en/detail/return-building/for-sale/1080/sint-jans-molenbeek/val86480', 'https://immo.vlan.be/en/detail/ground-floor/for-sale/4140/sprimont/val86473', 'https://immo.vlan.be/en/detail/development-site/for-sale/3582/koersel/rap58150', 'https://immo.vlan.be/en/detail/residence/for-sale/6040/jumet/val86472', 'https://immo.vlan.be/en/detail/residence/for-sale/8930/rekkem/rap58148', 'https://immo.vlan.be/en/detail/villa/for-sale/1330/rixensart/val86471', 'https://immo.vlan.be/en/detail/residence/for-sale/2850/boom/rap58146', 'https://immo.vlan.be/en/detail/residence/for-sale/7012/jemappes/val86470', 'https://immo.vlan.be/en/detail/residence/for-sale/2850/boom/rap58145', 'https://immo.vlan.be/en/detail/master-house/for-sale/2600/berchem/rap58144', 'https://immo.vlan.be/en/detail/flat---apartment/for-sale/2600/berchem/rap58143', 'https://immo.vlan.be/en/detail/commerce-building/for-sale/2018/antwerp/rap58142', 'https://immo.vlan.be/en/detail/residence/for-sale/4450/juprelle/val86466', 'https://immo.vlan.be/en/detail/residence/for-sale/8020/waardamme/rap58140', 'https://immo.vlan.be/en/detail/flat---apartment/for-sale/8434/westende/rap58139', 'https://immo.vlan.be/en/detail/flat---apartment/for-sale/1030/schaarbeek/val86464', 'https://immo.vlan.be/en/detail/flat---apartment/for-sale/8430/middelkerke/rap58138', 'https://immo.vlan.be/en/detail/garage/for-sale/1083/ganshoren/val86460', 'https://immo.vlan.be/en/detail/mansion/for-sale/8370/blankenberge/rap58137', 'https://immo.vlan.be/en/detail/flat---studio/for-sale/1000/brussels/rap58136', 'https://immo.vlan.be/en/detail/residence/for-sale/8370/blankenberge/rap58133', 'https://immo.vlan.be/en/detail/farming-site/for-sale/8691/stavele/rap58135', 'https://immo.vlan.be/en/detail/flat---studio/for-sale/1000/brussels/rap58134', 'https://immo.vlan.be/en/detail/flat---apartment/for-sale/9000/gent/rap58130', 'https://immo.vlan.be/en/detail/flat---apartment/for-sale/9000/gent/rap58129', 'https://immo.vlan.be/en/detail/flat---apartment/for-sale/1140/evere/val86457', 'https://immo.vlan.be/en/detail/residence/for-sale/9270/laarne/rap58127', 'https://immo.vlan.be/en/detail/residence/for-sale/3670/meeuwen-gruitrode/rap58126', 'https://immo.vlan.be/en/detail/residence/for-sale/3210/lubbeek/rap58124', 'https://immo.vlan.be/en/detail/flat---apartment/for-sale/3150/haacht/rap58123', 'https://immo.vlan.be/en/detail/flat---apartment/for-sale/2018/antwerp/rap58122', 'https://immo.vlan.be/en/detail/return-building/for-sale/7000/mons/val86455', 'https://immo.vlan.be/en/detail/residence/for-sale/8900/ieper/rap58119', 'https://immo.vlan.be/en/detail/residence/for-sale/6061/montignies-sur-sambre/val86453', 'https://immo.vlan.be/en/detail/development-site/for-sale/9120/vrasene/rap58118', 'https://immo.vlan.be/en/detail/residence/for-sale/7033/cuesmes/val86452', 'https://immo.vlan.be/en/detail/residence/for-sale/6150/anderlues/val86447', 'https://immo.vlan.be/en/detail/residence/for-sale/6150/anderlues/val86446', 'https://immo.vlan.be/en/detail/return-building/for-sale/1160/oudergem/val86445', 'https://immo.vlan.be/en/detail/residence/for-sale/8380/zeebrugge/rap58115', 'https://immo.vlan.be/en/detail/residence/for-sale/4400/awirs/val86443', 'https://immo.vlan.be/en/detail/residence/for-sale/8000/brugge/rap58114', 'https://immo.vlan.be/en/detail/development-site/for-sale/6600/bastogne/val86440', 'https://immo.vlan.be/en/detail/flat---apartment/for-sale/2620/hemiksem/rap58113', 'https://immo.vlan.be/en/detail/flat---apartment/for-sale/2620/hemiksem/rap58112', 'https://immo.vlan.be/en/detail/flat---apartment/for-sale/1820/melsbroek/rap58111', 'https://immo.vlan.be/en/detail/residence/for-sale/9190/stekene/rap58110', 'https://immo.vlan.be/en/detail/penthouse/for-sale/4653/bolland/val86439', 'https://immo.vlan.be/en/detail/penthouse/for-sale/4650/herve/val86438', 'https://immo.vlan.be/en/detail/residence/for-sale/4250/geer/val86437', 'https://immo.vlan.be/en/detail/residence/for-sale/4050/chaudfontaine/val86436', 'https://immo.vlan.be/en/detail/flat---apartment/for-sale/8300/knokke-heist/vwc91234', 'https://immo.vlan.be/en/detail/residence/for-sale/1150/sint-pieters-woluwe/val86435', 'https://immo.vlan.be/en/detail/cottage/for-sale/7711/dottignies/val86433', 'https://immo.vlan.be/en/detail/villa/for-sale/7711/dottignies/val86432', 'https://immo.vlan.be/en/detail/master-house/for-sale/7500/tournai/val86431', 'https://immo.vlan.be/en/detail/loft/for-sale/1070/anderlecht/vwc91233', 'https://immo.vlan.be/en/detail/residence/for-sale/1070/anderlecht/val86429']\n"
    }
   ],
   "source": [
    "# Browsing one page\n",
    "print(properties_links)\n",
    "# current_link = properties_links[0]\n",
    "# print(current_link)\n",
    "# driver.get(current_link)\n"
   ]
  },
  {
   "cell_type": "code",
   "execution_count": 117,
   "metadata": {
    "tags": []
   },
   "outputs": [
    {
     "output_type": "stream",
     "name": "stdout",
     "text": "3209\n"
    }
   ],
   "source": [
    "print(len(properties_links))"
   ]
  },
  {
   "cell_type": "code",
   "execution_count": 135,
   "metadata": {
    "tags": []
   },
   "outputs": [
    {
     "output_type": "stream",
     "name": "stdout",
     "text": "https://immo.vlan.be/en/detail/residence/for-sale/8810/lichtervelde/rap58924\n"
    }
   ],
   "source": [
    "print(properties_links[0])"
   ]
  },
  {
   "source": [
    "1. Locality\n",
    "1. Type of property (House/apartment)\n",
    "1. Subtype of property (Bungalow, Chalet, Mansion, ...)\n",
    "1. Price\n",
    "1. Type of sale (Exclusion of life sales)\n",
    "1. Number of rooms\n",
    "1. Area\n",
    "1. Fully equipped kitchen (Yes/No)\n",
    "1. Furnished (Yes/No)\n",
    "1. Open fire (Yes/No)\n",
    "1. Terrace (Yes/No)\n",
    "1. If yes: Area\n",
    "1. Garden (Yes/No)\n",
    "1. If yes: Area\n",
    "1. Surface of the land\n",
    "1. Surface area of the plot of land\n",
    "1. Number of facades\n",
    "1. Swimming pool (Yes/No)\n",
    "1. State of the building (New, to be renovated, ...)"
   ],
   "cell_type": "markdown",
   "metadata": {}
  },
  {
   "cell_type": "code",
   "execution_count": 131,
   "metadata": {
    "tags": []
   },
   "outputs": [
    {
     "output_type": "stream",
     "name": "stdout",
     "text": "[]\n"
    }
   ],
   "source": [
    "'''\n",
    "Locality\n",
    "Type of property (House/apartment)\n",
    "Subtype of property (Bungalow, Chalet, Mansion, ...)\n",
    "Price\n",
    "Type of sale (Exclusion of life sales)\n",
    "Number of rooms\n",
    "Area\n",
    "Fully equipped kitchen (Yes/No)\n",
    "Furnished (Yes/No)\n",
    "Open fire (Yes/No)\n",
    "Terrace (Yes/No)\n",
    "If yes: Area\n",
    "Garden (Yes/No)\n",
    "If yes: Area\n",
    "Surface of the land\n",
    "Surface area of the plot of land\n",
    "Number of facades\n",
    "Swimming pool (Yes/No)\n",
    "State of the building (New, to be renovated, ...)\n",
    "'''\n"
   ]
  },
  {
   "cell_type": "code",
   "execution_count": 136,
   "metadata": {},
   "outputs": [],
   "source": [
    "with open(\"./properties_links.txt\", \"a\") as list_of_links_file:\n",
    "    for page_property_link in properties_links:\n",
    "        list_of_links_file.write(f\"{page_property_link}\\n\")\n"
   ]
  }
 ]
}