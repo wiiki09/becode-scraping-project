{
 "metadata": {
  "language_info": {
   "codemirror_mode": {
    "name": "ipython",
    "version": 3
   },
   "file_extension": ".py",
   "mimetype": "text/x-python",
   "name": "python",
   "nbconvert_exporter": "python",
   "pygments_lexer": "ipython3",
   "version": "3.8.3-final"
  },
  "orig_nbformat": 2,
  "kernelspec": {
   "name": "Python 3.8.3 64-bit (conda)",
   "display_name": "Python 3.8.3 64-bit (conda)",
   "metadata": {
    "interpreter": {
     "hash": "3b1a8060338225f2bebef7ac4b2e7f6bf43c2f4428566c5ddcf188aa63f7df5e"
    }
   }
  }
 },
 "nbformat": 4,
 "nbformat_minor": 2,
 "cells": [
  {
   "cell_type": "code",
   "execution_count": 23,
   "metadata": {
    "tags": []
   },
   "outputs": [
    {
     "output_type": "stream",
     "name": "stdout",
     "text": "53941 properties for sale now on Immovlan.\n"
    }
   ],
   "source": [
    "from selenium import webdriver\n",
    "from selenium.webdriver.common.keys import Keys #gives me access to the enter key \n",
    "from selenium.webdriver.support.ui import WebDriverWait\n",
    "from selenium.webdriver.support import expected_conditions as EC\n",
    "from selenium.common.exceptions import TimeoutException\n",
    "from selenium.webdriver.common.by import By\n",
    "from bs4 import BeautifulSoup\n",
    "import requests\n",
    "import time\n",
    "\n",
    "# PATH = \"/usr/bin/chromedriver\" # For Linux\n",
    "PATH = \"C:\\\\Users\\\\didie\\\\WebDrivers\\\\chromedriver.exe\" # my path from windows\n",
    "\n",
    "driver = webdriver.Chrome(PATH)\n",
    "\n",
    "# Request init\n",
    "driver.get(\"https://immo.vlan.be/en/real-estate?propertytypes=flat,house&transactiontypes=for-sale,in-public-sale&propertysubtypes=flat---apartment,ground-floor,duplex,penthouse,flat---studio,loft,triplex,residence,villa,mixed-building,master-house,cottage,bungalow,chalet,mansion&countries=belgium&noindex=1\") \n",
    "\n",
    "\n",
    "print(driver.title) # Check to see if OK!!!\n",
    "# driver.close() # to close the tab but I can use quit to quit the application\n",
    "\n",
    "\n",
    "\n",
    "\n"
   ]
  },
  {
   "cell_type": "code",
   "execution_count": 24,
   "metadata": {
    "tags": []
   },
   "outputs": [
    {
     "output_type": "stream",
     "name": "stdout",
     "text": "Popup closed\n"
    }
   ],
   "source": [
    "# first Id than name than class\n",
    "# let's get rid of the cookie pop window\n",
    "time.sleep(3)\n",
    "\n",
    "def remove_popup():\n",
    "    # Target button exit popup\n",
    "    cookie_btn = driver.find_elements_by_id(\"didomi-notice-agree-button\")\n",
    "\n",
    "    # click to close Popup  \n",
    "    cookie_btn[0].click()\n",
    "\n",
    "\n",
    "remove_popup()\n",
    "print(\"Popup closed\")"
   ]
  },
  {
   "source": [
    "## Function Helper and Methods\n",
    "\n",
    "#### For Window search page"
   ],
   "cell_type": "markdown",
   "metadata": {}
  },
  {
   "cell_type": "code",
   "execution_count": 25,
   "metadata": {},
   "outputs": [],
   "source": [
    "# search by regions === > Search Window Object\n",
    "def target_search_button(driver):\n",
    "    return driver.find_element_by_name(\"search\")\n",
    "\n",
    "\n",
    "def initiation_search_by_area(search_location_input, Areas):\n",
    "    # Sending text on the input form\n",
    "    search_location_input.send_keys(Areas[0])\n",
    "    time.sleep(1)\n",
    "    #click to fetch go on result page\n",
    "    search_location_input.send_keys(Keys.RETURN) \n",
    "\n"
   ]
  },
  {
   "source": [
    "#### For List Views ThumbNails"
   ],
   "cell_type": "markdown",
   "metadata": {}
  },
  {
   "cell_type": "code",
   "execution_count": 26,
   "metadata": {},
   "outputs": [],
   "source": [
    "# vaccum page list\n",
    "def store_list_view_container():\n",
    "    time.sleep(1)\n",
    "    return driver.find_element_by_xpath(\"//div[contains(@id, 'app-search')]\")\n",
    "    # return WebDriverWait(driver, 10).until(EC.presence_of_all_element_located((By.XPATH, \"//div[contains(@id, 'app-search')]\")))\n",
    "\n",
    "# Create thumbnails list\n",
    "def create_thumbs():\n",
    "    # Second Method\n",
    "    return store_list_view_container()\n",
    "\n",
    "def create_propreties(thumbnails):\n",
    "    print(thumbnails.text)\n",
    "    #Creation container de propreties\n",
    "    # 1 Method return thumbnails.find_elements_by_xpath(\"//a[contains(@href, '/en/detail')]\") \n",
    "    time.sleep(2)\n",
    "    return WebDriverWait(driver, 5).until(EC.presence_of_all_elements_located((By.XPATH, \"//a[contains(@href, '/en/detail')]\"))) "
   ]
  },
  {
   "cell_type": "code",
   "execution_count": 27,
   "metadata": {},
   "outputs": [],
   "source": [
    "def create_pages_link(propreties_thum, properties_links):\n",
    "    for property in propreties_thum:\n",
    "        if property.get_attribute('href') not in properties_links and '/en/detail/' in property.get_attribute('href'):\n",
    "            # print(property.get_attribute('href')) \n",
    "            properties_links.append(property.get_attribute('href'))"
   ]
  },
  {
   "source": [
    "# Isolation of single list view"
   ],
   "cell_type": "markdown",
   "metadata": {}
  },
  {
   "cell_type": "code",
   "execution_count": 28,
   "metadata": {
    "tags": []
   },
   "outputs": [
    {
     "output_type": "stream",
     "name": "stdout",
     "text": "Real Estate\nPROPERTY TYPE\nFlat (29395)\nFlat - Apartment (24247)\nGround floor (1615)\nDuplex (1214)\nPenthouse (1211)\nFlat - Studio (796)\nLoft (209)\nTriplex (103)\nHouse (24546)\nResidence (20792)\nVilla (2185)\nMixed building (626)\nMaster house (391)\nCottage (234)\nBungalow (188)\nChalet (69)\nMansion (61)\nLand (5888)\nBusiness (5828)\nInvestment property (1943)\nGarage (1398)\nMiscellaneous (276)\nStudent housing (77)\nTRANSACTION TYPE\nfor sale\n (53576)\nfor rent\n (12858)\nin public sale\n (365)\nto share\n (7)\nLOCATION\nPRICE\nPOPULAR CRITERIA\nCOUNTRY\nBEDROOMS\nLIVABLE SURFACE\nTOTAL SURFACE\nBATHROOMS\nCONSTRUCTION TYPE\nPROPERTY CONDITION\nMORE OPTIONS\nPROVIDER\nRESET\nWe search on your behalf!\nGet notified as soon as a new property matching your search appears!\nReceive an email each time there&#39;s a property that meets your criteria!\nCreate your alert now\nWe search on your behalf!\nGet notified as soon as a new property matching your search appears!\nReceive an email each time there&#39;s a property that meets your criteria!\nCreate your alert now\n53941 properties for sale\nToggle Dropdown\nSort\nMap\nBEST OF\n114.000 €\nDuplex for sale\n6043 Ransart\nDUPLEX  Want to know more?\n2\n128 m²\n1\nCONTACT\nDETAILS\nBEST OF\n84.000 €\nGround floor for sale\n6043 Ransart\nrez avec jardin  Want to know more?\n1\n66 m²\n1\nCONTACT\nDETAILS\nBEST OF\n258.000 €\nResidence for sale\n9900 Eeklo\n2-gevelwoning in verkaveling welke kindvriendelijk als woonerf wordt ingericht met grote groen- en speelzone; Heerlijk rustige ligging in groene omgeving van een vroegere kloostertuin. De woning besta ...  Want to know more?\n3\n147.63 m²\n1\n178 m²\nCONTACT\nDETAILS\nBEST OF\n268.000 €\nResidence for sale\n9900 Eeklo\n3-gevelwoning in verkaveling welke kindvriendelijk als woonerf wordt ingericht met grote groen- en speelzone; Heerlijk rustige ligging in groene omgeving van een vroegere kloostertuin. De woning besta ...  Want to know more?\n3\n149.78 m²\n1\n178 m²\nCONTACT\nDETAILS\nBEST OF\n165.000 €\nResidence for sale\n7600 Péruwelz\nREF-680 - PERUWELZ 7600 (côté Wiers)- Jolie maison 3 façades rénovée. - Salle à manger, Salon, Cuisine équipée, Salle de Bains, 2/3 Chambres, Dressing, Cave, Remise, dépendances, Jardin, Garage. - Dou ...  Want to know more?\n2\n118 m²\n200 m²\nCONTACT\nDETAILS\nBEST OF\n85.000 €\nFlat - Apartment for sale\n6040 Jumet\nAppartement 2 chambres avec balcon remis à neuf situé au 1er étage d&#39;une copropriété de 8 unités. (PAS D&#39;ASCENSEUR). COMPOSITION : hall d&#39;entrée, grand living, cuisine équipée, une salle de bain, un w ...  Want to know more?\n2\n100 m²\n1\nCONTACT\nDETAILS\nBEST OF\n230.000 €\nFlat - Apartment for sale\n8500 Kortrijk\nMet trots stellen we Residentie &quot;Park Lane&quot; aan u voor, een stijlvol woonproject gelegen in de Koning Albertstraat te Kortrijk. Het geniet tegelijk van de rust met binnentuin in een stad, bevindt zich ...  Want to know more?\n70 m²\n1\n1\n10 m²\nCONTACT\nDETAILS\nBEST OF\nFlat - Apartment for sale\n3500 Hasselt\nProject: Residentie Uilenspiegel\nMeer info ophttps:/ ### wonen op een droomlocatie in hartje HasseltIn het hart van mode- en cultuurstad Hasselt bouwt Ivo Verca ...  Want to know more?\n2\n125 m²\n1\nCONTACT\nDETAILS\nBEST OF\n302.765 €\nResidence for sale\n8972 Proven\nProject: Bouwgronden en nieuwe won...\nEen nieuwe thuis in Proven? Ontdek deze kleinschalige, aangename verkaveling in het gezellige Proven, op 7 km van Poperinge. Je geniet er van de charme van deze landelijke gemeente met idyllische verg ...  Want to know more?\n3\n1\n397 m²\nCONTACT\nDETAILS\nBEST OF\n990.000 €\nVilla for sale\n1700 Dilbeek\nA proximité des grands axes, près de la sortie du RING. Superbe Villa 4 façades de +/-230m² en parfait état située dans un quartier très calme et verdoyant. Elle se compose d&#39;un agréable hall d&#39;entrée ...  Want to know more?\n230 m²\n2\n1\n2370 m²\nCONTACT\nDETAILS\nBEST OF\n395.000 €\nResidence for sale\n3061 Leefdaal\nImmo 3000 heeft deze ruime woning te koop van wel 237m² bewoonbare oppervlakte tussen Leuven en Brussel. Parkeren kan perfect op de oprit, waar plaats is voor 3 wagens. Gezien dit een voormalige kappe ...  Want to know more?\n5\n237 m²\n1\n385 m²\nCONTACT\nDETAILS\nBEST OF\n90.000 €\nResidence for sale\n7130 Binche\nLooking for a house in the center of Binche? You do not want to do a lot of work? Do you need space? This house located close to the center of Binche is then made for you! ! You can enjoy on the groun ...  Want to know more?\n4\n130 m²\n1\n70 m²\nCONTACT\nDETAILS\nBEST OF\n1.300.000 €\nVilla for sale\n9831 Deurle\nDeze unieke en centraal gelegen eigendom te Deurle werd gebouwd in het jaar 2000 op een perceel van 2.200 m² groot, dewelke een idyllische tuin herbergt. Via de automatische houten poort kan men deze ...  Want to know more?\n5\n2\n2200 m²\nCONTACT\nDETAILS\nBEST OF\n395.000 €\nResidence for sale\n9890 Gavere\nDeze unieke eigendom is gelegen op enkele minuten van het aangename centrum van Gavere. Dit pand heeft een vlotte bereikbaarheid wegens de nabijheid van de N60 en oprit E17, waardoor dit een echte top ...  Want to know more?\n2\n274 m²\n1\n635 m²\nCONTACT\nDETAILS\nBEST OF\n118.000 €\nResidence for sale\n8770 Ingelmunster\nKnusse gezellige rijwoning met klein koertje achteraan. Mogelijkheid tot bijmaken groot dakterras op plat dak van uitbouw achteraan. Instapklare woning met verwarming op aardgaskachel en pelletkachel. ...  Want to know more?\n1\n1\n62 m²\nCONTACT\nDETAILS\nBEST OF\n99.000 €\nFlat - Studio for sale\n8670 Koksijde\nThis interesting investment opportunity in the Victory residence is located at the corner of the Zeelaan and the Lalouxlaan.The centrally located studio with sleeping area is also within walking dista ...  Want to know more?\n38 m²\n1\nCONTACT\nDETAILS\nBEST OF\n239.000 €\nFlat - Apartment for sale\n9200 Appels\nDit nieuwbouwproject is zeer rustig gelegen in een groene omgeving, voorzien van een vlotte verbinding naar Aalst/Wetteren. Dit nieuwbouwappartement van 88 m² is gelegen op de gelijkvloerse verdieping ...  Want to know more?\n2\n88 m²\n36 m²\nCONTACT\nDETAILS\nBEST OF\n265.000 €\nFlat - Apartment for sale\n8020 Ruddervoorde\nProject: 2292106\nBel ons voor een privé bezoek in het prachtige model appartement; Dit project staat voor stijlvol en hedendaags wonen in een zeer energiezuinig appartement. Klinkt goed? Grijp dan nu je kans!; Residen ...  Want to know more?\n2\n93.7 m²\n1\n22 m²\nCONTACT\nDETAILS\nBEST OF\n269.000 €\nResidence for sale\n9450 Denderhoutem\nInstapklare gezinswoning met tal van ruimte, gelegen in het dorpscentrum van Denderhoutem, baan naar Ninove! Woning omvattende een inkomhal, apart toilet, bureauruimte, salon, eetplaats met open keuke ...  Want to know more?\n4\n185 m²\n120 m²\n270 m²\nCONTACT\nDETAILS\nBEST OF\n134.500 €\nFlat - Apartment for sale\n9700 Oudenaarde\nDit appartement is gelegen in Leupegem en is gelegen op het gelijkvloers verdiep. Dit dient samen te worden aangekocht met het appartement op het eerste verdiep (volledig gebouw). Dit appartement heef ...  Want to know more?\n2\n135 m²\nCONTACT\nDETAILS\nBEST OF\n134.500 €\nFlat - Apartment for sale\n9700 Oudenaarde\nDit appartement is gelegen in Leupegem en is gelegen op het eerste verdiep. Dit dient samen te worden aangekocht met het appartement op het gelijkvloers (volledig gebouw). Het goed heeft een bewoonbaa ...  Want to know more?\n2\n166 m²\nCONTACT\nDETAILS\nBEST OF\n285.000 €\nFlat - Apartment for sale\n1000 Brussels\n3\n85 m²\nCONTACT\nDETAILS\nBEST OF\n329.500 €\nFlat - Apartment for sale\n2018 Antwerp\nProject: 10 Van Schoonbeke\nDit comfortabele 2 slaapkamer nieuwbouwappartement op de 1e verdieping heeft een bewoonbare oppervlakte van 100m², een gezellig stadsterras van 8m² en is volledig instapklaar. U betreedt het apparteme ...  Want to know more?\n2\n100 m²\n8 m²\nCONTACT\nDETAILS\nBEST OF\n209.500 €\nFlat - Apartment for sale\n2660 Hoboken\nProject: Groen Zuid, Fase 4, varia...\nLeef comfortabel in dit 2 slaapkamerappartement van 90 m² op de 2 e verdieping. Via de inkomhal heeft u toegang tot de badkamer met ligbad/douche en dubbele lavabo, de slaapkamer, de bureauruimte, het ...  Want to know more?\n2\n90 m²\n14 m²\nCONTACT\nDETAILS\nBEST OF\n115.000 €\nResidence for sale\n7130 Binche\nUne maison à rénover offrant de nombreuses possibilités d’aménagement et à deux pas de la Grand’Place de Binche composée au sous-sol : de caves, au rez-de-chaussée : d’un hall d’entrée, d’un salon, d’ ...  Want to know more?\n2\n143 m²\n1\n80 m²\nCONTACT\nDETAILS\nBEST OF\n195.000 €\nResidence for sale\n6042 Lodelinsart\n/  Want to know more?\n1\n1\n320 m²\n445 m²\nCONTACT\nDETAILS\nBEST OF\n260.000 €\nFlat - Apartment for sale\n1090 Jette\nJette: A spacious and bright 2 room apartment with rear balcony. The apartment consists of a spacious entrance hall of + -10m² with cloakroom which leads to 2 beautiful bedrooms of + - 15 &amp; 17m², an i ...  Want to know more?\n2\n105 m²\n4 m²\nCONTACT\nDETAILS\nBEST OF\n95.000 €\nResidence for sale\n6200 Bouffioulx\nAdresse : 6200 Bouffioulx, rue de Presles 22 Agréable appartement de 70m² au rez-de-chaussée, rénové récemment (cuisine, électricité, châssis, …), habitable immédiatement. Idéal pour investisseurs, je ...  Want to know more?\n1\n70 m²\n1\nCONTACT\nDETAILS\nBEST OF\n549.000 €\nFlat - Apartment for sale\n8670 Koksijde\nAppartement de coin récent et moderne sis au 4ième étage situé sur la digue et près du centre. Soleil du matin au soir. Living très ensoleillé avec une vue magnifique sur mer. Grand balcon ensoleillé. ...  Want to know more?\n2\n70 m²\n1\nCONTACT\nDETAILS\nBEST OF\n179.000 €\nMixed building for sale\n7100 La Louvière\nLA LOUVIERE : Bonne maison avec surface commerciale, elle vous propose en Rez : surface commerciale de 25m², hall d’entrée, bureau, living donnant sur extérieur par baie vitrée, cuisine (cuisinière et ...  Want to know more?\n4\n191 m²\n1\n150 m²\nCONTACT\nDETAILS\n1\n2\n3\n4\n5\n...\n167\n"
    }
   ],
   "source": [
    "# I need to rebuild links\n",
    "# let's do for one                                               \n",
    "\n",
    "thumbails = create_thumbs()\n",
    "propreties_thum = create_propreties(thumbails)\n",
    "# print(propreties_thum.text) Just to check if thumbnails stored\n"
   ]
  },
  {
   "source": [
    "# Append each single thumbnails link on Propreties List"
   ],
   "cell_type": "markdown",
   "metadata": {}
  },
  {
   "cell_type": "code",
   "execution_count": 29,
   "metadata": {},
   "outputs": [],
   "source": [
    "properties_links = []\n",
    "\n",
    "create_pages_link(propreties_thum, properties_links)\n",
    "\n",
    "# print(properties_links)\n",
    "# print(len(properties_links)) Just to check result "
   ]
  },
  {
   "source": [
    "### Make the Bot click each pages"
   ],
   "cell_type": "markdown",
   "metadata": {}
  },
  {
   "source": [
    "# Will be used in an iteration\n",
    "\n",
    "for page in range(2, 167):\n",
    "    current_link = driver.find_element_by_link_text(str(page))\n",
    "    WebDriverWait(driver, 2)\n",
    "\n",
    "    # isolate List view\n",
    "    thumbails = create_thumbs()\n",
    "    propreties_thum = create_propreties(thumbails)\n",
    "\n",
    "    create_pages_link(propreties_thum, properties_links)\n",
    "    \n",
    "    current_link.click()\n",
    "    # print(page)"
   ],
   "cell_type": "code",
   "metadata": {
    "tags": [
     "outputPrepend"
    ]
   },
   "execution_count": 30,
   "outputs": [
    {
     "output_type": "stream",
     "name": "stdout",
     "text": "n public sale\n (365)\nto share\n (7)\nLOCATION\nPRICE\nPOPULAR CRITERIA\nCOUNTRY\nBEDROOMS\nLIVABLE SURFACE\nTOTAL SURFACE\nBATHROOMS\nCONSTRUCTION TYPE\nPROPERTY CONDITION\nMORE OPTIONS\nPROVIDER\nRESET\nWe search on your behalf!\nGet notified as soon as a new property matching your search appears!\nReceive an email each time there&#39;s a property that meets your criteria!\nCreate your alert now\nWe search on your behalf!\nGet notified as soon as a new property matching your search appears!\nReceive an email each time there&#39;s a property that meets your criteria!\nCreate your alert now\n53941 properties for sale\nToggle Dropdown\nSort\nMap\nBEST OF\n60.000 €\nCottage for sale\n6534 Gozée\n!!!!! VENTE EN VIAGER !!!! Sur 1 tête en 15 ans (Monsieur né le 30/11/1941) Bouquet : 60.000euros frais d&#39;agence inclus Rente mensuelle occupé : 717euros En cas de libération des lieux la rente sera m ...  Want to know more?\n4\n3\n500 m²\nCONTACT\nDETAILS\nBEST OF\n1.695.000 €\nCottage for sale\n8300 Knokke\nUnique location on one of the most popular spots in Knokke for this farmhouse on a plot of approx. 1800 m² of private land. The location in a valuable agricultural area ensures beautiful views over th ...  Want to know more?\n3\n1\n2\n1868 m²\nCONTACT\nDETAILS\nBEST OF\n340.000 €\nCottage for sale\n5660 Cul-des-Sarts\nJulien Loosen, votre agent immobilier de proximité - ### vous propose : Une propriété type fermette en pierre du pays avec grange, garage et autres dépendances situés dans un cadre calme ...  Want to know more?\n2\n570 m²\n2\n4742 m²\nCONTACT\nDETAILS\nBEST OF\n345.000 €\nCottage for sale\n1600 Sint-Pieters-Leeuw\nImmo Pické biedt U deze uiterst rustig gelegen fermette aan op een mooi perceel van 11a 70ca. Dit te renoveren gebouw biedt zeer veel mogelijkheden en biedt de basis van een mooi en uniek project. Het ...  Want to know more?\n1\n80 m²\n1\n1170 m²\nCONTACT\nDETAILS\nBEST OF\n655.000 €\nCottage for sale\n7520 Templeuve\nÀ Templeuve, à la frontière française, entourée de terres rurales, une charmante ferme estproposée sur un terrain de 3570m2.Cette ancienne ferme a été rénovée tout en conservant des éléments authentiq ...  Want to know more?\n1\n2\n2270 m²\n3570 m²\nCONTACT\nDETAILS\nBEST OF\n415.000 €\nCottage for sale\n7730 Estaimpuis\nCharmante fermette individuelle résultant de la fusion de 2 maisons villageoises. Particularités : situation exceptionnelle dans le centre du village, mais en retrait de rue, et en contact direct avec ...  Want to know more?\n3\n215 m²\n2\n2575 m²\nCONTACT\nDETAILS\nBEST OF\n279.000 €\nCottage for sale\n5651 Laneffe\nLANEFFE : Charmante maison de caractères (Pierre bleue du pays et style fermette) sur 22 Ares de terrain avec dépendances, Elle se compose, Rez : Salle à manger avec cassette au bois, ouverte sur la c ...  Want to know more?\n3\n172 m²\n2\n2234 m²\nCONTACT\nDETAILS\nBEST OF\nPrice on request\nCottage for sale\n8750 Wingene\nOPPERVLAKTEN:Constructie - bewoonbare oppervlaktenWoning: 380m2 (gelijkvloers + eerste verdieping)Magazijn: 699m2, uitbreidbaar tot ± 1.950m2!!GrondoppervlakteTotale grondoppervlakte: 4.844m2 - Uitbre ...  Want to know more?\n4\n1079 m²\n4844 m²\nCONTACT\nDETAILS\nBEST OF\n270.000 €\nCottage for sale\n5310 Saint-Germain\n[ SOUS COMPROMIS ] OM-IMMO : 1% DE COMMISSION */ Découvrez ce bien en détails sur ### ! CONTACT VISITES : ANYCIA ### Spacieuse fermette composée de cinq chambres, deux salles d&#39;e ...  Want to know more?\n1\n2\n1470 m²\nCONTACT\nDETAILS\nBEST OF\n290.000 €\nCottage for sale\n6533 Biercée\nVENDU - Située en retrait de la route, cette jolie longère bénéficie d&#39;une situation agréable. Elle se compose d&#39;un hall d&#39;entrée, living avec bar, cuisine avec coin salle à manger, salle de bains ave ...  Want to know more?\n215 m²\n7\n1\n950 m²\nCONTACT\nDETAILS\nBEST OF\n950.000 €\nCottage for sale\n1730 Asse\nSchitterend landelijk gelegen hoeve met veel grond te Mollem (Asse). Deze hoeve omvat een zeer lichtrijke en ruime leefruimte waar men uitkijkt op groen, groen en nog eens groen. De woning werd zeer g ...  Want to know more?\n310 m²\n1\n2\n6800 m²\nCONTACT\nDETAILS\nBEST OF\n145.000 €\nBungalow for sale\n5600 Neuville\nInformations et visites uniquement au ### Magnifique bungalow de 2016, sur et avec terrain de 21 ares 15 ca en plein cœur du domaine &quot;La Forêt&quot; à Neuville (Philippeville), comprenant : Vaste ...  Want to know more?\n2\n70 m²\nCONTACT\nDETAILS\nBEST OF\n225.000 €\nBungalow for sale\n6567 Labuissière\nExcellente et jolie villa des années 80 a la périphérie d&#39;un merveilleux village de la région de THUIN longeant la Sambre. Dans un quartier résidentiel, au cœur d&#39;un grand jardin planté de vignes et d ...  Want to know more?\n3\n1\n1\nCONTACT\nDETAILS\nBEST OF\nOPTION\n449.000 €\nBungalow for sale\n1980 Eppegem\nHeb je interesse in een gezellige, op te frissen bungalow in een groene omgeving? Dan ben je hier zeker aan het juiste adres. De woning ligt in een residentiële buurt en heeft een ideale verbinding na ...  Want to know more?\n3\n159.85 m²\n1\n1729 m²\nCONTACT\nDETAILS\nBEST OF\n249.000 €\nBungalow for sale\n6997 Érezée\nHabitation récente (2011) de style cottage, 3 chambres (6-8p) Bungalow à faible entretien avec plafonds hauts, jardin privé plat et clôturé + terrasse supplémentaire clôturée. Le chalet dispose d&#39;inst ...  Want to know more?\n3\n1\n614 m²\nCONTACT\nDETAILS\nBEST OF\n225.000 €\nBungalow for sale\n6941 Bomal\nDans le sympathique petit village de Bomal-sur-Ourthe, agréable villa de plein pied, bénéficiant d&#39;un environnement calme, elle se compose d&#39;un séjour, salle-à-manger, cuisine super équipée, 3 chambre ...  Want to know more?\n3\n79 m²\n1\n881 m²\nCONTACT\nDETAILS\nBEST OF\nSOLD\n139.000 €\nBungalow for sale\n8434 Westende\nRustig gelegen vakantiewoning op het domein &quot;Zand III&quot;, bungalow. Centraal op 300 m van openbaar vervoer en winkels en op wandelafstand van de zee. Instapklaar en gemeubeld. Bevat: living met ingerich ...  Want to know more?\n2\n55 m²\n1\n59 m²\nCONTACT\nDETAILS\nBEST OF\n495.000 €\nBungalow for sale\n1730 Asse\nDeze schitterend gelegen bungalowwoning, te Asse ter Heide, zal u charmeren door zijn prachtige vergezichten en grote tuin. De woning is zeer praktisch ingedeeld en omvat een ruime en lichtrijke leefr ...  Want to know more?\n2\n170 m²\n1\n2520 m²\nCONTACT\nDETAILS\nBEST OF\n60.000 €\nBungalow for sale\n6044 Roux\nA 5 minutes en voiture de l&#39;hôpital Marie Curie et à 900 mètres de la Place du Ballon de Jumet, en bordure d&#39;une jolie place arborée, nous vous proposons cette petite maison de plain pied de +/- 67 m² ...  Want to know more?\n2\n67 m²\n1\n84 m²\nCONTACT\nDETAILS\nBEST OF\nOPTION\n129.000 €\nBungalow for sale\n5600 Sautour\nSOUS OPTION - SAUTOUR : Joli Bungalow 4 façade de plain-pied, il vous propose en Rez : Hall d&#39;entrée, living, cuisine semi-équipée ouverte sur le living (meuble double évier, lave-vaisselle, cuisinièr ...  Want to know more?\n1\n107 m²\n1\n1406 m²\nCONTACT\nDETAILS\nBEST OF\n249.000 €\nLoft for sale\n9690 Kluisbergen\nWenst u te wonen in een uniek kader?Deze stijlvolle loft is gelegen in een doodlopende straat in de voormalige brouwerij &#39;Foulon&#39;.Het complex is erkend als beschermd monument.Het pand bestaat op het g ...  Want to know more?\n1\nCONTACT\nDETAILS\nBEST OF\nSOLD\n620.000 €\nLoft for sale\n9000 Gent\nVisit us during the Salondagen on 10/10/2020 between 12h and 13h, discover this property and enjoy beautiful salon gifts. The loft (280m²) is located in a trendy, bustling environment near a green are ...  Want to know more?\n2\n278 m²\n80 m²\nCONTACT\nDETAILS\nBEST OF\n495.000 €\nLoft for sale\n1210 Sint-Joost-ten-Node\nSAINT-JOSSE-TEN-NOODE, limite BRUXELLES, à deux pas du Botanique, dans un immeuble datant de 1937, très beau loft entièrement rénové avec des matériaux de qualité de ±220m² gardant les éléments d&#39;époq ...  Want to know more?\n4\n220 m²\n1\nCONTACT\nDETAILS\nBEST OF\n450.000 €\nLoft for sale\n1601 Ruisbroek\nImmo Pické biedt U deze unieke eigendom aan bestaande uit een zeer ruime loft van 190m² en een groot atelier van ongeveer 250m². Het atelier bevindt zich op de gelijkvloerse verdieping en omvat een ru ...  Want to know more?\n3\n194 m²\n1\nCONTACT\nDETAILS\nBEST OF\n182.500 €\nLoft for sale\n8660 De Panne\nThis loft is located right in the center of De Panne within walking distance of the sea and beach and close to the commercial Zeelaan. &gt; LAYOUT - living room with open equipped kitchen (vitroceramic h ...  Want to know more?\n74 m²\nCONTACT\nDETAILS\nBEST OF\n85.000 €\nLoft for sale\n6150 Anderlues\nContact Direct ### L&#39;Etoile vous propose un rez-de-chaussée commercial (250 m²) AVEC GARAGE. Composition : Le bien aisément convertible en appartement/loft offre un espace en deux parties pou ...  Want to know more?\n1\nCONTACT\nDETAILS\nBEST OF\n450.000 €\nLoft for sale\n1180 Ukkel\nUccle at the foot of the Parvis St Pierre and not far from Wolvendael Park, you will find this discreet loft located in the heart of a wooded space inside the courtyard. The loft develops an area of + ...  Want to know more?\n1\n1\nCONTACT\nDETAILS\nBEST OF\n219.500 €\nLoft for sale\n8792 Desselgem\nThis modern loft is located in the centre of Desselgem and features a pleasant south facing garden. If you are looking for large rooms with high ceilings, make your appointment! LAYOUT Entrance hall - ...  Want to know more?\n2\n125 m²\n1\n1\nCONTACT\nDETAILS\nBEST OF\nPrice on request\nLoft for sale\n8500 Kortrijk\nOp de voormalige BST site langs de Leieboorden treft u deze unieke gelijkvloerse Loft met een totale oppervlakte van +/- 310 m2. Ruim zonneterras van 50 m2 en tuin van 100 m2. Residentiële, rustige ce ...  Want to know more?\n3\n311 m²\n2\nCONTACT\nDETAILS\nBEST OF\n279.000 €\nLoft for sale\n8500 Kortrijk\nWat een zalig ruimtegevoel heb je hier! Deze instapklare loft (134 m²) is echt zalig om in te vertoeven.Van de leefruimte ga je over naar de keuken, de zitruimte, het slaapgedeelte, het ruime terras.. ...  Want to know more?\n1\n1\nCONTACT\nDETAILS\n1\n...\n163\n164\n165\n166\n167\nReal Estate\nPROPERTY TYPE\nFlat (29395)\nFlat - Apartment (24247)\nGround floor (1615)\nDuplex (1214)\nPenthouse (1211)\nFlat - Studio (796)\nLoft (209)\nTriplex (103)\nHouse (24546)\nResidence (20792)\nVilla (2185)\nMixed building (626)\nMaster house (391)\nCottage (234)\nBungalow (188)\nChalet (69)\nMansion (61)\nLand (5888)\nBusiness (5828)\nInvestment property (1943)\nGarage (1398)\nMiscellaneous (276)\nStudent housing (77)\nTRANSACTION TYPE\nfor sale\n (53576)\nfor rent\n (12857)\nin public sale\n (365)\nto share\n (7)\nLOCATION\nPRICE\nPOPULAR CRITERIA\nCOUNTRY\nBEDROOMS\nLIVABLE SURFACE\nTOTAL SURFACE\nBATHROOMS\nCONSTRUCTION TYPE\nPROPERTY CONDITION\nMORE OPTIONS\nPROVIDER\nRESET\nWe search on your behalf!\nGet notified as soon as a new property matching your search appears!\nReceive an email each time there&#39;s a property that meets your criteria!\nCreate your alert now\nWe search on your behalf!\nGet notified as soon as a new property matching your search appears!\nReceive an email each time there&#39;s a property that meets your criteria!\nCreate your alert now\n53941 properties for sale\nToggle Dropdown\nSort\nMap\nBEST OF\n279.000 €\nLoft for sale\n8500 Kortrijk\nOp een oppervlakte van 134 m² vinden we deze luxueuze loft met 1 slaapkamer te koop in Kortrijk. Gelegen in hartje Kortrijk met goede verbinding naar de R8 en andere belangrijke invalswegen. De lichtr ...  Want to know more?\n1\n134 m²\n1\nCONTACT\nDETAILS\nBEST OF\n475.000 €\nLoft for sale\n9000 Gent\nThis cozy loft can be found on the outskirts of Ghent. The site was completely renovated in 2010 and consists of high-quality, modern apartments with the building exuding the charm of the past. The lo ...  Want to know more?\n146 m²\nCONTACT\nDETAILS\nBEST OF\n226.557 €\nLoft for sale\n2890 Oppuurs\nProject: Residentie Graanmolens\nDeze ruime casco loft (131 m²) biedt je alle mogelijkheden voor een droomwoning op maat. De loft bevindt zich op het eerste verdiep van het gerenoveerde molengebouw van Residentie Graanmolens. Twee mo ...  Want to know more?\n131 m²\n43 m²\nCONTACT\nDETAILS\nBEST OF\n247.104 €\nLoft for sale\n2890 Oppuurs\nProject: Residentie Graanmolens\nDeze ruime casco loft van 143 m² biedt je alle mogelijkheden voor een droomwoning op maat. De loft is gelegen op het gelijkvloers van het gerenoveerde molengebouw van Residentie Graanmolens en heeft e ...  Want to know more?\n120 m²\n57 m²\nCONTACT\nDETAILS\nBEST OF\n262.656 €\nLoft for sale\n2890 Oppuurs\nProject: Residentie Graanmolens\nDeze ruime casco loft van 152 m² biedt je alle mogelijkheden voor een droomwoning op maat. De loft is gelegen op het gelijkvloers van het gerenoveerde molengebouw van Residentie Graanmolens en heeft e ...  Want to know more?\n137 m²\n57 m²\nCONTACT\nDETAILS\nBEST OF\n445.000 €\nLoft for sale\n2000 Antwerp\nHet pand is gelegen op de grens van het Eilandje en de stadskern, aan het willemdok en naast Felix pakhuis &amp; bij het MAS. De Antwerpse Grote markt is op wandelafstand (15min) en richting noorden is he ...  Want to know more?\n1\n131 m²\n1\nCONTACT\nDETAILS\nBEST OF\n125.000 €\nLoft for sale\n8620 Nieuwpoort\nLoft avec garage spacieux situé dans le Sint Jacobsstraat à Nieuport-villa tout près du quai à vendre sur viagé. Le bien comprend: Entree, garage pour 2 ou 3 voitures, endroit multifoncionelle avec pr ...  Want to know more?\n4\n154 m²\n3\n3\nCONTACT\nDETAILS\nBEST OF\n269.000 €\nLoft for sale\n8850 Ardooie\nExclusieve loft (160m2) met tuin in hartje Ardooie! Gelegen in residentie De Brouwerij. Wordt volledig afgewerkt met kwaliteitsvolle materialen. Naast de grote woonruimte met open keuken (100m2) besch ...  Want to know more?\n2\n160 m²\n1\nCONTACT\nDETAILS\nBEST OF\n425.000 €\nLoft for sale\n7711 Dottignies\nDOTTIGNIES Très bel ensemble immobilier composé d&#39;un loft avec terrasse/jardin et entrepôts. A proximité du centre du village, à 30&#39; de Lille, 15&#39; de Tournai et de Courtrai, et à proximité immédiate d ...  Want to know more?\n4\n2\n115 m²\nCONTACT\nDETAILS\nBEST OF\n2.350.000 €\nMaster house for sale\n1050 Elsene\nSuperb house of style nestled in a private and secure clos on the edge of the Abbey of Cambre and ponds Ixelles. Entrance hall, large kitchen, dining room, double reception rooms with open fire., 1 la ...  Want to know more?\n500 m²\n1\n3\n170 m²\nCONTACT\nDETAILS\nBEST OF\n799.000 €\nMaster house for sale\n1502 Lembeek\nHerenhuis van 1920 op een terrein van 23 are. Het werd zeer mooi en verzorgd gerenoveerd met kwaliteitsvolle materialen (marmer mozaïek, blauwe steen eikenhouten parket) en behoud van de authenticitei ...  Want to know more?\n8\n571 m²\n3\n2300 m²\nCONTACT\nDETAILS\nBEST OF\n290.000 €\nMaster house for sale\n7740 Pecq\nVaste et élégante maison bourgeoise à Pecq composée d&#39;un hall desservant le séjour, une cuisine avec coin repas, entrée de service, wc séparé, un étage comprenant 4 chambres de 14 à 16 m2 et une salle ...  Want to know more?\n4\n145 m²\n1\n1290 m²\nCONTACT\nDETAILS\nBEST OF\n650.000 €\nMaster house for sale\n6460 Chimay\nBâtiment de prestige + garage à vendre  Want to know more?\n1\n905.83 m²\n1\n650 m²\nCONTACT\nDETAILS\nBEST OF\n690.000 €\nMaster house for sale\n1320 Beauvechain\nTrès grande maison de maître avec 5 garages à vendrebpost restera locataire de l&#39;annexe aménagée en bureau de poste à 6.000€/an  Want to know more?\n4\nCONTACT\nDETAILS\nBEST OF\n450.000 €\nMaster house for sale\n9600 Ronse\nBeautiful authentic townhouse for sale in the center of Ronse, Aime Delhayeplein. The stately mansion enjoys a beautiful garden on 1260 m² and a spacious living area. FORMAT ground floor: entrance hal ...  Want to know more?\n6\n451 m²\n1\n1260 m²\nCONTACT\nDETAILS\nBEST OF\n349.000 €\nMaster house for sale\n6040 Jumet\nLe DEAL immobilier vous propose ce manoir début 20e siècle placé sur un axe fréquenté, avec parking privatif aisé et deux garages. Bâtie sur un terrain de 10 ares et 330m² habitable, ce bien peut conv ...  Want to know more?\n14\n330 m²\n1\n670 m²\nCONTACT\nDETAILS\nBEST OF\n375.000 €\nMaster house for sale\n8560 Gullegem\nAre you looking for a spacious family home with studio located in Gullegem? Then this unique property is possible what you are looking for? The spacious rooms, the sunny garden, the smooth connection ...  Want to know more?\n4\n319 m²\n800 m²\nCONTACT\nDETAILS\nBEST OF\n685.000 €\nMaster house for sale\n8630 Veurne\nGelegen in de Karel Coggelaan, pal in het centrum van Veurne, vinden we deze exclusieve herenwoning te koop. De riante woonoppervlakte, diverse mogelijkheden en centrale ligging zijn slechts een greep ...  Want to know more?\n5\n600 m²\n1\nCONTACT\nDETAILS\nBEST OF\n798.000 €\nMaster house for sale\n3000 Leuven\nIMMO3000 heeft dit ruim herenhuis te koop op letterlijk twee minuten wandelen van het station van Leuven. Naast een topligging beschikt deze woning over een zeer ruimte bewoonbare oppervlakte van wel ...  Want to know more?\n7\n340 m²\n1\n236 m²\nCONTACT\nDETAILS\nBEST OF\n289.000 €\nMaster house for sale\n8870 Izegem\nOntdek deze net gerenoveerde, uiterst charmante woning, gelegen op een perceel van 202m² nabij het centrum van Izegem. De voormalige directeurswoning uit de jaren 1920 werd afgewerkt met duurzame mate ...  Want to know more?\n3\n179 m²\n1\n202 m²\nCONTACT\nDETAILS\nBEST OF\n695.000 €\nMaster house for sale\n8620 Nieuwpoort\nUitzonderlijke gerestaureerde herenwoning met alle moderne comfort. Indeling: inkomhal, apart bureau of 1e slaapkamer, ruime woonkamer met gashaard, volledig geinstalleerde keuken voorzien van al het ...  Want to know more?\n5\n333 m²\n1\n3\nCONTACT\nDETAILS\nBEST OF\n735.000 €\nMaster house for sale\n9280 Lebbeke\nPerfect instapklaar luxueus herenhuis te centrum Lebbeke. Alles is gerenoveerd met oog voor detail, de hoge plafonds zijn gebleven, elementen van weleer maar met hedendaags comfort. Op de gelijkvloers ...  Want to know more?\n415 m²\n1\n1\n620 m²\nCONTACT\nDETAILS\nBEST OF\n649.000 €\nMaster house for sale\n9620 Zottegem\nUnique property in the centre of Zottegem completely closed off from the street and completely fenced with a gate on the street side. The estate is accessible from the gate and the back where another ...  Want to know more?\n6\n487 m²\n1\n1568 m²\nCONTACT\nDETAILS\nBEST OF\n370.000 €\nMaster house for sale\n8840 Staden\nVoormalige pastorie/dekenij uit het begin van de jaren 1920 naar ontwerp vanThierry Nolf. Deze pastorie beschikt over een kelder, garage, oprit, 4 slaapkamers en ruime tuin op een totale oppervlakte v ...  Want to know more?\n1720 m²\nCONTACT\nDETAILS\nBEST OF\n525.000 €\nMaster house for sale\n8540 Deerlijk\nZeer mooi gerenoveerde herenwoning, via de ruime inkomhal gaat u met de trap naar de eerste verdieping : volledig geïnstalleerde keuken met ingebouwde kasten, grote berging, gezellige woonkamer met ve ...  Want to know more?\n3\n309 m²\n2\n660 m²\nCONTACT\nDETAILS\nBEST OF\n279.900 €\nMaster house for sale\n6060 Gilly\nA visiter sans tarder !!! Spacieuse maison de maître 3 façades située au centre de Gilly, proche de toutes commodités commerce, arrêt de bus, école, centre commercial et des axes routiers. Elle se com ...  Want to know more?\n7\n245 m²\n3\nCONTACT\nDETAILS\nBEST OF\n279.000 €\nMaster house for sale\n6060 Gilly\nFAIRE OFFRE A PARTIR DE 279.000 € Maison de Maître sur 16 ares totalement remise à neuve Maison de Maître totalement remise à neuve tout en gardant le charme et la qualité des matériaux d’époque. Magn ...  Want to know more?\n3\n250 m²\n1\nCONTACT\nDETAILS\nBEST OF\n200.000 €\nMaster house for sale\n6041 Gosselies\nLeDEALimmobilier vous propose une spacieuse Maison de Maître situé dans une rue calme, proche des axes routiers, du centre de Gosselies et des transports en commun. Elle se compose d’un hall d’entrée, ...  Want to know more?\n3\n150 m²\n1\n350 m²\nCONTACT\nDETAILS\nBEST OF\n1.200.000 €\nMaster house for sale\n1040 Etterbeek\nMONTGOMERY - Army, this beautiful mansion from the beginning of the XXth century is composed as follows: entrance hall leading to the first floor; a living room with, on the left, another living room ...  Want to know more?\n5\n4\n210 m²\n327 m²\nCONTACT\nDETAILS\nBEST OF\n194.900 €\nMaster house for sale\n6000 Charleroi\nPACIMMO &quot;Un service tout compris&quot; vous propose une estimation gratuite et sans engagement de votre maison ou appartement. Belle maison de 234 m² sur 1,3a.,comprenant : Au sous sol: Caves (14,57 m² + 3 ...  Want to know more?\n4\n234 m²\n2\n130 m²\nCONTACT\nDETAILS\n1\n...\n163\n164\n165\n166\n167\n"
    }
   ]
  },
  {
   "source": [
    "# Fetching data from one page"
   ],
   "cell_type": "markdown",
   "metadata": {}
  },
  {
   "cell_type": "code",
   "execution_count": 31,
   "metadata": {
    "tags": [
     "outputPrepend"
    ]
   },
   "outputs": [
    {
     "output_type": "stream",
     "name": "stdout",
     "text": "39;, &#39;https://immo.vlan.be/en/detail/flat---apartment/for-sale/2140/borgerhout/rap31891&#39;, &#39;https://immo.vlan.be/en/detail/residence/for-sale/8930/menen/rwc09389&#39;, &#39;https://immo.vlan.be/en/detail/residence/for-sale/4170/comblain-au-pont/val28423&#39;, &#39;https://immo.vlan.be/en/detail/residence/for-sale/8940/wervik/rwc09237&#39;, &#39;https://immo.vlan.be/en/detail/villa/for-sale/1730/asse/val49698&#39;, &#39;https://immo.vlan.be/en/detail/flat---apartment/for-sale/8200/sint-andries/rap38461&#39;, &#39;https://immo.vlan.be/en/detail/flat---apartment/for-sale/8400/oostende/rap00417&#39;, &#39;https://immo.vlan.be/en/detail/residence/for-sale/1400/nivelles/vaj10561&#39;, &#39;https://immo.vlan.be/en/detail/residence/for-sale/6032/mont-sur-marchienne/val70326&#39;, &#39;https://immo.vlan.be/en/detail/residence/for-sale/7500/tournai/val76573&#39;, &#39;https://immo.vlan.be/en/detail/residence/for-sale/8510/rollegem/rao38603&#39;, &#39;https://immo.vlan.be/en/detail/flat---apartment/for-sale/1020/laken/vaj86287&#39;, &#39;https://immo.vlan.be/en/detail/flat---apartment/for-sale/1020/laken/vaj86273&#39;, &#39;https://immo.vlan.be/en/detail/residence/for-sale/9000/gent/rwc09487&#39;, &#39;https://immo.vlan.be/en/detail/flat---apartment/for-sale/6941/bomal/rwc09347&#39;, &#39;https://immo.vlan.be/en/detail/flat---apartment/for-sale/9120/beveren/rwc08944&#39;, &#39;https://immo.vlan.be/en/detail/residence/for-sale/8000/brugge/ral29209&#39;, &#39;https://immo.vlan.be/en/detail/residence/for-sale/8200/sint-andries/rap53633&#39;, &#39;https://immo.vlan.be/en/detail/residence/for-sale/7140/morlanwelz/val40283&#39;, &#39;https://immo.vlan.be/en/detail/flat---apartment/for-sale/8620/nieuwpoort/rap33501&#39;, &#39;https://immo.vlan.be/en/detail/residence/for-sale/8890/moorslede/rap47072&#39;, &#39;https://immo.vlan.be/en/detail/flat---apartment/for-sale/8670/koksijde/vwc90583&#39;, &#39;https://immo.vlan.be/en/detail/flat---apartment/for-sale/1500/halle/rai37007&#39;, &#39;https://immo.vlan.be/en/detail/flat---apartment/for-sale/1500/halle/rai37002&#39;, &#39;https://immo.vlan.be/en/detail/flat---apartment/for-sale/1500/halle/rai37001&#39;, &#39;https://immo.vlan.be/en/detail/flat---apartment/for-sale/1500/halle/rai37000&#39;, &#39;https://immo.vlan.be/en/detail/mixed-building/for-sale/6200/chatelet/vak71203&#39;, &#39;https://immo.vlan.be/en/detail/residence/for-sale/8940/wervik/ram15969&#39;, &#39;https://immo.vlan.be/en/detail/villa/for-sale/7340/paturages/val32166&#39;, &#39;https://immo.vlan.be/en/detail/flat---apartment/for-sale/7000/mons/vwc87895&#39;, &#39;https://immo.vlan.be/en/detail/residence/for-sale/7340/paturages/vak25425&#39;, &#39;https://immo.vlan.be/en/detail/residence/for-sale/9320/nieuwerkerken/rao25632&#39;, &#39;https://immo.vlan.be/en/detail/residence/for-sale/7011/ghlin/val70496&#39;, &#39;https://immo.vlan.be/en/detail/villa/for-sale/4987/stoumont/vak82062&#39;, &#39;https://immo.vlan.be/en/detail/residence/for-sale/1300/wavre/val25215&#39;, &#39;https://immo.vlan.be/en/detail/master-house/for-sale/1600/sint-pieters-leeuw/ran14562&#39;, &#39;https://immo.vlan.be/en/detail/penthouse/for-sale/2180/ekeren/raj68962&#39;, &#39;https://immo.vlan.be/en/detail/flat---apartment/for-sale/1500/halle/rai36994&#39;, &#39;https://immo.vlan.be/en/detail/flat---apartment/for-sale/1500/halle/rai36993&#39;, &#39;https://immo.vlan.be/en/detail/flat---apartment/for-sale/1500/halle/rai36978&#39;, &#39;https://immo.vlan.be/en/detail/flat---apartment/for-sale/1500/halle/rai36976&#39;, &#39;https://immo.vlan.be/en/detail/flat---apartment/for-sale/1600/sint-pieters-leeuw/ran14560&#39;, &#39;https://immo.vlan.be/en/detail/residence/for-sale/8940/wervik/rap44630&#39;, &#39;https://immo.vlan.be/en/detail/flat---apartment/for-sale/8800/roeselare/rao72632&#39;, &#39;https://immo.vlan.be/en/detail/residence/for-sale/8530/harelbeke/rak05562&#39;, &#39;https://immo.vlan.be/en/detail/residence/for-sale/8530/harelbeke/rak05559&#39;, &#39;https://immo.vlan.be/en/detail/residence/for-sale/2880/bornem/ral50844&#39;, &#39;https://immo.vlan.be/en/detail/residence/for-sale/2520/ranst/rap46455&#39;, &#39;https://immo.vlan.be/en/detail/flat---apartment/for-sale/8530/harelbeke/rak05561&#39;, &#39;https://immo.vlan.be/en/detail/villa/for-sale/8670/oostduinkerke/ran82823&#39;, &#39;https://immo.vlan.be/en/detail/residence/for-sale/9500/geraardsbergen/ran21539&#39;, &#39;https://immo.vlan.be/en/detail/flat---apartment/for-sale/3000/leuven/rao93618&#39;, &#39;https://immo.vlan.be/en/detail/residence/for-sale/9700/oudenaarde/rak88927&#39;, &#39;https://immo.vlan.be/en/detail/residence/for-sale/8434/westende/rak30851&#39;, &#39;https://immo.vlan.be/en/detail/residence/for-sale/4020/liege/val56250&#39;, &#39;https://immo.vlan.be/en/detail/residence/for-sale/9190/stekene/rap48019&#39;, &#39;https://immo.vlan.be/en/detail/residence/for-sale/1430/rebecq/ral28795&#39;, &#39;https://immo.vlan.be/en/detail/flat---apartment/for-sale/1435/mont-saint-guibert/val37709&#39;, &#39;https://immo.vlan.be/en/detail/residence/for-sale/9000/gent/rwc10308&#39;, &#39;https://immo.vlan.be/en/detail/flat---apartment/for-sale/2140/borgerhout/rao71894&#39;, &#39;https://immo.vlan.be/en/detail/residence/for-sale/2550/kontich/rap34641&#39;, &#39;https://immo.vlan.be/en/detail/penthouse/for-sale/3540/herk-de-stad/rao01648&#39;, &#39;https://immo.vlan.be/en/detail/residence/for-sale/6280/gerpinnes/val82701&#39;, &#39;https://immo.vlan.be/en/detail/residence/for-sale/8930/menen/rao82640&#39;, &#39;https://immo.vlan.be/en/detail/flat---apartment/for-sale/2930/brasschaat/rap40436&#39;, &#39;https://immo.vlan.be/en/detail/residence/for-sale/4260/braives/val48685&#39;, &#39;https://immo.vlan.be/en/detail/residence/for-sale/7301/hornu/val75743&#39;, &#39;https://immo.vlan.be/en/detail/residence/for-sale/1750/lennik/rap27470&#39;, &#39;https://immo.vlan.be/en/detail/residence/for-sale/1750/lennik/rap25218&#39;, &#39;https://immo.vlan.be/en/detail/residence/for-sale/6010/couillet/val42375&#39;, &#39;https://immo.vlan.be/en/detail/duplex/for-sale/2140/antwerp/ral43682&#39;, &#39;https://immo.vlan.be/en/detail/villa/for-sale/4000/rocourt/val76438&#39;, &quot;https://immo.vlan.be/en/detail/residence/for-sale/1420/braine-l&#39;alleud/vwc90505&quot;, &#39;https://immo.vlan.be/en/detail/penthouse/for-sale/1000/brussels/val15783&#39;, &#39;https://immo.vlan.be/en/detail/residence/for-sale/8790/waregem/ran11501&#39;, &#39;https://immo.vlan.be/en/detail/flat---apartment/for-sale/8400/oostende/rwc03922&#39;, &#39;https://immo.vlan.be/en/detail/residence/for-sale/6820/florenville/vak81511&#39;, &#39;https://immo.vlan.be/en/detail/residence/for-sale/1670/pepingen/ral10408&#39;, &#39;https://immo.vlan.be/en/detail/duplex/for-sale/1495/villers-la-ville/vak30433&#39;, &#39;https://immo.vlan.be/en/detail/mixed-building/for-sale/7180/seneffe/val72538&#39;, &#39;https://immo.vlan.be/en/detail/residence/for-sale/7390/quaregnon/vak82774&#39;, &#39;https://immo.vlan.be/en/detail/flat---apartment/for-sale/1390/grez-doiceau/vak82426&#39;, &#39;https://immo.vlan.be/en/detail/residence/for-sale/7500/tournai/val80058&#39;, &#39;https://immo.vlan.be/en/detail/residence/for-sale/3650/dilsen-stokkem/ram03150&#39;, &#39;https://immo.vlan.be/en/detail/residence/for-sale/5190/ham-sur-sambre/val78276&#39;, &#39;https://immo.vlan.be/en/detail/residence/for-sale/5020/flawinne/val37713&#39;, &#39;https://immo.vlan.be/en/detail/flat---apartment/for-sale/5020/flawinne/val43428&#39;, &#39;https://immo.vlan.be/en/detail/residence/for-sale/6500/beaumont/val76185&#39;, &#39;https://immo.vlan.be/en/detail/residence/for-sale/7033/cuesmes/val39016&#39;, &#39;https://immo.vlan.be/en/detail/residence/for-sale/7110/boussoit/val78800&#39;, &#39;https://immo.vlan.be/en/detail/flat---apartment/for-sale/1180/ukkel/vaj58120&#39;, &#39;https://immo.vlan.be/en/detail/residence/for-sale/8700/tielt/rap45911&#39;, &#39;https://immo.vlan.be/en/detail/residence/for-sale/5500/dinant/vak68648&#39;, &#39;https://immo.vlan.be/en/detail/residence/for-sale/6851/nollevaux/vak26508&#39;, &#39;https://immo.vlan.be/en/detail/residence/for-sale/1180/ukkel/val80653&#39;, &#39;https://immo.vlan.be/en/detail/duplex/for-sale/1030/schaarbeek/val72142&#39;, &#39;https://immo.vlan.be/en/detail/flat---apartment/for-sale/4100/seraing/val49270&#39;, &#39;https://immo.vlan.be/en/detail/flat---apartment/for-sale/6900/marche-en-famenne/val47568&#39;, &#39;https://immo.vlan.be/en/detail/residence/for-sale/7340/paturages/vak39647&#39;, &#39;https://immo.vlan.be/en/detail/duplex/for-sale/2540/hove/rap31291&#39;, &#39;https://immo.vlan.be/en/detail/residence/for-sale/5030/grand-manil/val42797&#39;, &#39;https://immo.vlan.be/en/detail/residence/for-sale/9280/lebbeke/val59591&#39;, &#39;https://immo.vlan.be/en/detail/residence/for-sale/7700/luingne/rao16955&#39;, &#39;https://immo.vlan.be/en/detail/flat---apartment/for-sale/9800/deinze/raj48510&#39;, &#39;https://immo.vlan.be/en/detail/residence/for-sale/8370/blankenberge/rao00431&#39;, &#39;https://immo.vlan.be/en/detail/ground-floor/for-sale/2370/arendonk/rap47231&#39;, &#39;https://immo.vlan.be/en/detail/residence/for-sale/8530/harelbeke/rao26379&#39;, &#39;https://immo.vlan.be/en/detail/residence/for-sale/8750/zwevezele/rao20283&#39;, &#39;https://immo.vlan.be/en/detail/flat---apartment/for-sale/8400/oostende/rap40860&#39;, &#39;https://immo.vlan.be/en/detail/flat---apartment/for-sale/8670/oostduinkerke/rao74728&#39;, &#39;https://immo.vlan.be/en/detail/residence/for-sale/3500/hasselt/rao64908&#39;, &#39;https://immo.vlan.be/en/detail/flat---studio/for-sale/8400/oostende/ran11872&#39;, &#39;https://immo.vlan.be/en/detail/flat---apartment/for-sale/9400/ninove/ran21544&#39;, &#39;https://immo.vlan.be/en/detail/residence/for-sale/9050/ledeberg/rap39510&#39;, &#39;https://immo.vlan.be/en/detail/residence/for-sale/8310/assebroek/ran50356&#39;, &#39;https://immo.vlan.be/en/detail/flat---apartment/for-sale/8520/kuurne/rap43341&#39;, &#39;https://immo.vlan.be/en/detail/flat---apartment/for-sale/8450/bredene/rap48719&#39;, &#39;https://immo.vlan.be/en/detail/residence/for-sale/1547/bever/rao70383&#39;, &#39;https://immo.vlan.be/en/detail/residence/for-sale/3890/gingelom/rap41366&#39;, &#39;https://immo.vlan.be/en/detail/residence/for-sale/3890/gingelom/rap41364&#39;, &#39;https://immo.vlan.be/en/detail/residence/for-sale/7090/braine-le-comte/val79790&#39;, &#39;https://immo.vlan.be/en/detail/residence/for-sale/1620/drogenbos/val72812&#39;, &#39;https://immo.vlan.be/en/detail/residence/for-sale/1150/sint-pieters-woluwe/vak71175&#39;, &#39;https://immo.vlan.be/en/detail/ground-floor/for-sale/1050/elsene/val61434&#39;, &#39;https://immo.vlan.be/en/detail/residence/for-sale/8930/menen/raj02590&#39;, &#39;https://immo.vlan.be/en/detail/residence/for-sale/8930/menen/rap04807&#39;, &#39;https://immo.vlan.be/en/detail/residence/for-sale/8930/menen/rap04806&#39;, &#39;https://immo.vlan.be/en/detail/villa/for-sale/7711/dottignies/val37568&#39;, &#39;https://immo.vlan.be/en/detail/residence/for-sale/7500/tournai/val31728&#39;, &#39;https://immo.vlan.be/en/detail/residence/for-sale/7021/havre/val34518&#39;, &#39;https://immo.vlan.be/en/detail/flat---apartment/for-sale/6001/marcinelle/val41548&#39;, &#39;https://immo.vlan.be/en/detail/residence/for-sale/6460/chimay/vaj89466&#39;, &#39;https://immo.vlan.be/en/detail/ground-floor/for-sale/1780/wemmel/val05713&#39;, &#39;https://immo.vlan.be/en/detail/flat---apartment/for-sale/1350/orp-jauche/val62362&#39;, &#39;https://immo.vlan.be/en/detail/residence/for-sale/4600/vise/vak57763&#39;, &#39;https://immo.vlan.be/en/detail/residence/for-sale/3600/genk/rap14045&#39;, &#39;https://immo.vlan.be/en/detail/residence/for-sale/1090/jette/val59815&#39;, &#39;https://immo.vlan.be/en/detail/residence/for-sale/2223/schriek/ram02887&#39;, &#39;https://immo.vlan.be/en/detail/residence/for-sale/5660/frasnes/val11865&#39;, &#39;https://immo.vlan.be/en/detail/residence/for-sale/8970/poperinge/ral47336&#39;, &#39;https://immo.vlan.be/en/detail/flat---apartment/for-sale/2610/wilrijk/rap49276&#39;, &#39;https://immo.vlan.be/en/detail/penthouse/for-sale/2800/mechelen/rao81777&#39;, &#39;https://immo.vlan.be/en/detail/residence/for-sale/1070/anderlecht/val77983&#39;, &#39;https://immo.vlan.be/en/detail/residence/for-sale/2490/balen/rao06386&#39;, &#39;https://immo.vlan.be/en/detail/residence/for-sale/5060/tamines/val61893&#39;, &#39;https://immo.vlan.be/en/detail/residence/for-sale/6020/dampremy/val23344&#39;, &#39;https://immo.vlan.be/en/detail/residence/for-sale/1490/court-saint-etienne/val53429&#39;, &#39;https://immo.vlan.be/en/detail/flat---apartment/for-sale/8400/oostende/rwc08341&#39;, &#39;https://immo.vlan.be/en/detail/residence/for-sale/1020/laken/val52724&#39;, &#39;https://immo.vlan.be/en/detail/flat---apartment/for-sale/8400/oostende/rao62825&#39;, &#39;https://immo.vlan.be/en/detail/ground-floor/for-sale/1080/sint-jans-molenbeek/val77981&#39;, &#39;https://immo.vlan.be/en/detail/flat---apartment/for-sale/1160/oudergem/val47537&#39;, &#39;https://immo.vlan.be/en/detail/residence/for-sale/5380/pontillas/val79078&#39;, &#39;https://immo.vlan.be/en/detail/villa/for-sale/3020/herent/raj84382&#39;, &#39;https://immo.vlan.be/en/detail/residence/for-sale/1600/sint-pieters-leeuw/ran67874&#39;, &#39;https://immo.vlan.be/en/detail/residence/for-sale/8970/poperinge/ran25739&#39;, &#39;https://immo.vlan.be/en/detail/mansion/for-sale/9032/wondelgem/rao62276&#39;, &#39;https://immo.vlan.be/en/detail/mansion/for-sale/6830/bouillon/ran84691&#39;, &#39;https://immo.vlan.be/en/detail/mansion/for-sale/9052/zwijnaarde/rak21850&#39;, &#39;https://immo.vlan.be/en/detail/mansion/for-sale/4570/marchin/rai87750&#39;, &#39;https://immo.vlan.be/en/detail/chalet/for-sale/5541/hastiere-par-dela/val79008&#39;, &#39;https://immo.vlan.be/en/detail/chalet/for-sale/6940/durbuy/ran87762&#39;, &#39;https://immo.vlan.be/en/detail/chalet/for-sale/5660/mariembourg/vwc88532&#39;, &#39;https://immo.vlan.be/en/detail/chalet/for-sale/5660/bruly/vak77881&#39;, &#39;https://immo.vlan.be/en/detail/chalet/for-sale/2382/poppel/raj21807&#39;, &#39;https://immo.vlan.be/en/detail/triplex/for-sale/4160/anthisnes/vak44736&#39;, &#39;https://immo.vlan.be/en/detail/triplex/for-sale/1150/sint-pieters-woluwe/val55378&#39;, &#39;https://immo.vlan.be/en/detail/triplex/for-sale/1050/elsene/val17666&#39;, &#39;https://immo.vlan.be/en/detail/triplex/for-sale/8500/kortrijk/rak96987&#39;, &#39;https://immo.vlan.be/en/detail/triplex/for-sale/8920/poelkapelle/ral46042&#39;, &#39;https://immo.vlan.be/en/detail/triplex/for-sale/8920/poelkapelle/ral46041&#39;, &#39;https://immo.vlan.be/en/detail/triplex/for-sale/3090/overijse/rah86287&#39;, &#39;https://immo.vlan.be/en/detail/cottage/for-sale/8500/kortrijk/rap41850&#39;, &#39;https://immo.vlan.be/en/detail/cottage/for-sale/2820/rijmenam/vwc90410&#39;, &#39;https://immo.vlan.be/en/detail/cottage/for-sale/7100/haine-saint-pierre/val66482&#39;, &#39;https://immo.vlan.be/en/detail/cottage/for-sale/6534/gozee/val65699&#39;, &#39;https://immo.vlan.be/en/detail/cottage/for-sale/8300/knokke/rap33876&#39;, &#39;https://immo.vlan.be/en/detail/cottage/for-sale/5660/cul-des-sarts/val62802&#39;, &#39;https://immo.vlan.be/en/detail/cottage/for-sale/1600/sint-pieters-leeuw/rap16401&#39;, &#39;https://immo.vlan.be/en/detail/cottage/for-sale/7520/templeuve/rao80336&#39;, &#39;https://immo.vlan.be/en/detail/cottage/for-sale/7730/estaimpuis/val41871&#39;, &#39;https://immo.vlan.be/en/detail/cottage/for-sale/5651/laneffe/val24750&#39;, &#39;https://immo.vlan.be/en/detail/cottage/for-sale/8750/wingene/ral02125&#39;, &#39;https://immo.vlan.be/en/detail/cottage/for-sale/5310/saint-germain/vak70628&#39;, &#39;https://immo.vlan.be/en/detail/cottage/for-sale/6533/biercee/vak20351&#39;, &#39;https://immo.vlan.be/en/detail/cottage/for-sale/1730/asse/rak26920&#39;, &#39;https://immo.vlan.be/en/detail/bungalow/for-sale/5600/neuville/val84491&#39;, &#39;https://immo.vlan.be/en/detail/bungalow/for-sale/6567/labuissiere/val57733&#39;, &#39;https://immo.vlan.be/en/detail/bungalow/for-sale/1980/eppegem/rap42981&#39;, &#39;https://immo.vlan.be/en/detail/bungalow/for-sale/6997/erezee/rap11799&#39;, &#39;https://immo.vlan.be/en/detail/bungalow/for-sale/6941/bomal/vwc89880&#39;, &#39;https://immo.vlan.be/en/detail/bungalow/for-sale/8434/westende/rwc09139&#39;, &#39;https://immo.vlan.be/en/detail/bungalow/for-sale/1730/asse/rao76401&#39;, &#39;https://immo.vlan.be/en/detail/bungalow/for-sale/6044/roux/val33715&#39;, &#39;https://immo.vlan.be/en/detail/bungalow/for-sale/5600/sautour/val07556&#39;, &#39;https://immo.vlan.be/en/detail/loft/for-sale/9690/kluisbergen/rap51797&#39;, &#39;https://immo.vlan.be/en/detail/loft/for-sale/9000/gent/rap51465&#39;, &#39;https://immo.vlan.be/en/detail/loft/for-sale/1210/sint-joost-ten-node/val81275&#39;, &#39;https://immo.vlan.be/en/detail/loft/for-sale/1601/ruisbroek/rap47348&#39;, &#39;https://immo.vlan.be/en/detail/loft/for-sale/8660/de-panne/rap43487&#39;, &#39;https://immo.vlan.be/en/detail/loft/for-sale/6150/anderlues/val75877&#39;, &#39;https://immo.vlan.be/en/detail/loft/for-sale/1180/ukkel/val71200&#39;, &#39;https://immo.vlan.be/en/detail/loft/for-sale/8792/desselgem/rap31815&#39;, &#39;https://immo.vlan.be/en/detail/loft/for-sale/8500/kortrijk/rap04793&#39;, &#39;https://immo.vlan.be/en/detail/loft/for-sale/8500/kortrijk/rao64808&#39;, &#39;https://immo.vlan.be/en/detail/loft/for-sale/8500/kortrijk/rak91878&#39;, &#39;https://immo.vlan.be/en/detail/loft/for-sale/9000/gent/ran24798&#39;, &#39;https://immo.vlan.be/en/detail/loft/for-sale/2890/oppuurs/ram73907&#39;, &#39;https://immo.vlan.be/en/detail/loft/for-sale/2890/oppuurs/ram73906&#39;, &#39;https://immo.vlan.be/en/detail/loft/for-sale/2890/oppuurs/ram73905&#39;, &#39;https://immo.vlan.be/en/detail/loft/for-sale/2000/antwerp/ral11312&#39;, &#39;https://immo.vlan.be/en/detail/loft/for-sale/8620/nieuwpoort/rai25297&#39;, &#39;https://immo.vlan.be/en/detail/loft/for-sale/8850/ardooie/raj25489&#39;, &#39;https://immo.vlan.be/en/detail/loft/for-sale/7711/dottignies/vai65303&#39;, &#39;https://immo.vlan.be/en/detail/master-house/for-sale/1050/elsene/vak15004&#39;, &#39;https://immo.vlan.be/en/detail/master-house/for-sale/1502/lembeek/rak64879&#39;, &#39;https://immo.vlan.be/en/detail/master-house/for-sale/7740/pecq/val59494&#39;, &#39;https://immo.vlan.be/en/detail/master-house/for-sale/6460/chimay/val80755&#39;, &#39;https://immo.vlan.be/en/detail/master-house/for-sale/1320/beauvechain/val80752&#39;, &#39;https://immo.vlan.be/en/detail/master-house/for-sale/9600/ronse/rap47718&#39;, &#39;https://immo.vlan.be/en/detail/master-house/for-sale/6040/jumet/val79025&#39;, &#39;https://immo.vlan.be/en/detail/master-house/for-sale/8560/gullegem/rak81139&#39;, &#39;https://immo.vlan.be/en/detail/master-house/for-sale/8630/veurne/rap45792&#39;, &#39;https://immo.vlan.be/en/detail/master-house/for-sale/3000/leuven/rap44669&#39;, &#39;https://immo.vlan.be/en/detail/master-house/for-sale/8870/izegem/rap42251&#39;, &#39;https://immo.vlan.be/en/detail/master-house/for-sale/8620/nieuwpoort/rap27769&#39;, &#39;https://immo.vlan.be/en/detail/master-house/for-sale/9280/lebbeke/rao33582&#39;, &#39;https://immo.vlan.be/en/detail/master-house/for-sale/9620/zottegem/rap18429&#39;, &#39;https://immo.vlan.be/en/detail/master-house/for-sale/8840/staden/rap12061&#39;, &#39;https://immo.vlan.be/en/detail/master-house/for-sale/8540/deerlijk/rap11963&#39;, &#39;https://immo.vlan.be/en/detail/master-house/for-sale/6060/gilly/val53867&#39;, &#39;https://immo.vlan.be/en/detail/master-house/for-sale/6060/gilly/vwc88850&#39;, &#39;https://immo.vlan.be/en/detail/master-house/for-sale/6041/gosselies/vai89649&#39;, &#39;https://immo.vlan.be/en/detail/master-house/for-sale/1040/etterbeek/val34683&#39;, &#39;https://immo.vlan.be/en/detail/master-house/for-sale/6000/charleroi/val30586&#39;]\n"
    }
   ],
   "source": [
    "# Browsing one page\n",
    "print(properties_links)\n",
    "# current_link = properties_links[0]\n",
    "# print(current_link)\n",
    "# driver.get(current_link)"
   ]
  },
  {
   "source": [
    "print(len(properties_links))"
   ],
   "cell_type": "code",
   "metadata": {
    "tags": []
   },
   "execution_count": 32,
   "outputs": [
    {
     "output_type": "stream",
     "name": "stdout",
     "text": "4944\n"
    }
   ]
  },
  {
   "source": [
    "# Put links on file"
   ],
   "cell_type": "markdown",
   "metadata": {}
  },
  {
   "cell_type": "code",
   "execution_count": 33,
   "metadata": {},
   "outputs": [],
   "source": [
    "with open(\"./properties_links.txt\", \"a\") as list_of_links_file:\n",
    "    for page_property_link in properties_links:\n",
    "        list_of_links_file.write(f\"{page_property_link}\\n\")"
   ]
  }
 ]
}