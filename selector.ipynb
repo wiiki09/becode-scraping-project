{
 "metadata": {
  "language_info": {
   "codemirror_mode": {
    "name": "ipython",
    "version": 3
   },
   "file_extension": ".py",
   "mimetype": "text/x-python",
   "name": "python",
   "nbconvert_exporter": "python",
   "pygments_lexer": "ipython3",
   "version": "3.8.3-final"
  },
  "orig_nbformat": 2,
  "kernelspec": {
   "name": "Python 3.8.3 64-bit ('base': conda)",
   "display_name": "Python 3.8.3 64-bit ('base': conda)",
   "metadata": {
    "interpreter": {
     "hash": "a0c09b947a43fdfe59259193d8a7970dde0b4a67fd322a354bbc88b3849a54b7"
    }
   }
  }
 },
 "nbformat": 4,
 "nbformat_minor": 2,
 "cells": [
  {
   "source": [
    "## Mini Bot"
   ],
   "cell_type": "markdown",
   "metadata": {}
  },
  {
   "cell_type": "code",
   "execution_count": 147,
   "metadata": {
    "tags": []
   },
   "outputs": [
    {
     "output_type": "stream",
     "name": "stdout",
     "text": "Real estate website in Belgium. All the properties for sale and for rent in Belgium!\n"
    }
   ],
   "source": [
    "from selenium import webdriver\n",
    "from selenium.webdriver.common.keys import Keys #gives me access to the enter key \n",
    "from selenium.webdriver.support.ui import WebDriverWait\n",
    "from selenium.webdriver.support import expected_conditions as EC\n",
    "from selenium.common.exceptions import TimeoutException\n",
    "from selenium.webdriver.common.by import By\n",
    "from bs4 import BeautifulSoup\n",
    "import requests\n",
    "import time\n",
    "\n",
    "PATH = \"/usr/bin/chromedriver\" # For Linux\n",
    "# PATH = \"C:\\\\Users\\\\username\\\\WebDrivers\\\\chromedriver.exe\" # my path from windows\n",
    "\n",
    "driver = webdriver.Chrome(PATH)\n",
    "\n",
    "# Request init\n",
    "driver.get(\"https://immo.vlan.be/en\") \n",
    "\n",
    "\n",
    "print(driver.title) # Check to see if OK!!!\n",
    "# driver.close() # to close the tab but I can use quit to quit the application\n",
    "\n"
   ]
  },
  {
   "source": [
    "### Cookie window management"
   ],
   "cell_type": "markdown",
   "metadata": {}
  },
  {
   "cell_type": "code",
   "execution_count": 148,
   "metadata": {
    "tags": []
   },
   "outputs": [
    {
     "output_type": "stream",
     "name": "stdout",
     "text": "Popup closed\n"
    }
   ],
   "source": [
    "# first Id than name than class\n",
    "# let's get rid of the cookie pop window\n",
    "time.sleep(3)\n",
    "\n",
    "def remove_popup():\n",
    "    # Target button exit popup\n",
    "    cookie_btn = driver.find_elements_by_id(\"didomi-notice-agree-button\")\n",
    "\n",
    "    # click to close Popup  \n",
    "    cookie_btn[0].click()\n",
    "\n",
    "\n",
    "remove_popup()\n",
    "print(\"Popup closed\")"
   ]
  },
  {
   "source": [
    "### Constant, variable and method"
   ],
   "cell_type": "markdown",
   "metadata": {}
  },
  {
   "cell_type": "code",
   "execution_count": 149,
   "metadata": {},
   "outputs": [],
   "source": [
    "# Areas ---- Provinces of Belgium ===> Search window Object\n",
    "# list of my Areas \n",
    "Areas = [\"Brussels (1000)\", \"Antwerp\", \"Hainaut (Province)\", \"West Flanders (Province)\", \"East Flanders (Province)\", \"Namur\", \"Luxembourg\" , \"Liege\", \"Brabant Wallon (Province)\", \"Brabant flamand (Province)\", \"Vlaams-Brabant (Province)\", \"Limburg\"]\n"
   ]
  },
  {
   "source": [
    "## Function Helper and Methods\n",
    "\n",
    "#### For Window search page"
   ],
   "cell_type": "markdown",
   "metadata": {}
  },
  {
   "cell_type": "code",
   "execution_count": 150,
   "metadata": {},
   "outputs": [],
   "source": [
    "# search by regions === > Search Window Object\n",
    "def target_search_button(driver):\n",
    "    return driver.find_element_by_name(\"search\")\n",
    "\n",
    "\n",
    "def initiation_search_by_area(search_location_input, Areas):\n",
    "    # Sending text on the input form\n",
    "    search_location_input.send_keys(Areas[0])\n",
    "    time.sleep(1)\n",
    "    #click to fetch go on result page\n",
    "    search_location_input.send_keys(Keys.RETURN) \n",
    "\n"
   ]
  },
  {
   "source": [
    "#### For List Views ThumbNails"
   ],
   "cell_type": "markdown",
   "metadata": {}
  },
  {
   "cell_type": "code",
   "execution_count": 151,
   "metadata": {},
   "outputs": [],
   "source": [
    "# vaccum page list\n",
    "def store_list_view_container():\n",
    "    time.sleep(1)\n",
    "    return driver.find_element_by_xpath(\"//div[contains(@id, 'app-search')]\")\n",
    "    # return WebDriverWait(driver, 10).until(EC.presence_of_all_element_located((By.XPATH, \"//div[contains(@id, 'app-search')]\")))\n",
    "\n",
    "# Create thumbnails list\n",
    "def create_thumbs():\n",
    "    # Second Method\n",
    "    return store_list_view_container()\n",
    "\n",
    "def create_propreties(thumbnails):\n",
    "    print(thumbnails.text)\n",
    "    #Creation container de propreties\n",
    "    # 1 Method return thumbnails.find_elements_by_xpath(\"//a[contains(@href, '/en/detail')]\") \n",
    "    time.sleep(2)\n",
    "    return WebDriverWait(driver, 5).until(EC.presence_of_all_elements_located((By.XPATH, \"//a[contains(@href, '/en/detail')]\"))) "
   ]
  },
  {
   "cell_type": "code",
   "execution_count": 152,
   "metadata": {},
   "outputs": [],
   "source": [
    "def create_pages_link(propreties_thum, properties_links):\n",
    "    for property in propreties_thum:\n",
    "        if property.get_attribute('href') not in properties_links and '/en/detail/' in property.get_attribute('href'):\n",
    "            # print(property.get_attribute('href')) \n",
    "            properties_links.append(property.get_attribute('href'))"
   ]
  },
  {
   "source": [
    "### Tag Location "
   ],
   "cell_type": "markdown",
   "metadata": {}
  },
  {
   "cell_type": "code",
   "execution_count": 153,
   "metadata": {},
   "outputs": [],
   "source": [
    "\n",
    "search_location_input = target_search_button(driver)\n",
    "time.sleep(2)\n",
    "\n",
    "initiation_search_by_area(search_location_input, Areas)\n",
    "\n",
    "# time.sleep(5)\n",
    "# driver.quit()"
   ]
  },
  {
   "source": [
    "# Isolation of single list view"
   ],
   "cell_type": "markdown",
   "metadata": {}
  },
  {
   "cell_type": "code",
   "execution_count": 154,
   "metadata": {
    "tags": []
   },
   "outputs": [
    {
     "output_type": "stream",
     "name": "stdout",
     "text": "Real Estate\nPROPERTY TYPE\nFlat (29420)\nHouse (24555)\nLand (5885)\nBusiness (5831)\nInvestment property (1943)\nGarage (1399)\nMiscellaneous (276)\nStudent housing (77)\nTRANSACTION TYPE\nfor sale\n (68906)\nfor rent\n (20951)\nin public sale\n (480)\nto share\n (11)\nLOCATION\nPRICE\nPOPULAR CRITERIA\nCOUNTRY\nBEDROOMS\nLIVABLE SURFACE\nTOTAL SURFACE\nBATHROOMS\nCONSTRUCTION TYPE\nPROPERTY CONDITION\nMORE OPTIONS\nPROVIDER\nRESET\nWe search on your behalf!\nGet notified as soon as a new property matching your search appears!\nReceive an email each time there's a property that meets your criteria!\nCreate your alert now\nWe search on your behalf!\nGet notified as soon as a new property matching your search appears!\nReceive an email each time there's a property that meets your criteria!\nCreate your alert now\n69386 properties for sale\nToggle Dropdown\nSort\nMap\nBEST OF\n258.000 €\nResidence for sale\n9900 Eeklo\n2-gevelwoning in verkaveling welke kindvriendelijk als woonerf wordt ingericht met grote groen- en speelzone; Heerlijk rustige ligging in groene omgeving van een vroegere kloostertuin. De woning besta ...  Want to know more?\n3\n147.63 m²\n1\n178 m²\nDetails\nBEST OF\n268.000 €\nResidence for sale\n9900 Eeklo\n3-gevelwoning in verkaveling welke kindvriendelijk als woonerf wordt ingericht met grote groen- en speelzone; Heerlijk rustige ligging in groene omgeving van een vroegere kloostertuin. De woning besta ...  Want to know more?\n3\n149.78 m²\n1\n178 m²\nDetails\nBEST OF\n85.000 €\nFlat - Apartment for sale\n6040 Jumet\nAppartement 2 chambres avec balcon remis à neuf situé au 1er étage d'une copropriété de 8 unités. (PAS D'ASCENSEUR). COMPOSITION : hall d'entrée, grand living, cuisine équipée, une salle de bain, un w ...  Want to know more?\n2\n100 m²\n1\nDetails\nBEST OF\n84.000 €\nGround floor for sale\n6043 Ransart\nrez avec jardin  Want to know more?\n1\n66 m²\n1\nDetails\nBEST OF\n114.000 €\nDuplex for sale\n6043 Ransart\nDUPLEX  Want to know more?\n2\n128 m²\n1\nDetails\nBEST OF\n165.000 €\nResidence for sale\n7600 Péruwelz\nREF-680 - PERUWELZ 7600 (côté Wiers)- Jolie maison 3 façades rénovée. - Salle à manger, Salon, Cuisine équipée, Salle de Bains, 2/3 Chambres, Dressing, Cave, Remise, dépendances, Jardin, Garage. - Dou ...  Want to know more?\n2\n118 m²\n200 m²\n250 m²\nDetails\nBEST OF\n230.000 €\nFlat - Apartment for sale\n8500 Kortrijk\nMet trots stellen we Residentie \"Park Lane\" aan u voor, een stijlvol woonproject gelegen in de Koning Albertstraat te Kortrijk. Het geniet tegelijk van de rust met binnentuin in een stad, bevindt zich ...  Want to know more?\n1\n70 m²\n10 m²\nDetails\nBEST OF\nFlat - Apartment for sale\n3500 Hasselt\nProject: Residentie Uilenspiegel\nMeer info ophttps:/ ### wonen op een droomlocatie in hartje HasseltIn het hart van mode- en cultuurstad Hasselt bouwt Ivo Verca ...  Want to know more?\n2\n125 m²\n1\nDetails\nBEST OF\n302.765 €\nResidence for sale\n8972 Proven\nProject: Bouwgronden en nieuwe won...\nEen nieuwe thuis in Proven? Ontdek deze kleinschalige, aangename verkaveling in het gezellige Proven, op 7 km van Poperinge. Je geniet er van de charme van deze landelijke gemeente met idyllische verg ...  Want to know more?\n3\n1\n397 m²\nDetails\nBEST OF\n990.000 €\nVilla for sale\n1700 Dilbeek\nA proximité des grands axes, près de la sortie du RING. Superbe Villa 4 façades de +/-230m² en parfait état située dans un quartier très calme et verdoyant. Elle se compose d'un agréable hall d'entrée ...  Want to know more?\n3\n1\n2000 m²\nDetails\nBEST OF\n395.000 €\nResidence for sale\n3061 Leefdaal\nImmo 3000 heeft deze ruime woning te koop van wel 237m² bewoonbare oppervlakte tussen Leuven en Brussel. Parkeren kan perfect op de oprit, waar plaats is voor 3 wagens. Gezien dit een voormalige kappe ...  Want to know more?\n5\n237 m²\n1\n385 m²\nDetails\nBEST OF\n90.000 €\nResidence for sale\n7130 Binche\nLooking for a house in the center of Binche? You do not want to do a lot of work? Do you need space? This house located close to the center of Binche is then made for you! ! You can enjoy on the groun ...  Want to know more?\n4\n130 m²\n1\n70 m²\nDetails\nBEST OF\n249.000 €\nReturn building for sale\n6180 Courcelles\nImmeuble de rapport à rafraîchir/moderniser très bien situé en centre-ville à proximité des commerces et services divers. Immeuble divisé en 7 logements, permis de location à renouveler. Actuellement ...  Want to know more?\nDetails\nBEST OF\n395.000 €\nResidence for sale\n9890 Gavere\nDeze unieke eigendom is gelegen op enkele minuten van het aangename centrum van Gavere. Dit pand heeft een vlotte bereikbaarheid wegens de nabijheid van de N60 en oprit E17, waardoor dit een echte top ...  Want to know more?\n2\n274 m²\n1\n635 m²\nDetails\nBEST OF\n1.300.000 €\nVilla for sale\n9831 Deurle\nDeze unieke en centraal gelegen eigendom te Deurle werd gebouwd in het jaar 2000 op een perceel van 2.200 m² groot, dewelke een idyllische tuin herbergt. Via de automatische houten poort kan men deze ...  Want to know more?\n2\n4\n2200 m²\nDetails\nBEST OF\n118.000 €\nResidence for sale\n8770 Ingelmunster\nKnusse gezellige rijwoning met klein koertje achteraan. Mogelijkheid tot bijmaken groot dakterras op plat dak van uitbouw achteraan. Instapklare woning met verwarming op aardgaskachel en pelletkachel. ...  Want to know more?\n1\n1\n62 m²\nDetails\nBEST OF\n239.000 €\nFlat - Apartment for sale\n9200 Appels\nDit nieuwbouwproject is zeer rustig gelegen in een groene omgeving, voorzien van een vlotte verbinding naar Aalst/Wetteren. Dit nieuwbouwappartement van 88 m² is gelegen op de gelijkvloerse verdieping ...  Want to know more?\n2\n88 m²\n36 m²\nDetails\nBEST OF\n99.000 €\nFlat - Studio for sale\n8670 Koksijde\nThis interesting investment opportunity in the Victory residence is located at the corner of the Zeelaan and the Lalouxlaan.The centrally located studio with sleeping area is also within walking dista ...  Want to know more?\n38 m²\n1\nDetails\nBEST OF\n265.000 €\nFlat - Apartment for sale\n8020 Ruddervoorde\nProject: 2292106\nBel ons voor een privé bezoek in het prachtige model appartement; Dit project staat voor stijlvol en hedendaags wonen in een zeer energiezuinig appartement. Klinkt goed? Grijp dan nu je kans!; Residen ...  Want to know more?\n93.7 m²\n1\n22 m²\nDetails\nBEST OF\n269.000 €\nResidence for sale\n9450 Denderhoutem\nInstapklare gezinswoning met tal van ruimte, gelegen in het dorpscentrum van Denderhoutem, baan naar Ninove! Woning omvattende een inkomhal, apart toilet, bureauruimte, salon, eetplaats met open keuke ...  Want to know more?\n185 m²\n1\n120 m²\n270 m²\nDetails\nBEST OF\n134.500 €\nFlat - Apartment for sale\n9700 Oudenaarde\nDit appartement is gelegen in Leupegem en is gelegen op het gelijkvloers verdiep. Dit dient samen te worden aangekocht met het appartement op het eerste verdiep (volledig gebouw). Dit appartement heef ...  Want to know more?\n2\n135 m²\nDetails\nBEST OF\n134.500 €\nFlat - Apartment for sale\n9700 Oudenaarde\nDit appartement is gelegen in Leupegem en is gelegen op het eerste verdiep. Dit dient samen te worden aangekocht met het appartement op het gelijkvloers (volledig gebouw). Het goed heeft een bewoonbaa ...  Want to know more?\n2\n166 m²\nDetails\nBEST OF\n299.500 €\nIndustrial building for sale\n9000 Gent\nCommercieel handelspand te koop nabij het winkelcentrum Dok Noord met vrije parkeerplaatsen in de straat. Door de grote etalage heeft u een TOP visibiliteit in de straat. Indeling: open commerciële ru ...  Want to know more?\nDetails\nBEST OF\n285.000 €\nFlat - Apartment for sale\n1000 Brussels\n3\n85 m²\nDetails\nBEST OF\n329.500 €\nFlat - Apartment for sale\n2018 Antwerp\nProject: 10 Van Schoonbeke\nDit comfortabele 2 slaapkamer nieuwbouwappartement op de 1e verdieping heeft een bewoonbare oppervlakte van 100m², een gezellig stadsterras van 8m² en is volledig instapklaar. U betreedt het apparteme ...  Want to know more?\n2\n100 m²\n8 m²\nDetails\nBEST OF\n209.500 €\nFlat - Apartment for sale\n2660 Hoboken\nProject: Groen Zuid, Fase 4, varia...\nLeef comfortabel in dit 2 slaapkamerappartement van 90 m² op de 2 e verdieping. Via de inkomhal heeft u toegang tot de badkamer met ligbad/douche en dubbele lavabo, de slaapkamer, de bureauruimte, het ...  Want to know more?\n2\n90 m²\n14 m²\nDetails\nBEST OF\n115.000 €\nResidence for sale\n7130 Binche\nUne maison à rénover offrant de nombreuses possibilités d’aménagement et à deux pas de la Grand’Place de Binche composée au sous-sol : de caves, au rez-de-chaussée : d’un hall d’entrée, d’un salon, d’ ...  Want to know more?\n2\n143 m²\n1\n80 m²\nDetails\nBEST OF\n195.000 €\nResidence for sale\n6042 Lodelinsart\n/  Want to know more?\n2\n1\n320 m²\nDetails\nBEST OF\n260.000 €\nFlat - Apartment for sale\n1090 Jette\nJette: A spacious and bright 2 room apartment with rear balcony. The apartment consists of a spacious entrance hall of + -10m² with cloakroom which leads to 2 beautiful bedrooms of + - 15 & 17m², an i ...  Want to know more?\n2\n105 m²\n4 m²\nDetails\nBEST OF\n95.000 €\nResidence for sale\n6200 Bouffioulx\nAdresse : 6200 Bouffioulx, rue de Presles 22 Agréable appartement de 70m² au rez-de-chaussée, rénové récemment (cuisine, électricité, châssis, …), habitable immédiatement. Idéal pour investisseurs, je ...  Want to know more?\n1\n70 m²\n1\nDetails\n1\n2\n3\n4\n5\n...\n167\n"
    }
   ],
   "source": [
    "# I need to rebuild links\n",
    "# let's do for one                                               \n",
    "\n",
    "thumbails = create_thumbs()\n",
    "propreties_thum = create_propreties(thumbails)\n",
    "# print(propreties_thum.text) Just to check if thumbnails stored\n"
   ]
  },
  {
   "source": [
    "# Append each single thumbnails link on Propreties List"
   ],
   "cell_type": "markdown",
   "metadata": {}
  },
  {
   "cell_type": "code",
   "execution_count": 155,
   "metadata": {
    "tags": []
   },
   "outputs": [],
   "source": [
    "properties_links = []\n",
    "\n",
    "create_pages_link(propreties_thum, properties_links)\n",
    "\n",
    "# print(properties_links)\n",
    "# print(len(properties_links)) Just to check result "
   ]
  },
  {
   "source": [
    "### Make the Bot click each pages"
   ],
   "cell_type": "markdown",
   "metadata": {}
  },
  {
   "cell_type": "code",
   "execution_count": 115,
   "metadata": {
    "tags": []
   },
   "outputs": [
    {
     "output_type": "stream",
     "name": "stdout",
     "text": "écoles). Ce logement vous offre un séjour avec parquet massif + cuisine ouverte ...  Want to know more?\n2\n1\n19 m²\nDetails\nNEW\n149.000 €\nFlat - Apartment for sale\n3530 Houthalen-Helchteren\nOp te frissen gelijkvloers appartement met tuin Via de gemeenschappelijke inkomhal kom je in de ruime en lichte woonkamer. Daarachter bevindt zich een gang die toegang geeft tot de 2 slaapkamers, de b ...  Want to know more?\n2\n139 m²\n1\nDetails\nNEW\n180.000 €\nResidence for sale\n8680 Koekelare\nDeze woning is gelegen in het hartje van Koekelare, op wandelafstand van winkels, scholen en park De Mote. Deze ruime woning heeft een mooie achtertuin. Op het einde van het perceel staat een berging ...  Want to know more?\n4\n195 m²\n1\n1\nDetails\nNEW\n199.000 €\nResidence for sale\n4430 Ans\nMaison Bel étage dans un quartier résidentiel comprenant au rez de chaussée: Hall d'entrée et garage. Au premier étage : Hall, séjour avec feu ouvert, balcon, cuisine équipée, 2 chambres et salle de b ...  Want to know more?\n2\n2\n1\n192 m²\nDetails\nNEW\n600.000 €\nResidence for sale\n5003 Saint-Marc\nCOUP DE COEUR ! Situé dans la région de Namur (Saint-Marc), votre agence Go immobilier Namur vous propose cette magnifique maison avec son loft au dernier étage. La maison se compose d'un lumineux séj ...  Want to know more?\n5\n270 m²\n2\n3000 m²\nDetails\n1\n...\n104\n105\n106\n...\n167\nReal Estate\nPROPERTY TYPE\nFlat (29350)\nHouse (24540)\nLand (5862)\nBusiness (5819)\nInvestment property (1928)\nGarage (1402)\nMiscellaneous (275)\nStudent housing (77)\nTRANSACTION TYPE\nfor sale\n (68773)\nfor rent\n (20828)\nin public sale\n (480)\nto share\n (11)\nLOCATION\nPRICE\nPOPULAR CRITERIA\nCOUNTRY\nBEDROOMS\nLIVABLE SURFACE\nTOTAL SURFACE\nBATHROOMS\nCONSTRUCTION TYPE\nPROPERTY CONDITION\nMORE OPTIONS\nPROVIDER\nRESET\nWe search on your behalf!\nGet notified as soon as a new property matching your search appears!\nReceive an email each time there's a property that meets your criteria!\nCreate your alert now\nWe search on your behalf!\nGet notified as soon as a new property matching your search appears!\nReceive an email each time there's a property that meets your criteria!\nCreate your alert now\n69253 properties for sale\nToggle Dropdown\nSort\nMap\nNEW\n200.000 €\nFlat - Apartment for sale\n1080 Sint-Jans-Molenbeek\nUltra bright apartment with 360 ° view over Brussels. Located on the 10th floor, it consists of a large living room of +/- 45m² with fully equipped open kitchen opening onto a magnificent terrace. The ...  Want to know more?\n110 m²\n1\n12 m²\nDetails\nNEW\n149.000 €\nResidence for sale\n8930 Menen\nToffe gerenoveerde woning in Menen! Bij het binnenkomen is er een aparte inkomhal, woonkamer met pelletkachel en rechtstreekse toegang naar het zuidgerichte terras, aparte nieuwe keuken met inbouwtoes ...  Want to know more?\n2\n110 m²\n1\n65 m²\nDetails\nNEW\n1.490.000 €\nReturn building for sale\n1080 Sint-Jans-Molenbeek\nGare de L'ouest : Ensemble Immobilier +/-700m² : 8 unités reconnues urbanistiquement (6 appartements + 2 commerces + grenier) - Il se compose au rez de chaussée de 2 grands commerces avec accès à une ...  Want to know more?\nDetails\nNEW\n195.000 €\nGround floor for sale\n4140 Sprimont\nSprimont (Florzé) - Agréable rez-de-chaussée (2016) comprenant 2 chambres avec jardin. Composé d'un séjour-cuisine, 2 chambres, salle de bains, buanderie, parking, jardin et terrasse oriéntés Sud. Cha ...  Want to know more?\n2\n79 m²\n1\n1\nDetails\nNEW\n112.000 €\nDevelopment site for sale\n3582 Koersel\nBouwgrond van 4a43ca te koop tegen het centrum van Koersel! Op de hoek van de Aardeweg en de Hooistraat ligt dit mooie perceel van 4a43ca met ZO-gerichte tuin. De bouwgrond heeft een gecombineerde str ...  Want to know more?\n443 m²\n28 m\nDetails\nNEW\n107.000 €\nResidence for sale\n6040 Jumet\nJUMET - Rue Puissant 41 Bonne maison 3 façades avec cour pouvant servir de parking. Proche des accès autoroutiers et des écoles, bonne maison d'habitation 3 façades - 3 caves. Le hall d'entrée conduit ...  Want to know more?\n2\n94 m²\n1\nDetails\nNEW\n278.000 €\nResidence for sale\n8930 Rekkem\n°°°OPENWONING°°° Kom op zaterdag 26 september tussen 16u en 17u deze woning bezoeken zonder afspraak! Zeer goed onderhouden ruime woning met garage en uitweg. Deze kloeke woning biedt heel wat praktis ...  Want to know more?\n3\n159 m²\n1\n485 m²\nDetails\nNEW\n845.000 €\nVilla for sale\n1330 Rixensart\nRixensart, district combining calm and proximity to the station and offering this magnificent architect-designed villa of 495sqm (445sqm of liv. space) with 6 BDR + liberal profession (possibility of ...  Want to know more?\n6\n445 m²\n1931 m²\nDetails\nNEW\n295.000 €\nResidence for sale\n2850 Boom\nMet winkels (Delhaize, Aldi, Colruyt), invalswegen (A12, E19), scholen en openbaar vervoer nabij, kent deze volledig instapklare ééngezinswoning een ideale locatie. De garage achteraan de woning geeft ...  Want to know more?\n155 m²\n1\n1\n71 m²\nDetails\nNEW\n115.000 €\nResidence for sale\n7012 Jemappes\nBelle maison d'habitation restaurée idéalement située, comprenant au rez un grand living, grande cuisine équipée et belle terrasse de 25m², salle de bains (baignoire, lavabo et wc). A l'étage : hall d ...  Want to know more?\n3\n120 m²\n1\n150 m²\nDetails\nNEW\n299.000 €\nResidence for sale\n2850 Boom\nUiterst gunstig gelegen tussen domein de Schorre en de invalsweg A12 bevindt zich deze gerenoveerde woning met tuin. Alsook zijn volgende winkels in de buurt: Colruyt, Aldi, Spar. Voldoende parkeermog ...  Want to know more?\n162 m²\n1\n65 m²\nDetails\nNEW\n539.000 €\nMaster house for sale\n2600 Berchem\nAuthenticiteit op zijn best te Pulhof. Karaktervolle herenwoning met mooi potentieel, woon,-werk combinatie mogelijk, EXTRA veel lichtinval en authentieke elementen + tuin rondom. Gelijkvloers: toegan ...  Want to know more?\n4\n289 m²\n2\n238 m²\nDetails\nNEW\n449.000 €\nFlat - Apartment for sale\n2600 Berchem\nModernisme on it’s best te Pulhof Dit bijzonder ruim, functioneel, strak en tegelijk tijdloos appartement strekt zich uit over gans de tweede verdieping van dit stoer hoekgebouw anno °1938. Gelegen in ...  Want to know more?\n2\n170 m²\n1\nDetails\nNEW\n519.000 €\nCommerce building for sale\n2018 Antwerp\nGroot commercieel pand van ca 420 m² | handelsgelijkvloers, magazijnen en parking. Gelegen aan de rand van het Diamond district, tussen het Stadspark en Centraal Station. Ondergebracht in solide, klei ...  Want to know more?\nDetails\nNEW\n260.000 €\nResidence for sale\n4450 Juprelle\n5\n242 m²\n1\n536 m²\nDetails\nNEW\n375.000 €\nResidence for sale\n8020 Waardamme\nThis open construction on 1481 m2 is located between the fields in Waardamme. Here you can still enjoy the surroundings in peace and privacy without having to compromise on easy accessibility (E40, E4 ...  Want to know more?\n3\n195 m²\n1\n2\nDetails\nNEW\nPrice on request\nFlat - Apartment for sale\n8434 Westende\nRustig, doch centraal gelegen appartement op het tweede verdiep van residentie Palermo te Westende. Naast 2 slaapkamers, bevat het appartement ook een inkomhal met vestiaire, lichtrijke living, halfop ...  Want to know more?\n2\n1\nDetails\nNEW\n235.000 €\nFlat - Apartment for sale\n1030 Schaarbeek\nHaut de Schaerbeek / Quartier des Fleurs - On the 12th and last floor of a very well managed building - Apartment of + - 90m² offering a breathtaking and unobstructed view of all of Brussels! It inclu ...  Want to know more?\n90 m²\n1\n16 m²\nDetails\nNEW\n269.000 €\nFlat - Apartment for sale\n8430 Middelkerke\nIn de gekende residentie \"Carlton\", is dit ruime appartement van maar liefst 95 m² met frontaal zeezicht, gevestigd. Dankzij de aangename ligging geniet u van zeezicht in een rustige omgeving op wande ...  Want to know more?\n3\n95 m²\n1\nDetails\nNEW\n22.000 €\nGarage for sale\n1083 Ganshoren\nGANSHOREN, dans un clos calme, à proximité du Basilix Shopping, Ring et commodités, 1 garage box de ± 15m² situé au -2. Toutes les superficies sont données à titre indicatif. Disponible à l'acte. RENS ...  Want to know more?\nDetails\nNEW\n329.000 €\nMansion for sale\n8370 Blankenberge\nThis cozy row house is located in a quiet residential area in the heart of Blankenberge. You are located near several shops and within walking distance of the commercial center. Also near several scho ...  Want to know more?\n4\n200 m²\n1\nDetails\nNEW\n174.000 €\nFlat - Studio for sale\n1000 Brussels\nNicely studio in recent building in the city center of Brussels! Consisting of a living room, kitchen, sleeping area and bathroom. Possible to buy a parking space for €25.000 Perfect investment, great ...  Want to know more?\n1\n41.6 m²\n1\nDetails\nNEW\n349.000 €\nResidence for sale\n8370 Blankenberge\nThis strikingly spacious and characterful house is located in an extremely central location in Blankenberge. The house was completely renovated in 2015 while preserving authentic materials and is also ...  Want to know more?\n4\n200 m²\n1\nDetails\nNEW\n935.000 €\nFarming site for sale\n8691 Stavele\nThis rural farmhouse is truly unique, amidst the surrounding greenery with beautiful views. Due to the presence of a summer cottage, annexe and shed, this property is suitable for various purposes, su ...  Want to know more?\n4\nDetails\nNEW\n174.000 €\nFlat - Studio for sale\n1000 Brussels\nNicely studio in recent building in the city center of Brussels! Consisting of a living room, kitchen, sleeping area and bathroom. Possible to buy a parking space for €25.000. Perfect investment, grea ...  Want to know more?\n1\n40.7 m²\n1\nDetails\nNEW\nPrice on request\nFlat - Apartment for sale\n9000 Gent\nProject Academie will be a renewed urban district, a beautiful quartier right in the centre of Ghent. Open squares with lots of greenery provide peace and breathing space in the heart of the city. Wit ...  Want to know more?\n1\n1\n41 m²\nDetails\nNEW\nPrice on request\nFlat - Apartment for sale\n9000 Gent\nProject Academie will be a renewed urban district, a beautiful quartier right in the centre of Ghent. Open squares with lots of greenery provide peace and breathing space in the heart of the city. Wit ...  Want to know more?\n124 m²\n1\n71 m²\nDetails\nNEW\n289.000 €\nFlat - Apartment for sale\n1140 Evere\nAppelez ### Appartement lumineux par ces fenêtres et son orientation. Sa situation calme et à proximité immédiate des commerces, le centre commercial et les axes de communication principaux ...  Want to know more?\n1\n87 m²\n1\nDetails\nNEW\n595.000 €\nResidence for sale\n9270 Laarne\nHR glass everywhere. Insulating mortar  Want to know more?\n3\n251 m²\n1\n754 m²\nDetails\nNEW\n239.000 €\nResidence for sale\n3670 Meeuwen-Gruitrode\nIn de fusiegemeente Oudsbergen, gekenmerkt door de uitgestrekte heidevlakte en zijn gigantische stuifduin, wat trouwens een kandidatuur voor het UNESCO wereld erfgoed is vinden we deze gezellige wonin ...  Want to know more?\n3\n175 m²\n1\n531 m²\nDetails\n1\n...\n105\n106\n107\n...\n167\nReal Estate\nPROPERTY TYPE\nFlat (29350)\nHouse (24540)\nLand (5862)\nBusiness (5819)\nInvestment property (1928)\nGarage (1402)\nMiscellaneous (275)\nStudent housing (77)\nTRANSACTION TYPE\nfor sale\n (68773)\nfor rent\n (20828)\nin public sale\n (480)\nto share\n (11)\nLOCATION\nPRICE\nPOPULAR CRITERIA\nCOUNTRY\nBEDROOMS\nLIVABLE SURFACE\nTOTAL SURFACE\nBATHROOMS\nCONSTRUCTION TYPE\nPROPERTY CONDITION\nMORE OPTIONS\nPROVIDER\nRESET\nWe search on your behalf!\nGet notified as soon as a new property matching your search appears!\nReceive an email each time there's a property that meets your criteria!\nCreate your alert now\nWe search on your behalf!\nGet notified as soon as a new property matching your search appears!\nReceive an email each time there's a property that meets your criteria!\nCreate your alert now\n69253 properties for sale\nToggle Dropdown\nSort\nMap\nNEW\n338.500 €\nResidence for sale\n3210 Lubbeek\nHippe, recent gerenoveerde woning te Lubbeek. De woning bevindt zich op een boogscheut van het centrum van Lubbeek en is vlot bereikbaar via de belangrijkste verbindingswegen. Ook aangenaam wandelen i ...  Want to know more?\n3\n160 m²\n2\n223 m²\nDetails\nNEW\n269.000 €\nFlat - Apartment for sale\n3150 Haacht\nEen eigen appartement of een eerste investering? Dit zeer recent opgeleverde appartement is zo goed als nieuw en energiezuinig (E46). Het appartement wordt verwarmd op aardgas, het gebouw is uitgerust ...  Want to know more?\n80 m²\n1\n1\n12 m²\nDetails\nNEW\n425.000 €\nFlat - Apartment for sale\n2018 Antwerp\nSpacious apartment with 3 large bedrooms and a large terrace in the heart of Antwerp Always wanted to live in the heart of Antwerp, or are you looking for a 3 bedroom investment property? Then you hav ...  Want to know more?\n3\n155 m²\n2\nDetails\nNEW\n335.000 €\nReturn building for sale\n7000 Mons\nMons / Rue des Arquebusiers 66, Rêvimmo Mons vous propose un superbe immeuble mixte, idéalement situé sur un axe hyper fréquenté dans l'intra-muros de Mons. Facilité de parking à proximité immédiate. ...  Want to know more?\nDetails\nNEW\n214.000 €\nResidence for sale\n8900 Ieper\nDeze ruime charmante rijwoning bevindt zich op wandelafstand van centrum-Ieper nabij alle faciliteiten op een perceel van 398 m². De woning is als volgt ingedeeld: * GLV: Inkom die eventueel dienst ka ...  Want to know more?\n3\n265 m²\n1\n397 m²\nDetails\nNEW\n185.000 €\nResidence for sale\n6061 Montignies-sur-Sambre\nPour toutes visites et/ou informations, tel: ### ou ### Belle maison Bel étage, entièrement rénovée et idéalement située proche de toutes commodités ( axes routiers, transports en co ...  Want to know more?\n3\n1\n1\nDetails\nNEW\n495.000 €\nDevelopment site for sale\n9120 Vrasene\nOp zoek naar een goede investering? Dan zijn deze bouwklare percelen wellicht iets voor u! Deze goedgekeurde verkaveling is zeer centraal gelegen nabij de op- en afrit van de E34, heeft een gunstige o ...  Want to know more?\nDetails\nNEW\n75.000 €\nResidence for sale\n7033 Cuesmes\nFAIRE OFFRE A PARTIR DE 75.000€. *\"Les propriétaires se réservent souverainement le droit d'apprécier la hauteur et la qualité des offres. L'agent immobilier n'as pas le pouvoir de vendre. Les proprié ...  Want to know more?\n2\n168 m²\n1\n156 m²\nDetails\nNEW\n89.000 €\nResidence for sale\n6150 Anderlues\nAnderlues: Maison spacieuse comprenant: hall d'entrée, salon, salle à manger, cuisine, séjour, salle de bain. Etage: palier, 2 chambres, grenier aménageable. Sous-sol: cave. dépendances, grande cour ( ...  Want to know more?\n2\n1\nDetails\nNEW\n135.000 €\nResidence for sale\n6150 Anderlues\nAnderlues: Maison anciennement commerce style bel étage à rafraîchir comprenant: grande pièce au rez-de-chaussée avec nombreuses possibilités. salle de bain. Etage: grand living, cuisine, bureau, 2 ch ...  Want to know more?\n2\n1\n1\nDetails\nNEW\n675.000 €\nReturn building for sale\n1160 Oudergem\nLe bureau ALTA HOME vous propose cette maison de rapport composée 2 logements selon RU (poss. d'en faire 3) + garage et cour. Située dans un quartier résidentielle de la commune d'Auderghem, non loin ...  Want to know more?\n1\nDetails\nNEW\n199.000 €\nResidence for sale\n8380 Zeebrugge\nWoning met 3 slaapkamers en garage. STARTPRIJS: Elk aanbod boven deze startprijs wordt voorgelegd aan de eigenaars, die al dan niet kunnen akkoord gaan met dit voorstel. Deze stevige gezinswoning bevi ...  Want to know more?\n3\n135 m²\n1\n120 m²\nDetails\nNEW\n225.000 €\nResidence for sale\n4400 Awirs\nNice opportunity to acquire a superb character house to renovate located on the heights of Les Awirs. With an exceptional view, in a quiet street close to motorways and amenities, this house is compos ...  Want to know more?\n1\n700 m²\n890 m²\nDetails\nNEW\n220.000 €\nResidence for sale\n8000 Brugge\nDeze typische Brugse rijwoning werd volledig gerenoveerd in 2020 met moderne materialen. STARTPRIJS: Elk aanbod boven deze startprijs wordt voorgelegd aan de eigenaars, die al dan niet kunnen akkoord ...  Want to know more?\n2\n80 m²\n80 m²\nDetails\nNEW\nPrice on request\nDevelopment site for sale\n6600 Bastogne\nTerrain à bâtir situé dans le village de Senonchamps (commune de Bastogne), d'une superficie de 11,48 ares dans un lotissement. Orientation: Sud. Situation : vue dégagée sur la campagne dans un coin c ...  Want to know more?\n1148 m²\n50 m\nDetails\nNEW\n201.500 €\nFlat - Apartment for sale\n2620 Hemiksem\nProject: Sterrelaan\nNewly built apartment on the ground floor in Hemiksem This ground floor apartment has a living room with open kitchen, one bedroom, bathroom, separate toilet and storage. There is a nice garden with t ...  Want to know more?\n1\n77.29 m²\n1\n57 m²\nDetails\nNEW\n364.000 €\nFlat - Apartment for sale\n2620 Hemiksem\nProject: Sterrelaan\nNewly built apartment in Hemiksem This first floor apartment has a living room with open kitchen, 4 bedrooms, 2 bathrooms, separate toilet and storage. There is also a beautiful terrace of 29.5 m² at ...  Want to know more?\n4\n135.46 m²\n2\nDetails\nNEW\n345.900 €\nFlat - Apartment for sale\n1820 Melsbroek\n't Hofke Melsbroek is a beautiful new complex, located in a very quiet area. With a surface area of 199m², this duplex apartment offers everything you could wish for. The apartment is on the first, ...  Want to know more?\n4\n199 m²\n20 m²\nDetails\nNEW\n285.000 €\nResidence for sale\n9190 Stekene\nDeze charmante, op te frissen halfopen bebouwing is gelegen nabij het centrum van Stekene. In de onmiddellijke nabijheid treft u wandel- en fietsroutes. De inkomhal, met gastentoilet, geeft toegang to ...  Want to know more?\n3\n125 m²\n1\n1\nDetails\nNEW\n419.000 €\nPenthouse for sale\n4653 Bolland\n-  Want to know more?\n2\n150 m²\n1\n2\nDetails\nNEW\n419.000 €\nPenthouse for sale\n4650 Herve\n-  Want to know more?\n2\n150 m²\n2\nDetails\nNEW\n335.000 €\nResidence for sale\n4250 Geer\nIdéalement située dans le centre du village, à proximité immédiate des grands axes (E42 et E40 à 10') et de Hannut, venez découvrir cette lumineuse villa et son jardin d'environ 16 ares. Cette spacieu ...  Want to know more?\n4\n280 m²\n2\n1\nDetails\nNEW\n249.000 €\nResidence for sale\n4050 Chaudfontaine\nFaire offre à partir de 249 000€ (sous réserve d'acceptation du propriétaire) Chaudfontaine: Maison de caractère située dans un endroit calme Rez-de-chaussée: Hall d'entrée, cuisine, salon, salle à ma ...  Want to know more?\n3\n176 m²\n1\n1400 m²\nDetails\nNEW\n320.000 €\nFlat - Apartment for sale\n8300 Knokke-Heist\nAppartement B6, 6eme étage arrière Désignation: Appartement une chambre + Grande terrasse Indication cadastrale: Knokke-Heist, 1ere division, section A parcelle 775C RC: 954 euros Superficies: La supe ...  Want to know more?\n1\n1\n42 m²\nDetails\nNEW\n915.000 €\nResidence for sale\n1150 Sint-Pieters-Woluwe\nWoluwe-Saint-Pierre - Parmentier - Etangs Mellaerts : In the residential area of the Parmentier park and the Club de l'Ombrage, near Stockel, Les Viviers offers you this superb 4 facade villa built in ...  Want to know more?\n1\n2\n300 m²\nDetails\nNEW\n699.000 €\nCottage for sale\n7711 Dottignies\nPropriété inégalable dans un large rayon nous permettant de vous offrir une maison de caractère logée au milieu d'un écrin arboré de +/- 3 000 m². Au rez-de-chaussée, vous trouverez : un hall d'entrée ...  Want to know more?\n2\n3150 m²\n3291 m²\nDetails\nNEW\n699.000 €\nVilla for sale\n7711 Dottignies\nPropriété inégalable dans un large rayon nous permettant de vous offrir une maison de caractère logée au milieu d'un écrin arboré de +/- 3 000 m². Au rez-de-chaussée, vous trouverez : un hall d'entrée ...  Want to know more?\n4\n1\n3150 m²\n3291 m²\nDetails\nNEW\n690.000 €\nMaster house for sale\n7500 Tournai\nSuperbe maison bourgeoise aux volumes impressionnants située en plein centre-ville, actuellement exploitée en cabinet médical, composée comme suit : On retrouve au RDC : un large couloir desservant un ...  Want to know more?\n6\n2\n1\n731 m²\nDetails\nNEW\n535.000 €\nLoft for sale\n1070 Anderlecht\nAuthentique loft duplex with terrace fully renovated in 2013 Quality finishes: polished cement concrete, large glass roof wth electric blinds, exposed steel beams, bricks, original freight elevator, o ...  Want to know more?\n3\n220 m²\n3\nDetails\nNEW\n349.000 €\nResidence for sale\n1070 Anderlecht\nREF. : 4160381 - FOR SALE in Anderlecht - House with 4 bedroomsImmo 2.0 offers you this pleasant house in a popular area and close to public transport, shops, schools and the ring road.It is located b ...  Want to know more?\n4\n144 m²\n1\nDetails\n1\n...\n106\n107\n108\n...\n167\n"
    },
    {
     "output_type": "error",
     "ename": "TimeoutException",
     "evalue": "Message: timeout: Timed out receiving message from renderer: 300,000\n  (Session info: chrome=85.0.4183.121)\n",
     "traceback": [
      "\u001b[0;31m---------------------------------------------------------------------------\u001b[0m",
      "\u001b[0;31mTimeoutException\u001b[0m                          Traceback (most recent call last)",
      "\u001b[0;32m<ipython-input-115-a9f1a87aab27>\u001b[0m in \u001b[0;36m<module>\u001b[0;34m\u001b[0m\n\u001b[1;32m     11\u001b[0m     \u001b[0mcreate_pages_link\u001b[0m\u001b[0;34m(\u001b[0m\u001b[0mpropreties_thum\u001b[0m\u001b[0;34m,\u001b[0m \u001b[0mproperties_links\u001b[0m\u001b[0;34m)\u001b[0m\u001b[0;34m\u001b[0m\u001b[0;34m\u001b[0m\u001b[0m\n\u001b[1;32m     12\u001b[0m \u001b[0;34m\u001b[0m\u001b[0m\n\u001b[0;32m---> 13\u001b[0;31m     \u001b[0mcurrent_link\u001b[0m\u001b[0;34m.\u001b[0m\u001b[0mclick\u001b[0m\u001b[0;34m(\u001b[0m\u001b[0;34m)\u001b[0m\u001b[0;34m\u001b[0m\u001b[0;34m\u001b[0m\u001b[0m\n\u001b[0m\u001b[1;32m     14\u001b[0m     \u001b[0;31m# print(page)\u001b[0m\u001b[0;34m\u001b[0m\u001b[0;34m\u001b[0m\u001b[0;34m\u001b[0m\u001b[0m\n\u001b[1;32m     15\u001b[0m \u001b[0;34m\u001b[0m\u001b[0m\n",
      "\u001b[0;32m~/anaconda3/lib/python3.8/site-packages/selenium/webdriver/remote/webelement.py\u001b[0m in \u001b[0;36mclick\u001b[0;34m(self)\u001b[0m\n\u001b[1;32m     78\u001b[0m     \u001b[0;32mdef\u001b[0m \u001b[0mclick\u001b[0m\u001b[0;34m(\u001b[0m\u001b[0mself\u001b[0m\u001b[0;34m)\u001b[0m\u001b[0;34m:\u001b[0m\u001b[0;34m\u001b[0m\u001b[0;34m\u001b[0m\u001b[0m\n\u001b[1;32m     79\u001b[0m         \u001b[0;34m\"\"\"Clicks the element.\"\"\"\u001b[0m\u001b[0;34m\u001b[0m\u001b[0;34m\u001b[0m\u001b[0m\n\u001b[0;32m---> 80\u001b[0;31m         \u001b[0mself\u001b[0m\u001b[0;34m.\u001b[0m\u001b[0m_execute\u001b[0m\u001b[0;34m(\u001b[0m\u001b[0mCommand\u001b[0m\u001b[0;34m.\u001b[0m\u001b[0mCLICK_ELEMENT\u001b[0m\u001b[0;34m)\u001b[0m\u001b[0;34m\u001b[0m\u001b[0;34m\u001b[0m\u001b[0m\n\u001b[0m\u001b[1;32m     81\u001b[0m \u001b[0;34m\u001b[0m\u001b[0m\n\u001b[1;32m     82\u001b[0m     \u001b[0;32mdef\u001b[0m \u001b[0msubmit\u001b[0m\u001b[0;34m(\u001b[0m\u001b[0mself\u001b[0m\u001b[0;34m)\u001b[0m\u001b[0;34m:\u001b[0m\u001b[0;34m\u001b[0m\u001b[0;34m\u001b[0m\u001b[0m\n",
      "\u001b[0;32m~/anaconda3/lib/python3.8/site-packages/selenium/webdriver/remote/webelement.py\u001b[0m in \u001b[0;36m_execute\u001b[0;34m(self, command, params)\u001b[0m\n\u001b[1;32m    631\u001b[0m             \u001b[0mparams\u001b[0m \u001b[0;34m=\u001b[0m \u001b[0;34m{\u001b[0m\u001b[0;34m}\u001b[0m\u001b[0;34m\u001b[0m\u001b[0;34m\u001b[0m\u001b[0m\n\u001b[1;32m    632\u001b[0m         \u001b[0mparams\u001b[0m\u001b[0;34m[\u001b[0m\u001b[0;34m'id'\u001b[0m\u001b[0;34m]\u001b[0m \u001b[0;34m=\u001b[0m \u001b[0mself\u001b[0m\u001b[0;34m.\u001b[0m\u001b[0m_id\u001b[0m\u001b[0;34m\u001b[0m\u001b[0;34m\u001b[0m\u001b[0m\n\u001b[0;32m--> 633\u001b[0;31m         \u001b[0;32mreturn\u001b[0m \u001b[0mself\u001b[0m\u001b[0;34m.\u001b[0m\u001b[0m_parent\u001b[0m\u001b[0;34m.\u001b[0m\u001b[0mexecute\u001b[0m\u001b[0;34m(\u001b[0m\u001b[0mcommand\u001b[0m\u001b[0;34m,\u001b[0m \u001b[0mparams\u001b[0m\u001b[0;34m)\u001b[0m\u001b[0;34m\u001b[0m\u001b[0;34m\u001b[0m\u001b[0m\n\u001b[0m\u001b[1;32m    634\u001b[0m \u001b[0;34m\u001b[0m\u001b[0m\n\u001b[1;32m    635\u001b[0m     \u001b[0;32mdef\u001b[0m \u001b[0mfind_element\u001b[0m\u001b[0;34m(\u001b[0m\u001b[0mself\u001b[0m\u001b[0;34m,\u001b[0m \u001b[0mby\u001b[0m\u001b[0;34m=\u001b[0m\u001b[0mBy\u001b[0m\u001b[0;34m.\u001b[0m\u001b[0mID\u001b[0m\u001b[0;34m,\u001b[0m \u001b[0mvalue\u001b[0m\u001b[0;34m=\u001b[0m\u001b[0;32mNone\u001b[0m\u001b[0;34m)\u001b[0m\u001b[0;34m:\u001b[0m\u001b[0;34m\u001b[0m\u001b[0;34m\u001b[0m\u001b[0m\n",
      "\u001b[0;32m~/anaconda3/lib/python3.8/site-packages/selenium/webdriver/remote/webdriver.py\u001b[0m in \u001b[0;36mexecute\u001b[0;34m(self, driver_command, params)\u001b[0m\n\u001b[1;32m    319\u001b[0m         \u001b[0mresponse\u001b[0m \u001b[0;34m=\u001b[0m \u001b[0mself\u001b[0m\u001b[0;34m.\u001b[0m\u001b[0mcommand_executor\u001b[0m\u001b[0;34m.\u001b[0m\u001b[0mexecute\u001b[0m\u001b[0;34m(\u001b[0m\u001b[0mdriver_command\u001b[0m\u001b[0;34m,\u001b[0m \u001b[0mparams\u001b[0m\u001b[0;34m)\u001b[0m\u001b[0;34m\u001b[0m\u001b[0;34m\u001b[0m\u001b[0m\n\u001b[1;32m    320\u001b[0m         \u001b[0;32mif\u001b[0m \u001b[0mresponse\u001b[0m\u001b[0;34m:\u001b[0m\u001b[0;34m\u001b[0m\u001b[0;34m\u001b[0m\u001b[0m\n\u001b[0;32m--> 321\u001b[0;31m             \u001b[0mself\u001b[0m\u001b[0;34m.\u001b[0m\u001b[0merror_handler\u001b[0m\u001b[0;34m.\u001b[0m\u001b[0mcheck_response\u001b[0m\u001b[0;34m(\u001b[0m\u001b[0mresponse\u001b[0m\u001b[0;34m)\u001b[0m\u001b[0;34m\u001b[0m\u001b[0;34m\u001b[0m\u001b[0m\n\u001b[0m\u001b[1;32m    322\u001b[0m             response['value'] = self._unwrap_value(\n\u001b[1;32m    323\u001b[0m                 response.get('value', None))\n",
      "\u001b[0;32m~/anaconda3/lib/python3.8/site-packages/selenium/webdriver/remote/errorhandler.py\u001b[0m in \u001b[0;36mcheck_response\u001b[0;34m(self, response)\u001b[0m\n\u001b[1;32m    240\u001b[0m                 \u001b[0malert_text\u001b[0m \u001b[0;34m=\u001b[0m \u001b[0mvalue\u001b[0m\u001b[0;34m[\u001b[0m\u001b[0;34m'alert'\u001b[0m\u001b[0;34m]\u001b[0m\u001b[0;34m.\u001b[0m\u001b[0mget\u001b[0m\u001b[0;34m(\u001b[0m\u001b[0;34m'text'\u001b[0m\u001b[0;34m)\u001b[0m\u001b[0;34m\u001b[0m\u001b[0;34m\u001b[0m\u001b[0m\n\u001b[1;32m    241\u001b[0m             \u001b[0;32mraise\u001b[0m \u001b[0mexception_class\u001b[0m\u001b[0;34m(\u001b[0m\u001b[0mmessage\u001b[0m\u001b[0;34m,\u001b[0m \u001b[0mscreen\u001b[0m\u001b[0;34m,\u001b[0m \u001b[0mstacktrace\u001b[0m\u001b[0;34m,\u001b[0m \u001b[0malert_text\u001b[0m\u001b[0;34m)\u001b[0m\u001b[0;34m\u001b[0m\u001b[0;34m\u001b[0m\u001b[0m\n\u001b[0;32m--> 242\u001b[0;31m         \u001b[0;32mraise\u001b[0m \u001b[0mexception_class\u001b[0m\u001b[0;34m(\u001b[0m\u001b[0mmessage\u001b[0m\u001b[0;34m,\u001b[0m \u001b[0mscreen\u001b[0m\u001b[0;34m,\u001b[0m \u001b[0mstacktrace\u001b[0m\u001b[0;34m)\u001b[0m\u001b[0;34m\u001b[0m\u001b[0;34m\u001b[0m\u001b[0m\n\u001b[0m\u001b[1;32m    243\u001b[0m \u001b[0;34m\u001b[0m\u001b[0m\n\u001b[1;32m    244\u001b[0m     \u001b[0;32mdef\u001b[0m \u001b[0m_value_or_default\u001b[0m\u001b[0;34m(\u001b[0m\u001b[0mself\u001b[0m\u001b[0;34m,\u001b[0m \u001b[0mobj\u001b[0m\u001b[0;34m,\u001b[0m \u001b[0mkey\u001b[0m\u001b[0;34m,\u001b[0m \u001b[0mdefault\u001b[0m\u001b[0;34m)\u001b[0m\u001b[0;34m:\u001b[0m\u001b[0;34m\u001b[0m\u001b[0;34m\u001b[0m\u001b[0m\n",
      "\u001b[0;31mTimeoutException\u001b[0m: Message: timeout: Timed out receiving message from renderer: 300,000\n  (Session info: chrome=85.0.4183.121)\n"
     ]
    }
   ],
   "source": [
    "# Will be used in an iteration\n",
    "\n",
    "for page in range(2, 168):\n",
    "    current_link = driver.find_element_by_link_text(str(page))\n",
    "    WebDriverWait(driver, 2)\n",
    "\n",
    "    # isolate List view\n",
    "    thumbails = create_thumbs()\n",
    "    propreties_thum = create_propreties(thumbails)\n",
    "\n",
    "    create_pages_link(propreties_thum, properties_links)\n",
    "    \n",
    "    current_link.click()\n",
    "    # print(page)\n",
    "\n"
   ]
  },
  {
   "source": [
    "# Fetching data from one page"
   ],
   "cell_type": "markdown",
   "metadata": {}
  },
  {
   "cell_type": "code",
   "execution_count": 116,
   "metadata": {
    "tags": [
     "outputPrepend"
    ]
   },
   "outputs": [
    {
     "output_type": "stream",
     "name": "stdout",
     "text": "for-sale/9120/melsele/rap58331', 'https://immo.vlan.be/en/detail/industrial-building/for-sale/9120/melsele/rap58330', 'https://immo.vlan.be/en/detail/industrial-building/for-sale/2450/meerhout/rap58329', 'https://immo.vlan.be/en/detail/industrial-building/for-sale/2450/meerhout/rap58328', 'https://immo.vlan.be/en/detail/industrial-building/for-sale/2450/meerhout/rap58327', 'https://immo.vlan.be/en/detail/industrial-building/for-sale/2450/meerhout/rap58326', 'https://immo.vlan.be/en/detail/industrial-building/for-sale/2250/olen/rap58325', 'https://immo.vlan.be/en/detail/industrial-building/for-sale/2250/olen/rap58324', 'https://immo.vlan.be/en/detail/industrial-building/for-sale/2800/mechelen/rap58323', 'https://immo.vlan.be/en/detail/industrial-building/for-sale/2520/ranst/rap58321', 'https://immo.vlan.be/en/detail/duplex/for-sale/1780/wemmel/rap58319', 'https://immo.vlan.be/en/detail/flat---apartment/for-sale/2300/turnhout/rap58318', 'https://immo.vlan.be/en/detail/residence/for-sale/4102/ougree/val86649', 'https://immo.vlan.be/en/detail/flat---apartment/for-sale/4630/micheroux/val86648', 'https://immo.vlan.be/en/detail/residence/for-sale/6060/gilly/val86639', 'https://immo.vlan.be/en/detail/residence/for-sale/6250/aiseau/val86638', 'https://immo.vlan.be/en/detail/ground-floor/for-sale/4280/hannut/val86628', 'https://immo.vlan.be/en/detail/residence/for-sale/9990/maldegem/rwc10762', 'https://immo.vlan.be/en/detail/residence/for-sale/4280/hannut/val86623', 'https://immo.vlan.be/en/detail/flat---apartment/for-sale/9900/eeklo/rap58315', 'https://immo.vlan.be/en/detail/residence/for-sale/9450/haaltert/rap58314', 'https://immo.vlan.be/en/detail/residence/for-sale/9420/erondegem/rap58313', 'https://immo.vlan.be/en/detail/residence/for-sale/4540/amay/val86621', 'https://immo.vlan.be/en/detail/residence/for-sale/1000/brussels/vwc91241', 'https://immo.vlan.be/en/detail/flat---apartment/for-sale/1080/sint-jans-molenbeek/rap58311', 'https://immo.vlan.be/en/detail/flat---apartment/for-sale/2200/herentals/rap58310', 'https://immo.vlan.be/en/detail/chalet/for-sale/2230/herselt/rap58309', 'https://immo.vlan.be/en/detail/chalet/for-sale/2230/herselt/rap58308', 'https://immo.vlan.be/en/detail/residence/for-sale/2200/herentals/rap58307', 'https://immo.vlan.be/en/detail/villa/for-sale/1410/waterloo/val86615', 'https://immo.vlan.be/en/detail/flat---apartment/for-sale/1340/ottignies/val86607', 'https://immo.vlan.be/en/detail/residence/for-sale/1650/beersel/val86603', 'https://immo.vlan.be/en/detail/flat---apartment/for-sale/8700/tielt/rap58305', 'https://immo.vlan.be/en/detail/flat---apartment/for-sale/8700/tielt/rap58304', 'https://immo.vlan.be/en/detail/residence/for-sale/7110/maurage/val86600', 'https://immo.vlan.be/en/detail/flat---apartment/for-sale/2320/hoogstraten/rap58303', 'https://immo.vlan.be/en/detail/flat---apartment/for-sale/9400/ninove/rap58301', 'https://immo.vlan.be/en/detail/residence/for-sale/2960/brecht/rap58300', 'https://immo.vlan.be/en/detail/residence/for-sale/9060/zelzate/rap58299', 'https://immo.vlan.be/en/detail/duplex/for-sale/9400/ninove/rap58297', 'https://immo.vlan.be/en/detail/return-building/for-sale/4800/verviers/val86599', 'https://immo.vlan.be/en/detail/flat---apartment/for-sale/2100/deurne/rap58295', 'https://immo.vlan.be/en/detail/residence/for-sale/9900/eeklo/rap58294', 'https://immo.vlan.be/en/detail/flat---studio/for-sale/8434/westende/rap58293', 'https://immo.vlan.be/en/detail/residence/for-sale/2300/turnhout/rap58292', 'https://immo.vlan.be/en/detail/flat---apartment/for-sale/8530/harelbeke/rap58290', 'https://immo.vlan.be/en/detail/flat---apartment/for-sale/2170/merksem/rap58289', 'https://immo.vlan.be/en/detail/commerce-building/for-sale/2860/sint-katelijne-waver/rap58287', 'https://immo.vlan.be/en/detail/flat---apartment/for-sale/2320/hoogstraten/rap58286', 'https://immo.vlan.be/en/detail/residence/for-sale/4430/ans/val86597', 'https://immo.vlan.be/en/detail/residence/for-sale/4800/verviers/val86596', 'https://immo.vlan.be/en/detail/flat---apartment/for-sale/9040/sint-amandsberg/rap58284', 'https://immo.vlan.be/en/detail/flat---apartment/for-sale/8000/brugge/rap58283', 'https://immo.vlan.be/en/detail/flat---apartment/for-sale/8000/brugge/rap58282', 'https://immo.vlan.be/en/detail/office-space/for-sale/8500/kortrijk/rap58281', 'https://immo.vlan.be/en/detail/office-space/for-sale/8500/kortrijk/rap58280', 'https://immo.vlan.be/en/detail/residence/for-sale/3650/dilsen-stokkem/rap58276', 'https://immo.vlan.be/en/detail/residence/for-sale/3630/maasmechelen/rap58275', 'https://immo.vlan.be/en/detail/residence/for-sale/3630/maasmechelen/rap58274', 'https://immo.vlan.be/en/detail/residence/for-sale/7140/morlanwelz/val86593', 'https://immo.vlan.be/en/detail/flat---apartment/for-sale/8300/knokke-heist/rap58273', 'https://immo.vlan.be/en/detail/residence/for-sale/5070/fosses-la-ville/val86589', 'https://immo.vlan.be/en/detail/residence/for-sale/6010/couillet/val86588', 'https://immo.vlan.be/en/detail/loft/for-sale/7971/wadelincourt/val86587', 'https://immo.vlan.be/en/detail/ground-floor/for-sale/6141/forchies-la-marche/val86586', 'https://immo.vlan.be/en/detail/commerce-building/for-sale/6032/mont-sur-marchienne/val86585', 'https://immo.vlan.be/en/detail/commerce-building/for-sale/6032/mont-sur-marchienne/val86584', 'https://immo.vlan.be/en/detail/flat---apartment/for-sale/6060/gilly/val86583', 'https://immo.vlan.be/en/detail/flat---apartment/for-sale/1480/tubize/val86582', 'https://immo.vlan.be/en/detail/residence/for-sale/1435/mont-saint-guibert/val86580', 'https://immo.vlan.be/en/detail/residence/for-sale/8930/rekkem/val86576', 'https://immo.vlan.be/en/detail/residence/for-sale/1190/vorst/vwc91240', 'https://immo.vlan.be/en/detail/flat---studio/for-sale/8434/westende/rap58268', 'https://immo.vlan.be/en/detail/residence/for-sale/3140/keerbergen/rap58267', 'https://immo.vlan.be/en/detail/villa/for-sale/3140/keerbergen/rap58266', 'https://immo.vlan.be/en/detail/residence/for-sale/6630/martelange/val86574', 'https://immo.vlan.be/en/detail/penthouse/for-sale/2580/beerzel/rap58265', 'https://immo.vlan.be/en/detail/residence/for-sale/3530/houthalen-helchteren/rap58264', 'https://immo.vlan.be/en/detail/flat---apartment/for-sale/4100/seraing/val86571', 'https://immo.vlan.be/en/detail/residence/for-sale/1730/asse/rap58261', 'https://immo.vlan.be/en/detail/residence/for-sale/4430/ans/val86570', 'https://immo.vlan.be/en/detail/residence/for-sale/1640/sint-genesius-rode/val86569', 'https://immo.vlan.be/en/detail/residence/for-sale/3212/pellenberg/rap58259', 'https://immo.vlan.be/en/detail/flat---apartment/for-sale/1000/brussels/val86568', 'https://immo.vlan.be/en/detail/flat---studio/for-sale/1080/sint-jans-molenbeek/rap58258', 'https://immo.vlan.be/en/detail/flat---apartment/for-sale/1180/ukkel/rap58257', 'https://immo.vlan.be/en/detail/flat---apartment/for-sale/4430/ans/val86564', 'https://immo.vlan.be/en/detail/residence/for-sale/4690/glons/val86561', 'https://immo.vlan.be/en/detail/residence/for-sale/1150/sint-pieters-woluwe/rap58256', 'https://immo.vlan.be/en/detail/mixed-building/for-sale/1000/brussels/val86560', 'https://immo.vlan.be/en/detail/residence/for-sale/7620/bleharies/val86559', 'https://immo.vlan.be/en/detail/residence/for-sale/4163/tavier/val86558', 'https://immo.vlan.be/en/detail/flat---apartment/for-sale/9506/zandbergen/rwc10759', 'https://immo.vlan.be/en/detail/villa/for-sale/4300/waremme/val86557', 'https://immo.vlan.be/en/detail/flat---apartment/for-sale/2000/antwerp/rap58255', 'https://immo.vlan.be/en/detail/flat---apartment/for-sale/2600/berchem/rap58254', 'https://immo.vlan.be/en/detail/flat---studio/for-sale/1190/vorst/val86556', 'https://immo.vlan.be/en/detail/flat---apartment/for-sale/4400/flemalle/val86554', \"https://immo.vlan.be/en/detail/flat---apartment/for-sale/1420/braine-l'alleud/val86553\", 'https://immo.vlan.be/en/detail/residence/for-sale/1200/sint-lambrechts-woluwe/val86551', 'https://immo.vlan.be/en/detail/residence/for-sale/9860/oosterzele/rap58248', 'https://immo.vlan.be/en/detail/residence/for-sale/9290/uitbergen/rap58247', 'https://immo.vlan.be/en/detail/residence/for-sale/9000/gent/rap58244', 'https://immo.vlan.be/en/detail/duplex/for-sale/2900/schoten/rap58243', 'https://immo.vlan.be/en/detail/residence/for-sale/2960/brecht/rap58242', 'https://immo.vlan.be/en/detail/residence/for-sale/7500/tournai/val86550', 'https://immo.vlan.be/en/detail/residence/for-sale/9890/gavere/rap58240', 'https://immo.vlan.be/en/detail/residence/for-sale/7700/mouscron/val86549', 'https://immo.vlan.be/en/detail/residence/for-sale/9890/gavere/rap58239', 'https://immo.vlan.be/en/detail/flat---apartment/for-sale/1030/schaarbeek/val86547', 'https://immo.vlan.be/en/detail/villa/for-sale/1150/sint-pieters-woluwe/val86545', 'https://immo.vlan.be/en/detail/residence/for-sale/1200/sint-lambrechts-woluwe/val86543', 'https://immo.vlan.be/en/detail/flat---apartment/for-sale/1050/elsene/val86541', 'https://immo.vlan.be/en/detail/penthouse/for-sale/9500/geraardsbergen/rap58237', 'https://immo.vlan.be/en/detail/flat---apartment/for-sale/9500/geraardsbergen/rap58236', 'https://immo.vlan.be/en/detail/development-site/for-sale/8800/roeselare/rap58231', 'https://immo.vlan.be/en/detail/residence/for-sale/6010/couillet/val86540', 'https://immo.vlan.be/en/detail/business-surface/for-sale/6887/herbeumont/vwc91239', 'https://immo.vlan.be/en/detail/residence/for-sale/6887/herbeumont/vwc91238', 'https://immo.vlan.be/en/detail/penthouse/for-sale/9240/zele/rap58226', 'https://immo.vlan.be/en/detail/commerce-building/for-sale/8551/heestert/rap58225', \"https://immo.vlan.be/en/detail/duplex/for-sale/1420/braine-l'alleud/val86537\", 'https://immo.vlan.be/en/detail/flat---apartment/for-sale/1050/elsene/val86536', 'https://immo.vlan.be/en/detail/flat---apartment/for-sale/8710/wielsbeke/rap58223', 'https://immo.vlan.be/en/detail/flat---apartment/for-sale/8710/wielsbeke/rap58222', 'https://immo.vlan.be/en/detail/residence/for-sale/8710/sint-baafs-vijve/rap58221', 'https://immo.vlan.be/en/detail/villa/for-sale/8210/zedelgem/rap58220', 'https://immo.vlan.be/en/detail/residence/for-sale/8760/meulebeke/rap58219', 'https://immo.vlan.be/en/detail/commerce-building/for-sale/8870/izegem/rap58218', 'https://immo.vlan.be/en/detail/villa/for-sale/8770/ingelmunster/rap58217', 'https://immo.vlan.be/en/detail/residence/for-sale/8870/emelgem/rap58216', 'https://immo.vlan.be/en/detail/residence/for-sale/8780/oostrozebeke/rap58215', 'https://immo.vlan.be/en/detail/flat---apartment/for-sale/8710/ooigem/rap58214', 'https://immo.vlan.be/en/detail/residence/for-sale/8780/oostrozebeke/rap58213', 'https://immo.vlan.be/en/detail/residence/for-sale/8710/sint-baafs-vijve/rap58212', 'https://immo.vlan.be/en/detail/residence/for-sale/8553/otegem/rap58211', 'https://immo.vlan.be/en/detail/residence/for-sale/8770/ingelmunster/rap58210', 'https://immo.vlan.be/en/detail/residence/for-sale/8760/meulebeke/rap58209', 'https://immo.vlan.be/en/detail/residence/for-sale/8850/ardooie/rwc10758', 'https://immo.vlan.be/en/detail/flat---apartment/for-sale/8300/knokke-heist/rap58203', 'https://immo.vlan.be/en/detail/chalet/for-sale/3191/hever/rap58202', 'https://immo.vlan.be/en/detail/development-site/for-sale/3018/wijgmaal/rap58201', 'https://immo.vlan.be/en/detail/development-site/for-sale/3018/wijgmaal/rap58200', 'https://immo.vlan.be/en/detail/flat---apartment/for-sale/8000/brugge/rwc10757', 'https://immo.vlan.be/en/detail/flat---apartment/for-sale/8301/heist/rap58199', 'https://immo.vlan.be/en/detail/master-house/for-sale/1500/halle/val86530', 'https://immo.vlan.be/en/detail/flat---apartment/for-sale/8791/beveren-leie/rap58194', 'https://immo.vlan.be/en/detail/flat---apartment/for-sale/8900/ieper/rap58188', 'https://immo.vlan.be/en/detail/flat---apartment/for-sale/8900/ieper/rap58187', 'https://immo.vlan.be/en/detail/flat---apartment/for-sale/8900/ieper/rap58186', 'https://immo.vlan.be/en/detail/flat---apartment/for-sale/8900/ieper/rap58185', 'https://immo.vlan.be/en/detail/commerce-building/for-sale/7000/mons/val86526', 'https://immo.vlan.be/en/detail/villa/for-sale/2200/morkhoven/rap58183', 'https://immo.vlan.be/en/detail/villa/for-sale/2220/heist-op-den-berg/rap58182', 'https://immo.vlan.be/en/detail/flat---apartment/for-sale/3690/zutendaal/rap58181', 'https://immo.vlan.be/en/detail/flat---apartment/for-sale/1060/sint-gillis/val86525', 'https://immo.vlan.be/en/detail/residence/for-sale/8200/sint-andries/rap58178', 'https://immo.vlan.be/en/detail/residence/for-sale/6000/charleroi/val86520', 'https://immo.vlan.be/en/detail/development-site/for-sale/4020/jupille/val86519', 'https://immo.vlan.be/en/detail/industrial-building/for-sale/8581/kerkhove/rap58175', 'https://immo.vlan.be/en/detail/residence/for-sale/5300/seilles/val86517', 'https://immo.vlan.be/en/detail/flat---apartment/for-sale/9000/gent/rap58174', 'https://immo.vlan.be/en/detail/flat---apartment/for-sale/9000/gent/rap58173', 'https://immo.vlan.be/en/detail/residence/for-sale/9070/heusden/rap58172', 'https://immo.vlan.be/en/detail/residence/for-sale/8400/oostende/rwc10756', 'https://immo.vlan.be/en/detail/residence/for-sale/4684/haccourt/val86516', 'https://immo.vlan.be/en/detail/residence/for-sale/4530/villers-le-bouillet/val86515', 'https://immo.vlan.be/en/detail/flat---apartment/for-sale/3530/houthalen-helchteren/rwc10755', 'https://immo.vlan.be/en/detail/residence/for-sale/2300/turnhout/rap58168', 'https://immo.vlan.be/en/detail/villa/for-sale/3700/piringen/rap58165', 'https://immo.vlan.be/en/detail/ground-floor/for-sale/1180/ukkel/val86510', 'https://immo.vlan.be/en/detail/residence/for-sale/8630/veurne/rap58162', 'https://immo.vlan.be/en/detail/commerce-building/for-sale/8500/kortrijk/rap58161', 'https://immo.vlan.be/en/detail/residence/for-sale/8400/oostende/rap58160', 'https://immo.vlan.be/en/detail/residence/for-sale/1170/watermaal-bosvoorde/val86509', 'https://immo.vlan.be/en/detail/residence/for-sale/3001/heverlee/rap58158', 'https://immo.vlan.be/en/detail/flat---apartment/for-sale/1190/vorst/val86506', 'https://immo.vlan.be/en/detail/duplex/for-sale/4400/flemalle/val86504', 'https://immo.vlan.be/en/detail/flat---apartment/for-sale/4400/flemalle/val86503', 'https://immo.vlan.be/en/detail/parking/for-sale/8310/assebroek/rwc10754', 'https://immo.vlan.be/en/detail/master-house/for-sale/7180/seneffe/val86502', 'https://immo.vlan.be/en/detail/residence/for-sale/6040/jumet/val86501', 'https://immo.vlan.be/en/detail/flat---apartment/for-sale/1340/ottignies/val86500', 'https://immo.vlan.be/en/detail/residence/for-sale/2260/westerlo/rap58156', 'https://immo.vlan.be/en/detail/residence/for-sale/2290/vorselaar/rap58155', 'https://immo.vlan.be/en/detail/residence/for-sale/1410/waterloo/vwc91236', 'https://immo.vlan.be/en/detail/villa/for-sale/7060/soignies/val86491', 'https://immo.vlan.be/en/detail/flat---apartment/for-sale/1540/herne/val86490', 'https://immo.vlan.be/en/detail/flat---apartment/for-sale/3530/houthalen-helchteren/rwc10752', 'https://immo.vlan.be/en/detail/residence/for-sale/8680/koekelare/rwc10751', 'https://immo.vlan.be/en/detail/residence/for-sale/4430/ans/val86483', 'https://immo.vlan.be/en/detail/residence/for-sale/5003/saint-marc/val86482', 'https://immo.vlan.be/en/detail/flat---apartment/for-sale/1080/sint-jans-molenbeek/val86481', 'https://immo.vlan.be/en/detail/residence/for-sale/8930/menen/rap58152', 'https://immo.vlan.be/en/detail/return-building/for-sale/1080/sint-jans-molenbeek/val86480', 'https://immo.vlan.be/en/detail/ground-floor/for-sale/4140/sprimont/val86473', 'https://immo.vlan.be/en/detail/development-site/for-sale/3582/koersel/rap58150', 'https://immo.vlan.be/en/detail/residence/for-sale/6040/jumet/val86472', 'https://immo.vlan.be/en/detail/residence/for-sale/8930/rekkem/rap58148', 'https://immo.vlan.be/en/detail/villa/for-sale/1330/rixensart/val86471', 'https://immo.vlan.be/en/detail/residence/for-sale/2850/boom/rap58146', 'https://immo.vlan.be/en/detail/residence/for-sale/7012/jemappes/val86470', 'https://immo.vlan.be/en/detail/residence/for-sale/2850/boom/rap58145', 'https://immo.vlan.be/en/detail/master-house/for-sale/2600/berchem/rap58144', 'https://immo.vlan.be/en/detail/flat---apartment/for-sale/2600/berchem/rap58143', 'https://immo.vlan.be/en/detail/commerce-building/for-sale/2018/antwerp/rap58142', 'https://immo.vlan.be/en/detail/residence/for-sale/4450/juprelle/val86466', 'https://immo.vlan.be/en/detail/residence/for-sale/8020/waardamme/rap58140', 'https://immo.vlan.be/en/detail/flat---apartment/for-sale/8434/westende/rap58139', 'https://immo.vlan.be/en/detail/flat---apartment/for-sale/1030/schaarbeek/val86464', 'https://immo.vlan.be/en/detail/flat---apartment/for-sale/8430/middelkerke/rap58138', 'https://immo.vlan.be/en/detail/garage/for-sale/1083/ganshoren/val86460', 'https://immo.vlan.be/en/detail/mansion/for-sale/8370/blankenberge/rap58137', 'https://immo.vlan.be/en/detail/flat---studio/for-sale/1000/brussels/rap58136', 'https://immo.vlan.be/en/detail/residence/for-sale/8370/blankenberge/rap58133', 'https://immo.vlan.be/en/detail/farming-site/for-sale/8691/stavele/rap58135', 'https://immo.vlan.be/en/detail/flat---studio/for-sale/1000/brussels/rap58134', 'https://immo.vlan.be/en/detail/flat---apartment/for-sale/9000/gent/rap58130', 'https://immo.vlan.be/en/detail/flat---apartment/for-sale/9000/gent/rap58129', 'https://immo.vlan.be/en/detail/flat---apartment/for-sale/1140/evere/val86457', 'https://immo.vlan.be/en/detail/residence/for-sale/9270/laarne/rap58127', 'https://immo.vlan.be/en/detail/residence/for-sale/3670/meeuwen-gruitrode/rap58126', 'https://immo.vlan.be/en/detail/residence/for-sale/3210/lubbeek/rap58124', 'https://immo.vlan.be/en/detail/flat---apartment/for-sale/3150/haacht/rap58123', 'https://immo.vlan.be/en/detail/flat---apartment/for-sale/2018/antwerp/rap58122', 'https://immo.vlan.be/en/detail/return-building/for-sale/7000/mons/val86455', 'https://immo.vlan.be/en/detail/residence/for-sale/8900/ieper/rap58119', 'https://immo.vlan.be/en/detail/residence/for-sale/6061/montignies-sur-sambre/val86453', 'https://immo.vlan.be/en/detail/development-site/for-sale/9120/vrasene/rap58118', 'https://immo.vlan.be/en/detail/residence/for-sale/7033/cuesmes/val86452', 'https://immo.vlan.be/en/detail/residence/for-sale/6150/anderlues/val86447', 'https://immo.vlan.be/en/detail/residence/for-sale/6150/anderlues/val86446', 'https://immo.vlan.be/en/detail/return-building/for-sale/1160/oudergem/val86445', 'https://immo.vlan.be/en/detail/residence/for-sale/8380/zeebrugge/rap58115', 'https://immo.vlan.be/en/detail/residence/for-sale/4400/awirs/val86443', 'https://immo.vlan.be/en/detail/residence/for-sale/8000/brugge/rap58114', 'https://immo.vlan.be/en/detail/development-site/for-sale/6600/bastogne/val86440', 'https://immo.vlan.be/en/detail/flat---apartment/for-sale/2620/hemiksem/rap58113', 'https://immo.vlan.be/en/detail/flat---apartment/for-sale/2620/hemiksem/rap58112', 'https://immo.vlan.be/en/detail/flat---apartment/for-sale/1820/melsbroek/rap58111', 'https://immo.vlan.be/en/detail/residence/for-sale/9190/stekene/rap58110', 'https://immo.vlan.be/en/detail/penthouse/for-sale/4653/bolland/val86439', 'https://immo.vlan.be/en/detail/penthouse/for-sale/4650/herve/val86438', 'https://immo.vlan.be/en/detail/residence/for-sale/4250/geer/val86437', 'https://immo.vlan.be/en/detail/residence/for-sale/4050/chaudfontaine/val86436', 'https://immo.vlan.be/en/detail/flat---apartment/for-sale/8300/knokke-heist/vwc91234', 'https://immo.vlan.be/en/detail/residence/for-sale/1150/sint-pieters-woluwe/val86435', 'https://immo.vlan.be/en/detail/cottage/for-sale/7711/dottignies/val86433', 'https://immo.vlan.be/en/detail/villa/for-sale/7711/dottignies/val86432', 'https://immo.vlan.be/en/detail/master-house/for-sale/7500/tournai/val86431', 'https://immo.vlan.be/en/detail/loft/for-sale/1070/anderlecht/vwc91233', 'https://immo.vlan.be/en/detail/residence/for-sale/1070/anderlecht/val86429']\n"
    }
   ],
   "source": [
    "# Browsing one page\n",
    "print(properties_links)\n",
    "# current_link = properties_links[0]\n",
    "# print(current_link)\n",
    "# driver.get(current_link)\n"
   ]
  },
  {
   "cell_type": "code",
   "execution_count": 117,
   "metadata": {
    "tags": []
   },
   "outputs": [
    {
     "output_type": "stream",
     "name": "stdout",
     "text": "3209\n"
    }
   ],
   "source": [
    "print(len(properties_links))"
   ]
  },
  {
   "cell_type": "code",
   "execution_count": 135,
   "metadata": {
    "tags": []
   },
   "outputs": [
    {
     "output_type": "stream",
     "name": "stdout",
     "text": "https://immo.vlan.be/en/detail/residence/for-sale/8810/lichtervelde/rap58924\n"
    }
   ],
   "source": [
    "print(properties_links[0])"
   ]
  },
  {
   "source": [
    "1. Locality\n",
    "1. Type of property (House/apartment)\n",
    "1. Subtype of property (Bungalow, Chalet, Mansion, ...)\n",
    "1. Price\n",
    "1. Type of sale (Exclusion of life sales)\n",
    "1. Number of rooms\n",
    "1. Area\n",
    "1. Fully equipped kitchen (Yes/No)\n",
    "1. Furnished (Yes/No)\n",
    "1. Open fire (Yes/No)\n",
    "1. Terrace (Yes/No)\n",
    "1. If yes: Area\n",
    "1. Garden (Yes/No)\n",
    "1. If yes: Area\n",
    "1. Surface of the land\n",
    "1. Surface area of the plot of land\n",
    "1. Number of facades\n",
    "1. Swimming pool (Yes/No)\n",
    "1. State of the building (New, to be renovated, ...)"
   ],
   "cell_type": "markdown",
   "metadata": {}
  },
  {
   "cell_type": "code",
   "execution_count": 131,
   "metadata": {
    "tags": []
   },
   "outputs": [
    {
     "output_type": "stream",
     "name": "stdout",
     "text": "[]\n"
    }
   ],
   "source": [
    "'''\n",
    "Locality\n",
    "Type of property (House/apartment)\n",
    "Subtype of property (Bungalow, Chalet, Mansion, ...)\n",
    "Price\n",
    "Type of sale (Exclusion of life sales)\n",
    "Number of rooms\n",
    "Area\n",
    "Fully equipped kitchen (Yes/No)\n",
    "Furnished (Yes/No)\n",
    "Open fire (Yes/No)\n",
    "Terrace (Yes/No)\n",
    "If yes: Area\n",
    "Garden (Yes/No)\n",
    "If yes: Area\n",
    "Surface of the land\n",
    "Surface area of the plot of land\n",
    "Number of facades\n",
    "Swimming pool (Yes/No)\n",
    "State of the building (New, to be renovated, ...)\n",
    "'''\n"
   ]
  },
  {
   "cell_type": "code",
   "execution_count": 136,
   "metadata": {},
   "outputs": [],
   "source": [
    "with open(\"./properties_links.txt\", \"a\") as list_of_links_file:\n",
    "    for page_property_link in properties_links:\n",
    "        list_of_links_file.write(f\"{page_property_link}\\n\")\n"
   ]
  }
 ]
}