{
 "metadata": {
  "language_info": {
   "codemirror_mode": {
    "name": "ipython",
    "version": 3
   },
   "file_extension": ".py",
   "mimetype": "text/x-python",
   "name": "python",
   "nbconvert_exporter": "python",
   "pygments_lexer": "ipython3",
   "version": "3.8.3-final"
  },
  "orig_nbformat": 2,
  "kernelspec": {
   "name": "Python 3.8.3 64-bit (conda)",
   "display_name": "Python 3.8.3 64-bit (conda)",
   "metadata": {
    "interpreter": {
     "hash": "3b1a8060338225f2bebef7ac4b2e7f6bf43c2f4428566c5ddcf188aa63f7df5e"
    }
   }
  }
 },
 "nbformat": 4,
 "nbformat_minor": 2,
 "cells": [
  {
   "cell_type": "code",
   "execution_count": 261,
   "metadata": {
    "tags": []
   },
   "outputs": [
    {
     "output_type": "stream",
     "name": "stdout",
     "text": "House for sale - Immoweb\n"
    }
   ],
   "source": [
    "from selenium import webdriver\n",
    "from selenium.webdriver.common.keys import Keys #gives me access to the enter key \n",
    "from selenium.webdriver.support.ui import WebDriverWait\n",
    "from selenium.webdriver.support import expected_conditions as EC\n",
    "from selenium.common.exceptions import TimeoutException\n",
    "from selenium.webdriver.common.by import By\n",
    "from bs4 import BeautifulSoup\n",
    "import requests\n",
    "import time\n",
    "\n",
    "# PATH = \"/usr/bin/chromedriver\" # For Linux\n",
    "PATH = \"C:\\\\Users\\\\didie\\\\WebDrivers\\\\chromedriver.exe\" # my path from windows\n",
    "\n",
    "driver = webdriver.Chrome(PATH)\n",
    "\n",
    "\n",
    "url='https://www.immoweb.be/en/search/house/for-sale?countries=BE'\n",
    "# url=\"https://www.immoweb.be/en/search/apartment/for-sale?countries=BE\"\n",
    "\n",
    "# Request init\n",
    "driver.get(url) \n",
    "\n",
    "\n",
    "print(driver.title) # Check to see if OK!!!\n",
    "# driver.close() # to close the tab but I can use quit to quit the application"
   ]
  },
  {
   "cell_type": "code",
   "execution_count": 262,
   "metadata": {
    "tags": []
   },
   "outputs": [
    {
     "output_type": "stream",
     "name": "stdout",
     "text": "Popup closed\n"
    }
   ],
   "source": [
    "# first Id than name than class\n",
    "# let's get rid of the cookie pop window\n",
    "time.sleep(0.5)\n",
    "\n",
    "def remove_popup():\n",
    "    # Target button exit popup\n",
    "    cookie_btn = driver.find_element_by_id(\"uc-btn-accept-banner\")\n",
    "\n",
    "    # click to close Popup  \n",
    "    cookie_btn.click()\n",
    "\n",
    "\n",
    "remove_popup()\n",
    "print(\"Popup closed\")\n",
    "time.sleep(3)"
   ]
  },
  {
   "cell_type": "code",
   "execution_count": 263,
   "metadata": {},
   "outputs": [],
   "source": [
    "# vaccum page list\n",
    "def store_list_view_container():\n",
    "    time.sleep(1)\n",
    "    return driver.find_element_by_id(\"main-content\")\n",
    "    # return WebDriverWait(driver, 10).until(EC.presence_of_all_element_located((By.XPATH, \"//div[contains(@id, 'app-search')]\")))\n",
    "\n",
    "# Create thumbnails list\n",
    "def create_thumbs():\n",
    "    # Second Method\n",
    "    return store_list_view_container()\n",
    "\n",
    "def create_propreties(thumbnails):\n",
    "    print(thumbnails.text)\n",
    "    #Creation container de propreties\n",
    "    # 1 Method return thumbnails.find_elements_by_xpath(\"//a[contains(@href, '/en/detail')]\") \n",
    "    time.sleep(2)\n",
    "    return WebDriverWait(driver, 5).until(EC.presence_of_all_elements_located((By.XPATH, '//a[contains(@href, \"/for-sale/\")]')))"
   ]
  },
  {
   "cell_type": "code",
   "execution_count": 264,
   "metadata": {},
   "outputs": [],
   "source": [
    "def create_pages_link(propreties_thum, properties_links):\n",
    "    for property in propreties_thum:\n",
    "        if property.get_attribute('href') not in properties_links and '/for-sale/' in property.get_attribute('href'):\n",
    "            # print(property.get_attribute('href')) \n",
    "            properties_links.append(property.get_attribute('href'))"
   ]
  },
  {
   "cell_type": "code",
   "execution_count": 265,
   "metadata": {
    "tags": []
   },
   "outputs": [],
   "source": [
    "# I need to rebuild links\n",
    "# let's do for one                                               \n",
    "\n",
    "thumbails = create_thumbs()\n",
    "# propreties_thum = create_propreties(thumbails)\n",
    "# print(propreties_thum.text)# Just to check if thumbnails stored"
   ]
  },
  {
   "cell_type": "code",
   "execution_count": 266,
   "metadata": {
    "tags": []
   },
   "outputs": [
    {
     "output_type": "stream",
     "name": "stdout",
     "text": "House\n€990,000\n990000€\n6 bdr.\n6 bedrooms\n· 485 m²\nsquare meters\n1150 Woluwe-Saint-Pierre\nEntre la Maison Communale et &quot;La Rasante&quot; - 2 Logements\nNEW BUILD\nSponsored\nNew real estate project - Apartments\nStarting from\n€168,000\n168000€\n1 - 4 Bedrooms\n1 - 4 bdr. 46 - 184 m²\nsquare meters\n1200 - Woluwe-St-Lambert\nHouse\n€195,000\n195000€\n3 bdr.\n3 bedrooms\n· 242 m²\nsquare meters\n4180 Hamoir\nIMPOSANTE MAISON (240m2) 3 CHAMBRES AVEC GRANDE TERRASSE ET\nNEW PRICE\nEcobo - Chaussée de Douai\n€201,132\n201132€\n3 bdr.\n3 bedrooms\n· 137 - 154 m²\nsquare meters\n7500 Tournai\n4 nouvelles constructions à découvrir proche du centre-ville\nNEW REAL ESTATE PROJECT\n75% SOLD\nMixed-use building\n€295,000\n295000€\n3 bdr.\n3 bedrooms\n· 242 m²\nsquare meters\n4180 Hamoir\nGRANDE MAISON AVEC ATELIER ET/OU TERRAIN A BATIR.\nNEW PRICE\nBungalow\n€395,000\n395000€\n2 bdr.\n2 bedrooms\n· 111 m²\nsquare meters\n1380 Lasne\nBungalow 2BR &quot;Coup de cœur&quot;\nNEW\nHouse\n€549,000\n549000€\n5 bdr.\n5 bedrooms\n· 365 m²\nsquare meters\n4570 Marchin\nEcurie comprenant 2 maisons, 7 box, terrain et permis\nNEW PRICE\nMansion\n€600,000\n600000€\n4 bdr.\n4 bedrooms\n· 330 m²\nsquare meters\n1400 Nivelles\n-\nExceptional property\n€625,000\n625000€\n2 bdr.\n2 bedrooms\n· 184 m²\nsquare meters\n8000 Brugge\nUniquely situated house with sun terraces and 2 garages!\nVilla\n€675,000\n675000€\n4 bdr.\n4 bedrooms\n· 349 m²\nsquare meters\n8730 Oedelem\nPrachtige Mi Casa Villa\nNEW PRICE\nVilla\n€750,000\n750000€\n5 bdr.\n5 bedrooms\n· 270 m²\nsquare meters\n1410 Waterloo\n-\nMansion\n€3,800,000\n3800000€\n5 bdr.\n5 bedrooms\n· 752 m²\nsquare meters\n1050 Ixelles\nSuperb Master House with garden\nHouse\n€279,000\n279000€\n4 bdr.\n4 bedrooms\n· 160 m²\nsquare meters\n4530 Villers-Le-Bouillet\nSuperb 4 facade house with large garden in a perfect state o\nNEW\nDe Molens woningen\n€298,404 - €380,850\nFrom 298404€ To 380850€\n1 - 4 Bedrooms\n1 - 4 bdr. · 132 - 217 m²\nsquare meters\n1760 Roosdaal Onze-Lieve-Vrouw-Lombeek\n4 woningen\nNEW REAL ESTATE PROJECT\n&quot;Moulin Blanc&quot; Villas\n€700,000 - €750,000\nFrom 700000€ To 750000€\n3 bdr.\n3 bedrooms\n· 138 - 154 m²\nsquare meters\n1180 Uccle\nEXCEPTIONAL CONDITIONS on your new apartment! *\nNEW\nNEW REAL ESTATE PROJECT\n34% SOLD\nHouse\n€245,000\n245000€\n5 bdr.\n5 bedrooms\n· 142 m²\nsquare meters\n4480 Engis\nVERY SPACIOUS HOUSE 5 BEDROOMS GARDEN VERANDA GARAGE\nNEW\nApartment block\n€250,000\n250000€\n5 bdr.\n5 bedrooms\n· 303 m²\nsquare meters\n4020 LiÈGe\nVASTE ENSEMBLE IMMOBILIER ATYPIQUE (logements, cinéma, garag\nNEW PRICE\nHof van Sprolant\n€258,000 - €297,000\nFrom 258000€ To 297000€\n3 - 4 Bedrooms\n3 - 4 bdr. · 148 - 179 m²\nsquare meters\n3840 Borgloon\n18 energiezuinige nieuwbouw woningen in Pastorijstijl\nNEW\nNEW REAL ESTATE PROJECT\nWARICHET/SEUMAY\n€320,000 - €330,000\nFrom 320000€ To 330000€\n3 bdr.\n3 bedrooms\n· 123 m²\nsquare meters\n1360 Perwez\nLes Viviers - 6 maisons neuves aux belles finitions\nNEW\nNEW REAL ESTATE PROJECT\nVilla\n€865,000\n865000€\n3 bdr.\n3 bedrooms\n· 230 m²\nsquare meters\n1950 Kraainem\nVilla - quartier Bechet\nNEW\nHouse\n€770,000\n770000€\n4 bdr.\n4 bedrooms\n· 250 m²\nsquare meters\n1950 Kraainem\nKraainem - 4 Bedroom house with garage.\nNEW PRICE\nMaison neuves à Traimont\n€224,000 - €236,000\nFrom 224000€ To 236000€\n3 bdr.\n3 bedrooms\n· 121 m²\nsquare meters\n6860 Leglise - Traimont\nNew constructions 3 bedrooms in Traimont\nNEW\nNEW REAL ESTATE PROJECT\nDen Dreef\n€445,000 - €475,000\nFrom 445000€ To 475000€\n2 - 3 Bedrooms\n2 - 3 bdr. · 194 - 200 m²\nsquare meters\n3360 Bierbeek\nKleinschalig nieuwbouwproject bestaande uit 3 BEN-woningen\nNEW\nNEW REAL ESTATE PROJECT\nHouse\n€580,000\n580000€\n2 bdr.\n2 bedrooms\n· 140 m²\nsquare meters\n1970 Wezembeek-Oppem\nNear Stockel - 2 bedroom charming house with terrace and gar\nUNDER OPTION\nHouse\n€2,950,000\n2950000€\n5 bdr.\n5 bedrooms\n· 600 m²\nsquare meters\n1180 Uccle\nElegant house in a quiet neigbourhood\nNEW\nMansion\n€3,900,000\n3900000€\n5 bdr.\n5 bedrooms\n· 666 m²\nsquare meters\n1050 Elsene\nmagnificent mansion,indoor swimming pool,south garden\nHouse\n€890,000\n890000€\n6 bdr.\n6 bedrooms\n· 330 m²\nsquare meters\n3001 Heverlee\nNEW BUILD\nHouse\n€1,050,000\n1050000€\n5 bdr.\n5 bedrooms\n· 270 m²\nsquare meters\n1150 Woluwe-Saint-Pierre\nEtangs Mellaerts - jolie villa 5ch/2sdb - jardin - garages\nHouse\n€199,000\n199000€\n2 bdr.\n2 bedrooms\n· 110 m²\nsquare meters\n4570 Marchin\nIn the magnificent village of Vyle-Tharoul (Marchin), charmi\nNEW\nHouse\n€545,000\n545000€\n4 bdr.\n4 bedrooms\n· 235 m²\nsquare meters\n1200 Woluwe-Saint-Lambert\nMagnificent small apartment building recently renovated 4 be\nExceptional property\n€598,000\n598000€\n3 bdr.\n3 bedrooms\n· 600 m²\nsquare meters\n6740 Etalle\nSuperb mixed building in ETALLE\nNEW BUILD\n[&#39;https://www.immoweb.be/en/classified/house/for-sale/woluwe-saint-pierre/1150/8856902?searchId=5f716f711a696&#39;, &#39;https://www.immoweb.be/en/classified/house/for-sale/hamoir/4180/8901692?searchId=5f716f711a696&#39;, &#39;https://www.immoweb.be/en/classified/new-real-estate-project-houses/for-sale/tournai/7500/7171388?searchId=5f716f711a696&#39;, &#39;https://www.immoweb.be/en/classified/mixed-use-building/for-sale/hamoir/4180/8901695?searchId=5f716f711a696&#39;, &#39;https://www.immoweb.be/en/classified/bungalow/for-sale/lasne/1380/8957918?searchId=5f716f711a696&#39;, &#39;https://www.immoweb.be/en/classified/house/for-sale/marchin/4570/8826466?searchId=5f716f711a696&#39;, &#39;https://www.immoweb.be/en/classified/mansion/for-sale/nivelles/1400/8930262?searchId=5f716f711a696&#39;, &#39;https://www.immoweb.be/en/classified/exceptional-property/for-sale/brugge/8000/8816532?searchId=5f716f711a696&#39;, &#39;https://www.immoweb.be/en/classified/villa/for-sale/oedelem/8730/8747010?searchId=5f716f711a696&#39;, &#39;https://www.immoweb.be/en/classified/villa/for-sale/waterloo/1410/8621534?searchId=5f716f711a696&#39;, &#39;https://www.immoweb.be/en/classified/mansion/for-sale/ixelles/1050/8931022?searchId=5f716f711a696&#39;, &#39;https://www.immoweb.be/en/classified/house/for-sale/villers-le-bouillet/4530/8947189?searchId=5f716f711a696&#39;, &#39;https://www.immoweb.be/en/classified/new-real-estate-project-houses/for-sale/roosdaal-onze-lieve-vrouw-lombeek/1760/8818333?searchId=5f716f711a696&#39;, &#39;https://www.immoweb.be/en/classified/new-real-estate-project-houses/for-sale/uccle/1180/8936001?searchId=5f716f711a696&#39;, &#39;https://www.immoweb.be/en/classified/house/for-sale/engis/4480/8956710?searchId=5f716f711a696&#39;, &#39;https://www.immoweb.be/en/classified/apartment-block/for-sale/liege/4020/8775843?searchId=5f716f711a696&#39;, &#39;https://www.immoweb.be/en/classified/new-real-estate-project-houses/for-sale/borgloon/3840/8937694?searchId=5f716f711a696&#39;, &#39;https://www.immoweb.be/en/classified/new-real-estate-project-houses/for-sale/perwez/1360/8948907?searchId=5f716f711a696&#39;, &#39;https://www.immoweb.be/en/classified/villa/for-sale/kraainem/1950/8948191?searchId=5f716f711a696&#39;, &#39;https://www.immoweb.be/en/classified/house/for-sale/kraainem/1950/8704693?searchId=5f716f711a696&#39;, &#39;https://www.immoweb.be/en/classified/new-real-estate-project-houses/for-sale/leglise-traimont/6860/8945052?searchId=5f716f711a696&#39;, &#39;https://www.immoweb.be/en/classified/new-real-estate-project-houses/for-sale/bierbeek/3360/8945580?searchId=5f716f711a696&#39;, &#39;https://www.immoweb.be/en/classified/house/for-sale/wezembeek-oppem/1970/8946750?searchId=5f716f711a696&#39;, &#39;https://www.immoweb.be/en/classified/house/for-sale/uccle/1180/8955794?searchId=5f716f711a696&#39;, &#39;https://www.immoweb.be/en/classified/mansion/for-sale/elsene/1050/8690357?searchId=5f716f711a696&#39;, &#39;https://www.immoweb.be/en/classified/house/for-sale/heverlee/3001/8777400?searchId=5f716f711a696&#39;, &#39;https://www.immoweb.be/en/classified/house/for-sale/woluwe-saint-pierre/1150/8905891?searchId=5f716f711a696&#39;, &#39;https://www.immoweb.be/en/classified/house/for-sale/marchin/4570/8952598?searchId=5f716f711a696&#39;, &#39;https://www.immoweb.be/en/classified/house/for-sale/woluwe-saint-lambert/1200/8910441?searchId=5f716f711a696&#39;, &#39;https://www.immoweb.be/en/classified/exceptional-property/for-sale/etalle/6740/8909956?searchId=5f716f711a696&#39;, &#39;https://www.immoweb.be/en/search/house/for-sale/antwerp/province&#39;, &#39;https://www.immoweb.be/en/search/house/for-sale/brussels/province&#39;, &#39;https://www.immoweb.be/en/search/house/for-sale/east-flanders/province&#39;, &#39;https://www.immoweb.be/en/search/house/for-sale/flemish-brabant/province&#39;, &#39;https://www.immoweb.be/en/search/house/for-sale/hainaut/province&#39;, &#39;https://www.immoweb.be/en/search/house/for-sale/liege/province&#39;, &#39;https://www.immoweb.be/en/search/house/for-sale/limburg/province&#39;, &#39;https://www.immoweb.be/en/search/house/for-sale/luxembourg/province&#39;, &#39;https://www.immoweb.be/en/search/house/for-sale/namur/province&#39;, &#39;https://www.immoweb.be/en/search/house/for-sale/walloon-brabant/province&#39;, &#39;https://www.immoweb.be/en/search/house/for-sale/west-flanders/province&#39;]\n"
    }
   ],
   "source": [
    "properties_links = []\n",
    "\n",
    "create_pages_link(create_propreties(thumbails), properties_links)\n",
    "print(properties_links)"
   ]
  },
  {
   "cell_type": "code",
   "execution_count": 267,
   "metadata": {
    "tags": []
   },
   "outputs": [],
   "source": [
    "# Will be used in an iteration\n",
    "\n",
    "navigation_list = driver.find_element_by_xpath('//*[@id=\"searchResults\"]/div[4]/div/div/nav/ul')\n",
    "page = 2\n",
    "\n",
    "current_link = driver.find_element_by_xpath('//*[@id=\"searchResults\"]/div[3]/div/div/div[1]/div/div/div[1]/div/nav/ul/li[{}]/a/span[2]'.format(page))\n",
    "\n",
    "\n",
    "current_link.click()\n",
    "\n",
    "\n",
    "# page =2\n",
    "# current_link = driver.find_element_by_xpath(f'[1]')\n",
    "# for page in range(2, 333):\n",
    "#     current_link = driver.find_element_by_link_text(str(page))\n",
    "#     WebDriverWait(driver, 2)\n",
    "\n",
    "#     # isolate List view\n",
    "#     thumbails = create_thumbs()\n",
    "#     propreties_thum = create_propreties(thumbails)\n",
    "\n",
    "#     create_pages_link(propreties_thum, properties_links)\n",
    "   \n",
    "# current_link.click()\n",
    "    # print(page)\n"
   ]
  },
  {
   "cell_type": "code",
   "execution_count": null,
   "metadata": {},
   "outputs": [],
   "source": []
  }
 ]
}