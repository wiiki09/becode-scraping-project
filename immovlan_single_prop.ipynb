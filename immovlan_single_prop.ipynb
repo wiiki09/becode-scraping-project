{
 "metadata": {
  "language_info": {
   "codemirror_mode": {
    "name": "ipython",
    "version": 3
   },
   "file_extension": ".py",
   "mimetype": "text/x-python",
   "name": "python",
   "nbconvert_exporter": "python",
   "pygments_lexer": "ipython3",
   "version": "3.8.3-final"
  },
  "orig_nbformat": 2,
  "kernelspec": {
   "name": "Python 3.8.3 64-bit (conda)",
   "display_name": "Python 3.8.3 64-bit (conda)",
   "metadata": {
    "interpreter": {
     "hash": "3b1a8060338225f2bebef7ac4b2e7f6bf43c2f4428566c5ddcf188aa63f7df5e"
    }
   }
  }
 },
 "nbformat": 4,
 "nbformat_minor": 2,
 "cells": [
  {
   "cell_type": "code",
   "execution_count": 597,
   "metadata": {},
   "outputs": [],
   "source": [
    "streets_name = []\n",
    "areas = []\n",
    "localities = []\n",
    "postcodes = []\n",
    "prices = [\"Unknown\"]\n",
    "surfaces = [\"Unknown\"]\n",
    "number_rooms = [\"unknown\"]\n",
    "all_furnished = [0]\n",
    "kitchen_is_equiped =[0]\n",
    "number_facades = [0]\n",
    "terraces = [0]\n",
    "has_garden = [0]\n",
    "superface_garden = [0]\n",
    "has_swimming_pool = [0]\n",
    "surfaces_of_land = [\"Unknown\"]\n",
    "state_of_proprety = \"Unknown\"\n",
    "type_prop = \"Unknown\"\n",
    "sub_type = \"Unknown\""
   ]
  },
  {
   "cell_type": "code",
   "execution_count": 598,
   "metadata": {
    "tags": []
   },
   "outputs": [
    {
     "output_type": "stream",
     "name": "stdout",
     "text": "House in Rue des Hetres 9 Malmedy (VAL29583)\n"
    }
   ],
   "source": [
    "from selenium import webdriver\n",
    "from selenium.webdriver.common.keys import Keys #gives me access to the enter key \n",
    "from selenium.webdriver.support.ui import WebDriverWait\n",
    "from selenium.webdriver.support import expected_conditions as EC\n",
    "from selenium.common.exceptions import TimeoutException\n",
    "from selenium.webdriver.common.by import By\n",
    "from bs4 import BeautifulSoup\n",
    "import requests\n",
    "import time\n",
    "\n",
    "# PATH = \"/usr/bin/chromedriver\" # For Linux\n",
    "PATH = \"C:\\\\Users\\\\didie\\\\WebDrivers\\\\chromedriver.exe\" # my path from windows\n",
    "\n",
    "driver = webdriver.Chrome(PATH)\n",
    "url = \"https://immo.vlan.be/en/detail/development-site/for-sale/7120/estinnes-au-mont/val85127\"\n",
    "# Request init\n",
    "driver.get(url)\n",
    "print(driver.title) # Check to see if OK!!!\n",
    "# driver.close() # to close the tab but I can use quit to quit the application"
   ]
  },
  {
   "cell_type": "code",
   "execution_count": 599,
   "metadata": {
    "tags": []
   },
   "outputs": [],
   "source": [
    "# first Id than name than class\n",
    "# let's get rid of the cookie pop window\n",
    "time.sleep(1)\n",
    "\n",
    "def remove_popup():\n",
    "    # Target button exit popup\n",
    "    cookie_btn = driver.find_elements_by_id(\"didomi-notice-agree-button\")\n",
    "\n",
    "    # click to close Popup  \n",
    "    cookie_btn[0].click()\n",
    "\n",
    "\n",
    "remove_popup()\n",
    "print(\"Popup closed\")\n",
    "time.sleep(3)"
   ]
  },
  {
   "source": [
    "## Variables\n"
   ],
   "cell_type": "markdown",
   "metadata": {}
  },
  {
   "cell_type": "code",
   "execution_count": 600,
   "metadata": {
    "tags": []
   },
   "outputs": [],
   "source": [
    "# State of proprety\n",
    "btn_general_info = driver.find_element_by_xpath('//*[@id=\"collapse_general_info\"]')\n",
    "btn_general_info.click()\n",
    "time.sleep(0.2)\n",
    "state_of_proprety = btn_general_info.find_element_by_xpath('./div[1]/div[2]').text\n",
    "print(state_of_proprety)\n"
   ]
  },
  {
   "cell_type": "code",
   "execution_count": 601,
   "metadata": {},
   "outputs": [],
   "source": [
    "\n",
    "brussels = list(range(1000,1300))\n",
    "walloon_brabant = list(range(1300,1499))\n",
    "\n",
    "flemish_brabant = list(range(1500,1999)) + list(range(3000,3499))\n",
    "antwerp = list(range(2000,2999))\n",
    "limburg = list(range(3500,3999))\n",
    "liege = list(range(4000,4999))\n",
    "namur = list(range(5000,5999))\n",
    "hainaut = list(range(6000,6599)) + list(range(7000,7999))\n",
    "luxembourg = list(range(6600,6999))\n",
    "west_flanders = list(range(8000,8999))\n",
    "East_flanders = list(range(9000,9999))\n"
   ]
  },
  {
   "cell_type": "code",
   "execution_count": 602,
   "metadata": {
    "tags": []
   },
   "outputs": [],
   "source": [
    "\n",
    "def check_area(value):\n",
    "    if value in brussels:\n",
    "        return \"Brussels\"\n",
    "    elif value in walloon_brabant:\n",
    "        return \"Wallon Brabant\"\n",
    "    elif value in flemish_brabant:\n",
    "        return \"Flemish Brabant\"\n",
    "    elif value in antwerp:\n",
    "        return \"Antwerp\"\n",
    "    if value in limburg:\n",
    "        return \"Limburg\"\n",
    "    elif value in liege:\n",
    "        return \"Liege\"\n",
    "    elif value in namur:\n",
    "        return \"Namur\"\n",
    "    elif value in hainaut:\n",
    "        return \"Hainaut\"\n",
    "    elif value in luxembourg:\n",
    "        return \"luxembourg\"\n",
    "    elif value in west_flanders:\n",
    "        return \"West Flanders\"\n",
    "    else:\n",
    "        return \"East Flanders\"\n"
   ]
  },
  {
   "source": [
    "### Address\n",
    "#### locality and postCode"
   ],
   "cell_type": "markdown",
   "metadata": {}
  },
  {
   "cell_type": "code",
   "execution_count": 603,
   "metadata": {
    "tags": []
   },
   "outputs": [],
   "source": [
    "# Find address\n",
    "p = url.split('/')\n",
    "\n",
    "postcodes.append(p[-3])\n",
    "localities.append(p[-2])\n",
    "print('localities: ', localities)\n",
    "print('postcodes: ',postcodes)\n"
   ]
  },
  {
   "source": [
    "## Area of the country"
   ],
   "cell_type": "markdown",
   "metadata": {}
  },
  {
   "cell_type": "code",
   "execution_count": 604,
   "metadata": {
    "tags": []
   },
   "outputs": [
    {
     "output_type": "stream",
     "name": "stdout",
     "text": "4960 is from  Liege\n"
    }
   ],
   "source": [
    "print(f'{postcodes[0]} is from ', check_area(int(postcodes[0])))\n",
    "province =  check_area(int(postcodes[0]))\n",
    "areas.append(province)\n",
    "# postcodes"
   ]
  },
  {
   "cell_type": "code",
   "execution_count": 605,
   "metadata": {
    "tags": []
   },
   "outputs": [
    {
     "output_type": "execute_result",
     "data": {
      "text/plain": "[&#39;Unknown&#39;, &#39;670.000&#39;]"
     },
     "metadata": {},
     "execution_count": 605
    }
   ],
   "source": [
    "xpath_price = '//*[@id=\"main_container\"]/div[4]/div[4]/div[4]/div[1]/div[10]/div/div/div/div[1]/div[2]'\n",
    "price = driver.find_element_by_xpath(xpath_price)\n",
    "price_prop = price.text.split(\" \")[-1]\n",
    "prices.append(price_prop)\n",
    "prices\n",
    "\n",
    "print(prices)"
   ]
  },
  {
   "source": [
    "# Type\n",
    "## Subtype"
   ],
   "cell_type": "markdown",
   "metadata": {}
  },
  {
   "cell_type": "code",
   "execution_count": 606,
   "metadata": {},
   "outputs": [],
   "source": [
    "subtype = p[5]\n",
    "\n",
    "if subtype == \"residence\" or subtype == \"villa\" or subtype == \"master-house\" or subtype == \"mixed-building\" or subtype == \"undetermined-property\" or subtype == \"bungalow\" or subtype == \"return-building\" or subtype == \"commerce-building\":\n",
    "    type_prop = \"house\"\n",
    "elif subtype == \"flat---apartment\" or subtype == \"penthouse\" or subtype == \"duplex\" or subtype == \"triplex\" or subtype == \"ground-floor\" or subtype == \"flat---studio\":\n",
    "    type_prop = \"apartment\""
   ]
  },
  {
   "source": [
    "# INDOOR\n",
    "\n",
    "### Number of rooms , liveable suface, furnished\n"
   ],
   "cell_type": "markdown",
   "metadata": {}
  },
  {
   "cell_type": "code",
   "execution_count": 607,
   "metadata": {
    "tags": []
   },
   "outputs": [
    {
     "output_type": "stream",
     "name": "stdout",
     "text": "Number of bedrooms\nSurface bedroom 1\nSurface bedroom 2\nSurface bedroom 3\nSurface bedroom 4\nLivable surface\nFurnished\nSurface of living-room\nCellar\nGarage\n"
    }
   ],
   "source": [
    "# Suface and room container\n",
    "# first click the collapsed button\n",
    "btn_collapse_surface = driver.find_element_by_xpath('//*[@id=\"main_container\"]/div[4]/div[4]/div[4]/div[1]/div[13]/div/div/a')\n",
    "btn_collapse_surface.click()\n",
    "\n",
    "\n",
    "xpath_surface_and_rooms = '//*[@id=\"collapse_indoor_details\"]'\n",
    "time.sleep(0.2)\n",
    "container_indoor = driver.find_element_by_xpath(xpath_surface_and_rooms)\n",
    "\n",
    "#container indoor details: surface, number of rooms, \n",
    "rows = container_indoor.find_elements_by_class_name('row')\n",
    "\n",
    "for row in rows:\n",
    "    try:\n",
    "        info = row.find_element_by_class_name('col-6')\n",
    "    except:\n",
    "        info = row.find_element_by_class_name('col-8')\n",
    "\n",
    "\n",
    "    print(info.text)\n",
    "    if info.text == 'Number of bedrooms':\n",
    "        number_room = info.find_element_by_xpath('./following-sibling::div').text\n",
    "        number_rooms[0] = (number_room)\n",
    "\n",
    "    if info.text == 'Livable surface':\n",
    "        surface = info.find_element_by_xpath('./following-sibling::div').text\n",
    "        surfaces[0] = surface\n",
    "\n",
    "    if info.text == 'Furnished':\n",
    "        furnished = info.find_element_by_xpath('./following-sibling::div').text\n",
    "        if furnished:\n",
    "            all_furnished[0] = 1\n"
   ]
  },
  {
   "source": [
    "### Furnished"
   ],
   "cell_type": "markdown",
   "metadata": {
    "tags": []
   }
  },
  {
   "cell_type": "code",
   "execution_count": null,
   "metadata": {},
   "outputs": [],
   "source": []
  },
  {
   "source": [
    "### Kitchen\n"
   ],
   "cell_type": "markdown",
   "metadata": {}
  },
  {
   "cell_type": "code",
   "execution_count": 608,
   "metadata": {
    "tags": []
   },
   "outputs": [
    {
     "output_type": "stream",
     "name": "stdout",
     "text": "[0] ok\n"
    }
   ],
   "source": [
    "# first btn collapse\n",
    "btn_collapse_kitchen = driver.find_element_by_xpath('//*[@id=\"main_container\"]/div[4]/div[4]/div[4]/div[1]/div[16]/div/div/a')\n",
    "btn_collapse_kitchen.click()\n",
    "time.sleep(0.2)\n",
    "\n",
    "container_kitchen_info = driver.find_element_by_xpath('//*[@id=\"collapse_kitchenbath_details\"]')\n",
    "\n",
    "rows = container_kitchen_info.find_elements_by_class_name('row')\n",
    "\n",
    "for row in rows:\n",
    "    try:\n",
    "        info = row.find_element_by_class_name('col-6')\n",
    "    except:\n",
    "        info = row.find_element_by_class_name('col-8')\n",
    "\n",
    "    # print(info.text)\n",
    "    if info.text == 'Kitchen equipment':\n",
    "        kitchen_is_equiped[0] = 1\n",
    "\n",
    "print(kitchen_is_equiped, 'ok')\n",
    "\n"
   ]
  },
  {
   "source": [
    "\n",
    "# Outdoor\n",
    "### Terrace,Garden & Number of facades\n"
   ],
   "cell_type": "markdown",
   "metadata": {}
  },
  {
   "cell_type": "code",
   "execution_count": 609,
   "metadata": {
    "tags": []
   },
   "outputs": [
    {
     "output_type": "stream",
     "name": "stdout",
     "text": "Number of facades\n4\nNumber of floors\nGarden\nSurface garden\nTerrace\nTotal surface (m²)\n1393 m²\nSwimming pool\n"
    }
   ],
   "source": [
    "# First Btn collapse outdoor description\n",
    "\n",
    "time.sleep(0.5)\n",
    "btn_outdoor = driver.find_element_by_xpath('//*[@id=\"main_container\"]/div[4]/div[4]/div[4]/div[1]/div[17]/div/div/a')\n",
    "btn_outdoor.click()\n",
    "\n",
    "\n",
    "container_outdoor_details = driver.find_element_by_xpath('//*[@id=\"collapse_outdoor_details\"]')\n",
    "\n",
    "#container indoor details: surface, number of rooms, \n",
    "time.sleep(0.2)\n",
    "rows = container_outdoor_details.find_elements_by_class_name('row')\n",
    "for row in rows:\n",
    "    try:\n",
    "        info = row.find_element_by_class_name('col-6')\n",
    "    except:\n",
    "        info = row.find_element_by_class_name('col-8')\n",
    "\n",
    "\n",
    "    time.sleep(0.2)\n",
    "    print(info.text)\n",
    "    if info.text == 'Number of facades':\n",
    "        number_facade = info.find_element_by_xpath('./following-sibling::div').text\n",
    "        print(number_facade)\n",
    "        number_facades[0] = number_facade\n",
    "\n",
    "    elif info.text == 'Terrace':\n",
    "        \n",
    "        terrace = info.find_element_by_xpath('./following-sibling::div').text\n",
    "        # print(info.text, terrace)\n",
    "        if terrace.lower() == \"yes\":\n",
    "            terraces[0] = 1\n",
    "\n",
    "    elif info.text == 'Total surface (m²)':\n",
    "        surface_of_land = info.find_element_by_xpath('./following-sibling::div').text\n",
    "        surfaces_of_land[0] = surface_of_land\n",
    "        print(surface_of_land)\n",
    "\n",
    "    elif info.text == 'Swimming pool':\n",
    "        swimming_pool = info.find_element_by_xpath('./following-sibling::div').text\n",
    "        if swimming_pool.lower() == \"yes\":\n",
    "            has_swimming_pool[0] = 1\n",
    "\n",
    "    elif info.text == 'Surface garden':\n",
    "        superface_garden = info.find_element_by_xpath('./following-sibling::div').text\n",
    "    \n",
    "\n",
    "    elif info.text == \"Garden\":\n",
    "        garden = info.find_element_by_xpath('./following-sibling::div').text\n",
    "        if garden.lower() == \"yes\":\n",
    "            has_garden[0] = 1\n",
    "             \n",
    "\n",
    "print(number_facades, terraces,surfaces_of_land,has_swimming_pool, state_of_proprety)\n",
    "    # if info.text == 'Furnished':\n",
    "    #     furnished = info.find_element_by_xpath('./following-sibling::div').text\n",
    "    #     all_furnished.append(furnished)\n",
    "         "
   ]
  },
  {
   "source": [
    "## type of proprety\n",
    "### Subtype"
   ],
   "cell_type": "markdown",
   "metadata": {}
  },
  {
   "source": [
    "1. Locality\n",
    "1. Type of property (House/apartment)\n",
    "1. Subtype of property (Bungalow, Chalet, Mansion, ...)\n",
    "1. Price\n",
    "1. Type of sale (Exclusion of life sales)\n",
    "1. Number of rooms\n",
    "1. Area\n",
    "1. Fully equipped kitchen (Yes/No)\n",
    "1. Furnished (Yes/No)\n",
    "1. Open fire (Yes/No)\n",
    "1. Terrace (Yes/No)\n",
    "1. If yes: Area\n",
    "1. Garden (Yes/No)\n",
    "1. If yes: Area\n",
    "1. Surface of the land\n",
    "1. Surface area of the plot of land\n",
    "1. Number of facades\n",
    "1. Swimming pool (Yes/No)\n",
    "1. State of the building (New, to be renovated, ...)"
   ],
   "cell_type": "markdown",
   "metadata": {}
  },
  {
   "cell_type": "code",
   "execution_count": null,
   "metadata": {},
   "outputs": [],
   "source": []
  }
 ]
}