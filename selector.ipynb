{
 "metadata": {
  "language_info": {
   "codemirror_mode": {
    "name": "ipython",
    "version": 3
   },
   "file_extension": ".py",
   "mimetype": "text/x-python",
   "name": "python",
   "nbconvert_exporter": "python",
   "pygments_lexer": "ipython3",
   "version": "3.8.3-final"
  },
  "orig_nbformat": 2,
  "kernelspec": {
   "name": "Python 3.8.3 64-bit (conda)",
   "display_name": "Python 3.8.3 64-bit (conda)",
   "metadata": {
    "interpreter": {
     "hash": "3b1a8060338225f2bebef7ac4b2e7f6bf43c2f4428566c5ddcf188aa63f7df5e"
    }
   }
  }
 },
 "nbformat": 4,
 "nbformat_minor": 2,
 "cells": [
  {
   "source": [
    "## Mini Bot"
   ],
   "cell_type": "markdown",
   "metadata": {}
  },
  {
   "cell_type": "code",
   "execution_count": 14,
   "metadata": {
    "tags": []
   },
   "outputs": [
    {
     "output_type": "stream",
     "name": "stdout",
     "text": "Real estate website in Belgium. All the properties for sale and for rent in Belgium!\n"
    }
   ],
   "source": [
    "from selenium import webdriver\n",
    "from selenium.webdriver.common.keys import Keys # gives me access to the enter key \n",
    "import time\n",
    "\n",
    "PATH = \"C:\\\\Users\\\\didie\\\\WebDrivers\\\\chromedriver.exe\" # my path from windows\n",
    "\n",
    "driver = webdriver.Chrome(PATH)\n",
    "\n",
    "driver.get(\"https://immo.vlan.be/en\") # request \n",
    "print(driver.title)\n",
    "# driver.close() # to close the tab but I can use quit to quit the application\n",
    "\n"
   ]
  },
  {
   "source": [
    "### Cookie window management"
   ],
   "cell_type": "markdown",
   "metadata": {}
  },
  {
   "cell_type": "code",
   "execution_count": 15,
   "metadata": {
    "tags": []
   },
   "outputs": [
    {
     "output_type": "stream",
     "name": "stdout",
     "text": "[&lt;selenium.webdriver.remote.webelement.WebElement (session=&quot;e53b6747ff97c43eafa9dc952768eb5b&quot;, element=&quot;5fbdb008-cfc1-4113-adc6-4f6ac4f8182c&quot;)&gt;]\n"
    }
   ],
   "source": [
    "# first Id than name than class\n",
    "# let's get rid of the cookie pop window\n",
    "cookie_btn = driver.find_elements_by_id(\"didomi-notice-agree-button\")\n",
    "\n",
    "# click to close Popup cookies agreement window  \n",
    "cookie_btn[0].click() \n",
    "print(cookie_btn)"
   ]
  },
  {
   "source": [
    "### Tag Location "
   ],
   "cell_type": "markdown",
   "metadata": {}
  },
  {
   "cell_type": "code",
   "execution_count": 16,
   "metadata": {},
   "outputs": [],
   "source": [
    "# search by regions \n",
    "search_location_input = driver.find_element_by_name(\"search\")\n",
    "\n",
    "# list of my Areas \n",
    "areas = [\"Brussels (1000)\", \"Antwerp\", \"Hainaut (Province)\", \"West Flanders (Province)\", \"East Flanders (Province)\", \"Namur\", \"Luxembourg\" , \"Liege\", \"Brabant Wallon (Province)\", \"Brabant flamand (Province)\", \"Vlaams-Brabant (Province)\", \"Limburg\"]\n",
    "# Sending text on the input form\n",
    "search_location_input.send_keys(areas[0])\n",
    "\n",
    "search_location_input.send_keys(Keys.RETURN) #click to report a result"
   ]
  }
 ]
}