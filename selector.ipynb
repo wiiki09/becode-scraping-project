{
 "metadata": {
  "language_info": {
   "codemirror_mode": {
    "name": "ipython",
    "version": 3
   },
   "file_extension": ".py",
   "mimetype": "text/x-python",
   "name": "python",
   "nbconvert_exporter": "python",
   "pygments_lexer": "ipython3",
   "version": "3.8.3-final"
  },
  "orig_nbformat": 2,
  "kernelspec": {
   "name": "Python 3.8.3 64-bit (conda)",
   "display_name": "Python 3.8.3 64-bit (conda)",
   "metadata": {
    "interpreter": {
     "hash": "3b1a8060338225f2bebef7ac4b2e7f6bf43c2f4428566c5ddcf188aa63f7df5e"
    }
   }
  }
 },
 "nbformat": 4,
 "nbformat_minor": 2,
 "cells": [
  {
   "cell_type": "code",
   "execution_count": 1,
   "metadata": {},
   "outputs": [
    {
     "output_type": "error",
     "ename": "SyntaxError",
     "evalue": "(unicode error) &#39;unicodeescape&#39; codec can&#39;t decode bytes in position 2-3: truncated \\UXXXXXXXX escape (&lt;ipython-input-1-b0571a5a73ec&gt;, line 5)",
     "traceback": [
      "\u001b[1;36m  File \u001b[1;32m&quot;&lt;ipython-input-1-b0571a5a73ec&gt;&quot;\u001b[1;36m, line \u001b[1;32m5\u001b[0m\n\u001b[1;33m    PATH = &quot;C:\\Users\\didie\\WebDrivers&quot; # my path from windows\u001b[0m\n\u001b[1;37m           ^\u001b[0m\n\u001b[1;31mSyntaxError\u001b[0m\u001b[1;31m:\u001b[0m (unicode error) &#39;unicodeescape&#39; codec can&#39;t decode bytes in position 2-3: truncated \\UXXXXXXXX escape\n"
     ]
    }
   ],
   "source": [
    "from selenium import webdriver\n",
    "from selenium.webdriver.common.keys import Keys\n",
    "import time\n",
    "\n",
    "PATH = \"C:\\Users\\didie\\WebDrivers\" # my path from windows\n",
    "\n",
    "driver = webdriver.Chrome(PATH)\n",
    "\n",
    "driver.get(\"https://immo.vlan.be/en\") # request \n",
    "print(driver.title)\n",
    "driver.close() # to close the tab but I can use quit to quit the application"
   ]
  }
 ]
}