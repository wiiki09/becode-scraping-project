{
 "metadata": {
  "language_info": {
   "codemirror_mode": {
    "name": "ipython",
    "version": 3
   },
   "file_extension": ".py",
   "mimetype": "text/x-python",
   "name": "python",
   "nbconvert_exporter": "python",
   "pygments_lexer": "ipython3",
   "version": "3.8.3-final"
  },
  "orig_nbformat": 2,
  "kernelspec": {
   "name": "Python 3.8.3 64-bit (conda)",
   "display_name": "Python 3.8.3 64-bit (conda)",
   "metadata": {
    "interpreter": {
     "hash": "3b1a8060338225f2bebef7ac4b2e7f6bf43c2f4428566c5ddcf188aa63f7df5e"
    }
   }
  }
 },
 "nbformat": 4,
 "nbformat_minor": 2,
 "cells": [
  {
   "source": [
    "## Mini Bot"
   ],
   "cell_type": "markdown",
   "metadata": {}
  },
  {
   "cell_type": "code",
   "execution_count": 125,
   "metadata": {
    "tags": []
   },
   "outputs": [
    {
     "output_type": "stream",
     "name": "stdout",
     "text": "Real estate website in Belgium. All the properties for sale and for rent in Belgium!\n"
    }
   ],
   "source": [
    "from selenium import webdriver\n",
    "from selenium.webdriver.common.keys import Keys #gives me access to the enter key \n",
    "from selenium.webdriver.common.by import By\n",
    "from selenium.webdriver.support.ui import WebDriverWait\n",
    "from selenium.webdriver.support import expected_conditions as EC\n",
    "from bs4 import BeautifulSoup\n",
    "import time\n",
    "\n",
    "PATH = \"C:\\\\Users\\\\didie\\\\WebDrivers\\\\chromedriver.exe\" # my path from windows\n",
    "\n",
    "driver = webdriver.Chrome(PATH)\n",
    "\n",
    "driver.get(\"https://immo.vlan.be/en\") # request \n",
    "print(driver.title)\n",
    "# driver.close() # to close the tab but I can use quit to quit the application\n",
    "\n"
   ]
  },
  {
   "source": [
    "### Cookie window management"
   ],
   "cell_type": "markdown",
   "metadata": {}
  },
  {
   "cell_type": "code",
   "execution_count": 126,
   "metadata": {
    "tags": []
   },
   "outputs": [
    {
     "output_type": "stream",
     "name": "stdout",
     "text": "[&lt;selenium.webdriver.remote.webelement.WebElement (session=&quot;e8b67ccccdf700b93130c03639f2ef4e&quot;, element=&quot;18a3f5ab-7f96-4161-8fdd-a345d014bbd3&quot;)&gt;]\n"
    }
   ],
   "source": [
    "# first Id than name than class\n",
    "# let's get rid of the cookie pop window\n",
    "time.sleep(5)\n",
    "cookie_btn = driver.find_elements_by_id(\"didomi-notice-agree-button\")\n",
    "\n",
    "# click to close Popup cookies agreement window  \n",
    "cookie_btn[0].click() \n",
    "print(cookie_btn)"
   ]
  },
  {
   "source": [
    "### Tag Location "
   ],
   "cell_type": "markdown",
   "metadata": {}
  },
  {
   "cell_type": "code",
   "execution_count": 127,
   "metadata": {},
   "outputs": [],
   "source": [
    "# search by regions \n",
    "search_location_input = driver.find_element_by_name(\"search\")\n",
    "time.sleep(3)\n",
    "# list of my Areas \n",
    "areas = [\"Brussels (1000)\", \"Antwerp\", \"Hainaut (Province)\", \"West Flanders (Province)\", \"East Flanders (Province)\", \"Namur\", \"Luxembourg\" , \"Liege\", \"Brabant Wallon (Province)\", \"Brabant flamand (Province)\", \"Vlaams-Brabant (Province)\", \"Limburg\"]\n",
    "\n",
    "# Sending text on the input form\n",
    "search_location_input.send_keys(areas[0])\n",
    "time.sleep(2)\n",
    "\n",
    "search_location_input.send_keys(Keys.RETURN) #click to report a result\n",
    "\n",
    "# time.sleep(5)\n",
    "# driver.quit()"
   ]
  },
  {
   "source": [
    "# Isolation of single list view"
   ],
   "cell_type": "markdown",
   "metadata": {}
  },
  {
   "cell_type": "code",
   "execution_count": 128,
   "metadata": {
    "tags": []
   },
   "outputs": [
    {
     "output_type": "stream",
     "name": "stdout",
     "text": "&lt;selenium.webdriver.remote.webelement.WebElement (session=&quot;e8b67ccccdf700b93130c03639f2ef4e&quot;, element=&quot;d3edc3ce-79d4-43e8-a468-725243f3a9af&quot;)&gt;\n"
    }
   ],
   "source": [
    "# I need to rebuild links\n",
    "# let's do for one\n",
    "\n",
    "\n",
    "#First Method\n",
    "# list_view = WebDriverWait(driver, 10).until(EC.presence_of_element_located(By.xpath(\"//div[contains(@id, 'app-search')]\")))\n",
    "# list_view =\"\"\n",
    "# try:\n",
    "#     driver.implicitly_wait(15)\n",
    "#     list_view = driver.find_element_by_xpath(\"//div[contains(@id, 'app-search')]\")\n",
    "# finally:\n",
    "#     driver.implicitly_wait(15)\n",
    "#     print(list_view.text)\n",
    "# driver.quit()\n",
    "\n",
    "#Second Method\n",
    "time.sleep(10)\n",
    "list_view = driver.find_element_by_xpath(\"//div[contains(@id, 'app-search')]\")\n",
    "print(list_view)\n",
    "# print(list_view.text)\n",
    "\n"
   ]
  },
  {
   "source": [
    "# Append List page"
   ],
   "cell_type": "markdown",
   "metadata": {}
  },
  {
   "cell_type": "code",
   "execution_count": 129,
   "metadata": {
    "tags": []
   },
   "outputs": [
    {
     "output_type": "stream",
     "name": "stdout",
     "text": "[&#39;https://immo.vlan.be/en/detail/flat---apartment/for-sale/8620/nieuwpoort/rap57674&#39;, &#39;https://immo.vlan.be/en/detail/flat---studio/for-sale/8400/oostende/rap57672&#39;, &#39;https://immo.vlan.be/en/detail/residence/for-sale/9700/oudenaarde/rap57669&#39;, &#39;https://immo.vlan.be/en/detail/return-building/for-sale/1190/vorst/val86150&#39;, &#39;https://immo.vlan.be/en/detail/flat---apartment/for-sale/8530/harelbeke/rap57574&#39;, &#39;https://immo.vlan.be/en/detail/residence/for-sale/2310/rijkevorsel/rap57548&#39;, &#39;https://immo.vlan.be/en/detail/ground-floor/for-sale/8930/lauwe/rap57478&#39;, &#39;https://immo.vlan.be/en/detail/residence/for-sale/8530/harelbeke/rap57462&#39;, &#39;https://immo.vlan.be/en/detail/residence/for-sale/8560/gullegem/rap57461&#39;, &#39;https://immo.vlan.be/en/detail/development-site/for-sale/8930/lauwe/rap57454&#39;, &#39;https://immo.vlan.be/en/detail/residence/for-sale/8890/dadizele/rap57453&#39;, &#39;https://immo.vlan.be/en/detail/residence/for-sale/8792/desselgem/rap57452&#39;, &#39;https://immo.vlan.be/en/detail/residence/for-sale/8500/kortrijk/rap57447&#39;, &#39;https://immo.vlan.be/en/detail/flat---apartment/for-sale/8930/menen/rap57445&#39;, &#39;https://immo.vlan.be/en/detail/residence/for-sale/8800/roeselare/rap57413&#39;, &#39;https://immo.vlan.be/en/detail/residence/for-sale/8791/beveren-leie/rap57375&#39;, &#39;https://immo.vlan.be/en/detail/residence/for-sale/8800/roeselare/rap57354&#39;, &#39;https://immo.vlan.be/en/detail/residence/for-sale/8800/roeselare/rap57352&#39;, &#39;https://immo.vlan.be/en/detail/flat---apartment/for-sale/1700/dilbeek/rap57339&#39;, &#39;https://immo.vlan.be/en/detail/return-building/for-sale/9040/sint-amandsberg/rap57286&#39;, &#39;https://immo.vlan.be/en/detail/office-space/for-sale/8540/deerlijk/rap57214&#39;, &#39;https://immo.vlan.be/en/detail/flat---apartment/for-sale/8540/deerlijk/rap57213&#39;, &#39;https://immo.vlan.be/en/detail/flat---apartment/for-sale/8620/nieuwpoort/rap57207&#39;, &#39;https://immo.vlan.be/en/detail/villa/for-sale/8800/roeselare/rap57202&#39;, &#39;https://immo.vlan.be/en/detail/residence/for-sale/8710/sint-baafs-vijve/rap57169&#39;, &#39;https://immo.vlan.be/en/detail/residence/for-sale/2840/rumst/rap57094&#39;, &#39;https://immo.vlan.be/en/detail/flat---apartment/for-sale/2018/antwerp/rap57089&#39;, &#39;https://immo.vlan.be/en/detail/penthouse/for-sale/2018/antwerp/rap57086&#39;, &#39;https://immo.vlan.be/en/detail/duplex/for-sale/1160/oudergem/val85947&#39;, &#39;https://immo.vlan.be/en/detail/residence/for-sale/2500/lier/rap57038&#39;]\n30\n"
    }
   ],
   "source": [
    "\n",
    "thumbnails = list_view.find_elements_by_xpath(\"//a[contains(@href, '/en/detail')]\")\n",
    "properties_links = []\n",
    "for property in thumbnails:\n",
    "    if property.get_attribute('href') not in properties_links and '/en/detail/' in property.get_attribute('href'):\n",
    "        # print(property.get_attribute('href')) \n",
    "        properties_links.append(property.get_attribute('href'))\n",
    "print(properties_links)\n",
    "print(len(properties_links))\n",
    "\n"
   ]
  },
  {
   "source": [
    "### Make the Bot click each pages"
   ],
   "cell_type": "markdown",
   "metadata": {}
  },
  {
   "cell_type": "code",
   "execution_count": 131,
   "metadata": {},
   "outputs": [],
   "source": [
    "# Will be used in an iteration\n",
    "current_page=1\n",
    "current_page+=1\n",
    "current_link = driver.find_element_by_link_text(str(current_page))\n",
    "current_link.click()\n"
   ]
  },
  {
   "source": [
    "# Fetching data from one page"
   ],
   "cell_type": "markdown",
   "metadata": {}
  },
  {
   "cell_type": "code",
   "execution_count": 133,
   "metadata": {
    "tags": []
   },
   "outputs": [
    {
     "output_type": "stream",
     "name": "stdout",
     "text": "https://immo.vlan.be/en/detail/flat---apartment/for-sale/8620/nieuwpoort/rap57674\n"
    }
   ],
   "source": [
    "# Browsing one page\n",
    "current_link = properties_links[0]\n",
    "print(current_link)\n",
    "driver.get(current_link)"
   ]
  }
 ]
}